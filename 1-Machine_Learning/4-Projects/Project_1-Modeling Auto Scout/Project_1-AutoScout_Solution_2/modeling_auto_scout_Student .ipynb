{
 "cells": [
  {
   "cell_type": "markdown",
   "metadata": {
    "id": "i5WapR8JmqZN"
   },
   "source": [
    "# WELCOME!"
   ]
  },
  {
   "cell_type": "markdown",
   "metadata": {
    "id": "ZyeGWbuTmqZN"
   },
   "source": [
    "Welcome to \"***Car Price Prediction Project***\". This is the first medium project of ***Machine Learning*** course. In this project you will have the opportunity to apply many algorithms commonly used for regression problems.\n",
    "\n",
    "Also, you will apply various processes such as pre-processing, ***train-test spilit*** and ***cross validation*** that you will use in algorithm modeling and prediction processes in Python with ***scikit-learn***. \n",
    "\n",
    "Before diving into the project, please take a look at the determines and tasks.\n",
    "\n",
    "- **NOTE:** This project assumes that you already know the basics of coding in Python. You should also be familiar with the theory behind regression algorithms and scikit-learn module as well as Machine Learning before you begin.\n"
   ]
  },
  {
   "cell_type": "markdown",
   "metadata": {
    "id": "c0Iul5QymqZN"
   },
   "source": [
    "# #Determines\n",
    "\n",
    "**Auto Scout** data which using for this project, scraped from the on-line car trading company(https://www.autoscout24.com)in 2019, contains many features of 9 different car models. In this project, you will use the data set which is already preprocessed and prepared for algorithms .\n",
    "\n",
    "The aim of this project to understand of machine learning algorithms. Therefore, you will not need any EDA process as you will be working on the edited data.\n",
    "\n",
    "---\n",
    "\n",
    "In this Senario, you will estimate the prices of cars using regression algorithms.\n",
    "\n",
    "While starting you should import the necessary modules and load the data given as pkl file. Also you'll need to do a few pre-processing before moving to modelling. After that you will implement ***Linear Regression, Ridge Regression, Lasso Regression,and Elastic-Net algorithms respectively*** (After completion of Unsupervised Learning section, you can also add bagging and boosting algorithms such as ***Random Forest and XG Boost*** this notebook to develop the project). You can measure the success of your models with regression evaluation metrics as well as with cross validation method.\n",
    "\n",
    "For the better results, you should try to increase the success of your models by performing hyperparameter tuning. Determine feature importances for the model. You can set your model with the most important features for resource saving. You should try to apply this especially in Random Forest and XG Boost algorithms. Unlike the others, you will perform hyperparameter tuning for Random Forest and XG Boost using the ***GridSearchCV*** method. \n",
    "\n",
    "Finally You can compare the performances of algorithms, work more on the algorithm have the most successful prediction rate.\n",
    "\n",
    "\n",
    "\n",
    "\n"
   ]
  },
  {
   "cell_type": "markdown",
   "metadata": {
    "id": "pL-jJ1irmqZN"
   },
   "source": [
    "# #Tasks\n",
    "\n",
    "#### 1. Import Modules, Load Data and Data Review\n",
    "#### 2. Data Pre-Processing\n",
    "#### 3. Implement Linear Regression \n",
    "#### 4. Implement Ridge Regression\n",
    "#### 5. Implement Lasso Regression \n",
    "#### 6. Implement Elastic-Net\n",
    "#### 7. Visually Compare Models Performance In a Graph"
   ]
  },
  {
   "cell_type": "markdown",
   "metadata": {
    "id": "Rik6d_vimqZN"
   },
   "source": [
    "## 1. Import Modules, Load Data and Data Review"
   ]
  },
  {
   "cell_type": "code",
   "execution_count": 1,
   "metadata": {
    "id": "QBddHlqgmqZN"
   },
   "outputs": [],
   "source": [
    "import numpy as np\n",
    "import pandas as pd\n",
    "import matplotlib.pyplot as plt\n",
    "import seaborn as sns\n",
    "plt.rcParams[\"figure.figsize\"] = (10,6)\n",
    "pd.set_option('display.max_columns', 100)\n",
    "import warnings\n",
    "warnings.filterwarnings('ignore')\n",
    "pd.options.display.float_format = '{:.3f}'.format"
   ]
  },
  {
   "cell_type": "markdown",
   "metadata": {
    "id": "QsEUUAAKmqZN"
   },
   "source": [
    "## 2. Data Pre-Processing"
   ]
  },
  {
   "cell_type": "markdown",
   "metadata": {
    "id": "QtVkM6f2mqZN"
   },
   "source": [
    "As you know, the data set must be edited before proceeding to the implementation of the model. As the last step before model fitting, you need to spilit the data set as train and test. Then, you should train the model with train data and evaluate the performance of the model on the test data. You can use the train and test data you have created for all algorithms.\n",
    "\n",
    "You must also drop your target variable, the column you are trying to predict."
   ]
  },
  {
   "cell_type": "markdown",
   "metadata": {
    "id": "K7d_92iemqZN"
   },
   "source": [
    "You can use many [performance metrics for regression](https://medium.com/analytics-vidhya/evaluation-metrics-for-regression-problems-343c4923d922) to measure the performance of the regression model you train. You can define a function to view different metric results together.\n",
    "\n",
    "You can also use the [cross validation](https://towardsdatascience.com/cross-validation-explained-evaluating-estimator-performance-e51e5430ff85) method to measure the estimator performance. Cross validation uses different data samples from your test set and calculates the accuracy score for each data sample. You can calculate the final performance of your estimator by averaging these scores."
   ]
  },
  {
   "cell_type": "code",
   "execution_count": 2,
   "metadata": {
    "id": "-3gMQ3utmqZN"
   },
   "outputs": [
    {
     "data": {
      "text/html": [
       "<div>\n",
       "<style scoped>\n",
       "    .dataframe tbody tr th:only-of-type {\n",
       "        vertical-align: middle;\n",
       "    }\n",
       "\n",
       "    .dataframe tbody tr th {\n",
       "        vertical-align: top;\n",
       "    }\n",
       "\n",
       "    .dataframe thead th {\n",
       "        text-align: right;\n",
       "    }\n",
       "</style>\n",
       "<table border=\"1\" class=\"dataframe\">\n",
       "  <thead>\n",
       "    <tr style=\"text-align: right;\">\n",
       "      <th></th>\n",
       "      <th>price(€)</th>\n",
       "      <th>km</th>\n",
       "      <th>hp(kw)</th>\n",
       "      <th>previous_owners</th>\n",
       "      <th>num_of_door</th>\n",
       "      <th>num_of_seat</th>\n",
       "      <th>displacement(cc)</th>\n",
       "      <th>cylinders</th>\n",
       "      <th>weight(kg)</th>\n",
       "      <th>co2_emission(g/km)</th>\n",
       "      <th>gears</th>\n",
       "      <th>age</th>\n",
       "      <th>consumption_comb(100km/l)</th>\n",
       "      <th>CC_Air conditioning</th>\n",
       "      <th>CC_Air suspension</th>\n",
       "      <th>CC_Armrest</th>\n",
       "      <th>CC_Automatic climate control</th>\n",
       "      <th>CC_Auxiliary heating</th>\n",
       "      <th>CC_Cruise control</th>\n",
       "      <th>CC_Electric Starter</th>\n",
       "      <th>CC_Electric tailgate</th>\n",
       "      <th>CC_Electrical side mirrors</th>\n",
       "      <th>CC_Electrically adjustable seats</th>\n",
       "      <th>CC_Electrically heated windshield</th>\n",
       "      <th>CC_Heads-up display</th>\n",
       "      <th>CC_Heated steering wheel</th>\n",
       "      <th>CC_Hill Holder</th>\n",
       "      <th>CC_Keyless central door lock</th>\n",
       "      <th>CC_Leather seats</th>\n",
       "      <th>CC_Leather steering wheel</th>\n",
       "      <th>CC_Light sensor</th>\n",
       "      <th>CC_Lumbar support</th>\n",
       "      <th>CC_Massage seats</th>\n",
       "      <th>CC_Multi-function steering wheel</th>\n",
       "      <th>CC_Navigation system</th>\n",
       "      <th>CC_Panorama roof</th>\n",
       "      <th>CC_Park Distance Control</th>\n",
       "      <th>CC_Parking assist system camera</th>\n",
       "      <th>CC_Parking assist system self-steering</th>\n",
       "      <th>CC_Parking assist system sensors front</th>\n",
       "      <th>CC_Parking assist system sensors rear</th>\n",
       "      <th>CC_Power windows</th>\n",
       "      <th>CC_Rain sensor</th>\n",
       "      <th>CC_Seat heating</th>\n",
       "      <th>CC_Seat ventilation</th>\n",
       "      <th>CC_Split rear seats</th>\n",
       "      <th>CC_Start-stop system</th>\n",
       "      <th>CC_Sunroof</th>\n",
       "      <th>CC_Tinted windows</th>\n",
       "      <th>CC_Wind deflector</th>\n",
       "      <th>...</th>\n",
       "      <th>SS_Tire pressure monitoring system</th>\n",
       "      <th>SS_Traction control</th>\n",
       "      <th>SS_Traffic sign recognition</th>\n",
       "      <th>SS_Xenon headlights</th>\n",
       "      <th>make_model_Audi A3</th>\n",
       "      <th>make_model_Opel Astra</th>\n",
       "      <th>make_model_Opel Corsa</th>\n",
       "      <th>make_model_Opel Insignia</th>\n",
       "      <th>make_model_Renault Clio</th>\n",
       "      <th>make_model_Renault Duster</th>\n",
       "      <th>make_model_Renault Espace</th>\n",
       "      <th>body_type_Convertible</th>\n",
       "      <th>body_type_Coupe</th>\n",
       "      <th>body_type_Off-Road</th>\n",
       "      <th>body_type_Other</th>\n",
       "      <th>body_type_Sedans</th>\n",
       "      <th>body_type_Station wagon</th>\n",
       "      <th>body_type_Transporter</th>\n",
       "      <th>body_type_Van</th>\n",
       "      <th>vat_VAT deductible</th>\n",
       "      <th>type_Employee's car</th>\n",
       "      <th>type_New</th>\n",
       "      <th>type_Pre-registered</th>\n",
       "      <th>type_Used</th>\n",
       "      <th>inspection_new_Yes</th>\n",
       "      <th>paint_type_Perl effect</th>\n",
       "      <th>paint_type_Uni/basic</th>\n",
       "      <th>gearing_type_Manual</th>\n",
       "      <th>gearing_type_Semi-automatic</th>\n",
       "      <th>drive_chain_front</th>\n",
       "      <th>drive_chain_rear</th>\n",
       "      <th>fuel_Diesel</th>\n",
       "      <th>fuel_Electric</th>\n",
       "      <th>fuel_LPG/CNG</th>\n",
       "      <th>emission_class_Euro 5</th>\n",
       "      <th>emission_class_Euro 6</th>\n",
       "      <th>upholstery_style_Full leather</th>\n",
       "      <th>upholstery_style_Other</th>\n",
       "      <th>upholstery_style_Part leather</th>\n",
       "      <th>upholstery_style_Velour</th>\n",
       "      <th>upholstery_style_alcantara</th>\n",
       "      <th>upholstery_color_Black</th>\n",
       "      <th>upholstery_color_Blue</th>\n",
       "      <th>upholstery_color_Brown</th>\n",
       "      <th>upholstery_color_Grey</th>\n",
       "      <th>upholstery_color_Orange</th>\n",
       "      <th>upholstery_color_Other</th>\n",
       "      <th>upholstery_color_Red</th>\n",
       "      <th>upholstery_color_White</th>\n",
       "      <th>upholstery_color_Yellow</th>\n",
       "    </tr>\n",
       "  </thead>\n",
       "  <tbody>\n",
       "    <tr>\n",
       "      <th>0</th>\n",
       "      <td>15770</td>\n",
       "      <td>56013.000</td>\n",
       "      <td>66.000</td>\n",
       "      <td>2.000</td>\n",
       "      <td>5.000</td>\n",
       "      <td>5.000</td>\n",
       "      <td>1422.000</td>\n",
       "      <td>3.000</td>\n",
       "      <td>1220.000</td>\n",
       "      <td>99.000</td>\n",
       "      <td>7.000</td>\n",
       "      <td>3.000</td>\n",
       "      <td>3.800</td>\n",
       "      <td>1</td>\n",
       "      <td>0</td>\n",
       "      <td>1</td>\n",
       "      <td>1</td>\n",
       "      <td>0</td>\n",
       "      <td>1</td>\n",
       "      <td>0</td>\n",
       "      <td>0</td>\n",
       "      <td>1</td>\n",
       "      <td>0</td>\n",
       "      <td>0</td>\n",
       "      <td>0</td>\n",
       "      <td>0</td>\n",
       "      <td>1</td>\n",
       "      <td>0</td>\n",
       "      <td>0</td>\n",
       "      <td>1</td>\n",
       "      <td>1</td>\n",
       "      <td>0</td>\n",
       "      <td>0</td>\n",
       "      <td>1</td>\n",
       "      <td>1</td>\n",
       "      <td>0</td>\n",
       "      <td>1</td>\n",
       "      <td>0</td>\n",
       "      <td>0</td>\n",
       "      <td>0</td>\n",
       "      <td>1</td>\n",
       "      <td>1</td>\n",
       "      <td>1</td>\n",
       "      <td>1</td>\n",
       "      <td>0</td>\n",
       "      <td>0</td>\n",
       "      <td>1</td>\n",
       "      <td>0</td>\n",
       "      <td>0</td>\n",
       "      <td>0</td>\n",
       "      <td>...</td>\n",
       "      <td>1</td>\n",
       "      <td>1</td>\n",
       "      <td>0</td>\n",
       "      <td>1</td>\n",
       "      <td>0</td>\n",
       "      <td>0</td>\n",
       "      <td>0</td>\n",
       "      <td>0</td>\n",
       "      <td>0</td>\n",
       "      <td>0</td>\n",
       "      <td>0</td>\n",
       "      <td>0</td>\n",
       "      <td>0</td>\n",
       "      <td>0</td>\n",
       "      <td>0</td>\n",
       "      <td>1</td>\n",
       "      <td>0</td>\n",
       "      <td>0</td>\n",
       "      <td>0</td>\n",
       "      <td>1</td>\n",
       "      <td>0</td>\n",
       "      <td>0</td>\n",
       "      <td>0</td>\n",
       "      <td>1</td>\n",
       "      <td>1</td>\n",
       "      <td>0</td>\n",
       "      <td>0</td>\n",
       "      <td>0</td>\n",
       "      <td>0</td>\n",
       "      <td>1</td>\n",
       "      <td>0</td>\n",
       "      <td>1</td>\n",
       "      <td>0</td>\n",
       "      <td>0</td>\n",
       "      <td>0</td>\n",
       "      <td>1</td>\n",
       "      <td>0</td>\n",
       "      <td>0</td>\n",
       "      <td>0</td>\n",
       "      <td>0</td>\n",
       "      <td>0</td>\n",
       "      <td>1</td>\n",
       "      <td>0</td>\n",
       "      <td>0</td>\n",
       "      <td>0</td>\n",
       "      <td>0</td>\n",
       "      <td>0</td>\n",
       "      <td>0</td>\n",
       "      <td>0</td>\n",
       "      <td>0</td>\n",
       "    </tr>\n",
       "    <tr>\n",
       "      <th>1</th>\n",
       "      <td>14500</td>\n",
       "      <td>80000.000</td>\n",
       "      <td>70.000</td>\n",
       "      <td>1.000</td>\n",
       "      <td>3.000</td>\n",
       "      <td>4.000</td>\n",
       "      <td>1798.000</td>\n",
       "      <td>4.000</td>\n",
       "      <td>1255.000</td>\n",
       "      <td>129.000</td>\n",
       "      <td>7.000</td>\n",
       "      <td>2.000</td>\n",
       "      <td>5.600</td>\n",
       "      <td>1</td>\n",
       "      <td>0</td>\n",
       "      <td>0</td>\n",
       "      <td>1</td>\n",
       "      <td>0</td>\n",
       "      <td>0</td>\n",
       "      <td>0</td>\n",
       "      <td>0</td>\n",
       "      <td>0</td>\n",
       "      <td>0</td>\n",
       "      <td>0</td>\n",
       "      <td>0</td>\n",
       "      <td>0</td>\n",
       "      <td>1</td>\n",
       "      <td>0</td>\n",
       "      <td>0</td>\n",
       "      <td>1</td>\n",
       "      <td>0</td>\n",
       "      <td>1</td>\n",
       "      <td>0</td>\n",
       "      <td>0</td>\n",
       "      <td>0</td>\n",
       "      <td>0</td>\n",
       "      <td>0</td>\n",
       "      <td>0</td>\n",
       "      <td>0</td>\n",
       "      <td>0</td>\n",
       "      <td>1</td>\n",
       "      <td>1</td>\n",
       "      <td>0</td>\n",
       "      <td>0</td>\n",
       "      <td>0</td>\n",
       "      <td>0</td>\n",
       "      <td>1</td>\n",
       "      <td>0</td>\n",
       "      <td>1</td>\n",
       "      <td>0</td>\n",
       "      <td>...</td>\n",
       "      <td>1</td>\n",
       "      <td>1</td>\n",
       "      <td>0</td>\n",
       "      <td>1</td>\n",
       "      <td>0</td>\n",
       "      <td>0</td>\n",
       "      <td>0</td>\n",
       "      <td>0</td>\n",
       "      <td>0</td>\n",
       "      <td>0</td>\n",
       "      <td>0</td>\n",
       "      <td>0</td>\n",
       "      <td>0</td>\n",
       "      <td>0</td>\n",
       "      <td>0</td>\n",
       "      <td>1</td>\n",
       "      <td>0</td>\n",
       "      <td>0</td>\n",
       "      <td>0</td>\n",
       "      <td>0</td>\n",
       "      <td>0</td>\n",
       "      <td>0</td>\n",
       "      <td>0</td>\n",
       "      <td>1</td>\n",
       "      <td>0</td>\n",
       "      <td>0</td>\n",
       "      <td>0</td>\n",
       "      <td>0</td>\n",
       "      <td>0</td>\n",
       "      <td>1</td>\n",
       "      <td>0</td>\n",
       "      <td>0</td>\n",
       "      <td>0</td>\n",
       "      <td>0</td>\n",
       "      <td>0</td>\n",
       "      <td>1</td>\n",
       "      <td>0</td>\n",
       "      <td>0</td>\n",
       "      <td>0</td>\n",
       "      <td>0</td>\n",
       "      <td>0</td>\n",
       "      <td>0</td>\n",
       "      <td>0</td>\n",
       "      <td>0</td>\n",
       "      <td>1</td>\n",
       "      <td>0</td>\n",
       "      <td>0</td>\n",
       "      <td>0</td>\n",
       "      <td>0</td>\n",
       "      <td>0</td>\n",
       "    </tr>\n",
       "    <tr>\n",
       "      <th>2</th>\n",
       "      <td>14640</td>\n",
       "      <td>83450.000</td>\n",
       "      <td>85.000</td>\n",
       "      <td>1.000</td>\n",
       "      <td>4.000</td>\n",
       "      <td>4.000</td>\n",
       "      <td>1598.000</td>\n",
       "      <td>3.000</td>\n",
       "      <td>1255.000</td>\n",
       "      <td>99.000</td>\n",
       "      <td>7.000</td>\n",
       "      <td>3.000</td>\n",
       "      <td>3.800</td>\n",
       "      <td>1</td>\n",
       "      <td>0</td>\n",
       "      <td>0</td>\n",
       "      <td>0</td>\n",
       "      <td>0</td>\n",
       "      <td>1</td>\n",
       "      <td>0</td>\n",
       "      <td>0</td>\n",
       "      <td>1</td>\n",
       "      <td>0</td>\n",
       "      <td>0</td>\n",
       "      <td>0</td>\n",
       "      <td>0</td>\n",
       "      <td>1</td>\n",
       "      <td>0</td>\n",
       "      <td>0</td>\n",
       "      <td>1</td>\n",
       "      <td>0</td>\n",
       "      <td>0</td>\n",
       "      <td>0</td>\n",
       "      <td>1</td>\n",
       "      <td>1</td>\n",
       "      <td>0</td>\n",
       "      <td>1</td>\n",
       "      <td>0</td>\n",
       "      <td>0</td>\n",
       "      <td>1</td>\n",
       "      <td>1</td>\n",
       "      <td>1</td>\n",
       "      <td>0</td>\n",
       "      <td>1</td>\n",
       "      <td>0</td>\n",
       "      <td>0</td>\n",
       "      <td>1</td>\n",
       "      <td>0</td>\n",
       "      <td>0</td>\n",
       "      <td>0</td>\n",
       "      <td>...</td>\n",
       "      <td>1</td>\n",
       "      <td>1</td>\n",
       "      <td>0</td>\n",
       "      <td>0</td>\n",
       "      <td>0</td>\n",
       "      <td>0</td>\n",
       "      <td>0</td>\n",
       "      <td>0</td>\n",
       "      <td>0</td>\n",
       "      <td>0</td>\n",
       "      <td>0</td>\n",
       "      <td>0</td>\n",
       "      <td>0</td>\n",
       "      <td>0</td>\n",
       "      <td>0</td>\n",
       "      <td>1</td>\n",
       "      <td>0</td>\n",
       "      <td>0</td>\n",
       "      <td>0</td>\n",
       "      <td>1</td>\n",
       "      <td>0</td>\n",
       "      <td>0</td>\n",
       "      <td>0</td>\n",
       "      <td>1</td>\n",
       "      <td>0</td>\n",
       "      <td>0</td>\n",
       "      <td>0</td>\n",
       "      <td>0</td>\n",
       "      <td>0</td>\n",
       "      <td>1</td>\n",
       "      <td>0</td>\n",
       "      <td>1</td>\n",
       "      <td>0</td>\n",
       "      <td>0</td>\n",
       "      <td>0</td>\n",
       "      <td>1</td>\n",
       "      <td>0</td>\n",
       "      <td>0</td>\n",
       "      <td>0</td>\n",
       "      <td>0</td>\n",
       "      <td>0</td>\n",
       "      <td>1</td>\n",
       "      <td>0</td>\n",
       "      <td>0</td>\n",
       "      <td>0</td>\n",
       "      <td>0</td>\n",
       "      <td>0</td>\n",
       "      <td>0</td>\n",
       "      <td>0</td>\n",
       "      <td>0</td>\n",
       "    </tr>\n",
       "    <tr>\n",
       "      <th>3</th>\n",
       "      <td>14500</td>\n",
       "      <td>73000.000</td>\n",
       "      <td>66.000</td>\n",
       "      <td>1.000</td>\n",
       "      <td>3.000</td>\n",
       "      <td>4.000</td>\n",
       "      <td>1422.000</td>\n",
       "      <td>3.000</td>\n",
       "      <td>1195.000</td>\n",
       "      <td>99.000</td>\n",
       "      <td>6.000</td>\n",
       "      <td>3.000</td>\n",
       "      <td>3.800</td>\n",
       "      <td>0</td>\n",
       "      <td>1</td>\n",
       "      <td>1</td>\n",
       "      <td>0</td>\n",
       "      <td>1</td>\n",
       "      <td>0</td>\n",
       "      <td>0</td>\n",
       "      <td>0</td>\n",
       "      <td>1</td>\n",
       "      <td>0</td>\n",
       "      <td>0</td>\n",
       "      <td>1</td>\n",
       "      <td>0</td>\n",
       "      <td>1</td>\n",
       "      <td>0</td>\n",
       "      <td>0</td>\n",
       "      <td>1</td>\n",
       "      <td>1</td>\n",
       "      <td>1</td>\n",
       "      <td>0</td>\n",
       "      <td>1</td>\n",
       "      <td>1</td>\n",
       "      <td>0</td>\n",
       "      <td>0</td>\n",
       "      <td>0</td>\n",
       "      <td>0</td>\n",
       "      <td>0</td>\n",
       "      <td>0</td>\n",
       "      <td>1</td>\n",
       "      <td>1</td>\n",
       "      <td>1</td>\n",
       "      <td>0</td>\n",
       "      <td>1</td>\n",
       "      <td>1</td>\n",
       "      <td>0</td>\n",
       "      <td>0</td>\n",
       "      <td>0</td>\n",
       "      <td>...</td>\n",
       "      <td>1</td>\n",
       "      <td>0</td>\n",
       "      <td>0</td>\n",
       "      <td>0</td>\n",
       "      <td>0</td>\n",
       "      <td>0</td>\n",
       "      <td>0</td>\n",
       "      <td>0</td>\n",
       "      <td>0</td>\n",
       "      <td>0</td>\n",
       "      <td>0</td>\n",
       "      <td>0</td>\n",
       "      <td>0</td>\n",
       "      <td>0</td>\n",
       "      <td>0</td>\n",
       "      <td>1</td>\n",
       "      <td>0</td>\n",
       "      <td>0</td>\n",
       "      <td>0</td>\n",
       "      <td>1</td>\n",
       "      <td>0</td>\n",
       "      <td>0</td>\n",
       "      <td>0</td>\n",
       "      <td>1</td>\n",
       "      <td>0</td>\n",
       "      <td>0</td>\n",
       "      <td>0</td>\n",
       "      <td>0</td>\n",
       "      <td>0</td>\n",
       "      <td>1</td>\n",
       "      <td>0</td>\n",
       "      <td>1</td>\n",
       "      <td>0</td>\n",
       "      <td>0</td>\n",
       "      <td>0</td>\n",
       "      <td>1</td>\n",
       "      <td>0</td>\n",
       "      <td>0</td>\n",
       "      <td>0</td>\n",
       "      <td>0</td>\n",
       "      <td>0</td>\n",
       "      <td>1</td>\n",
       "      <td>0</td>\n",
       "      <td>0</td>\n",
       "      <td>0</td>\n",
       "      <td>0</td>\n",
       "      <td>0</td>\n",
       "      <td>0</td>\n",
       "      <td>0</td>\n",
       "      <td>0</td>\n",
       "    </tr>\n",
       "    <tr>\n",
       "      <th>4</th>\n",
       "      <td>16790</td>\n",
       "      <td>16200.000</td>\n",
       "      <td>66.000</td>\n",
       "      <td>1.000</td>\n",
       "      <td>5.000</td>\n",
       "      <td>5.000</td>\n",
       "      <td>1422.000</td>\n",
       "      <td>3.000</td>\n",
       "      <td>1195.000</td>\n",
       "      <td>109.000</td>\n",
       "      <td>6.000</td>\n",
       "      <td>3.000</td>\n",
       "      <td>4.100</td>\n",
       "      <td>1</td>\n",
       "      <td>0</td>\n",
       "      <td>1</td>\n",
       "      <td>1</td>\n",
       "      <td>0</td>\n",
       "      <td>0</td>\n",
       "      <td>0</td>\n",
       "      <td>0</td>\n",
       "      <td>1</td>\n",
       "      <td>0</td>\n",
       "      <td>0</td>\n",
       "      <td>0</td>\n",
       "      <td>0</td>\n",
       "      <td>1</td>\n",
       "      <td>0</td>\n",
       "      <td>0</td>\n",
       "      <td>1</td>\n",
       "      <td>1</td>\n",
       "      <td>0</td>\n",
       "      <td>0</td>\n",
       "      <td>1</td>\n",
       "      <td>0</td>\n",
       "      <td>0</td>\n",
       "      <td>1</td>\n",
       "      <td>0</td>\n",
       "      <td>0</td>\n",
       "      <td>0</td>\n",
       "      <td>1</td>\n",
       "      <td>1</td>\n",
       "      <td>1</td>\n",
       "      <td>0</td>\n",
       "      <td>0</td>\n",
       "      <td>0</td>\n",
       "      <td>1</td>\n",
       "      <td>0</td>\n",
       "      <td>0</td>\n",
       "      <td>0</td>\n",
       "      <td>...</td>\n",
       "      <td>1</td>\n",
       "      <td>1</td>\n",
       "      <td>0</td>\n",
       "      <td>1</td>\n",
       "      <td>0</td>\n",
       "      <td>0</td>\n",
       "      <td>0</td>\n",
       "      <td>0</td>\n",
       "      <td>0</td>\n",
       "      <td>0</td>\n",
       "      <td>0</td>\n",
       "      <td>0</td>\n",
       "      <td>0</td>\n",
       "      <td>0</td>\n",
       "      <td>0</td>\n",
       "      <td>1</td>\n",
       "      <td>0</td>\n",
       "      <td>0</td>\n",
       "      <td>0</td>\n",
       "      <td>1</td>\n",
       "      <td>0</td>\n",
       "      <td>0</td>\n",
       "      <td>0</td>\n",
       "      <td>1</td>\n",
       "      <td>1</td>\n",
       "      <td>0</td>\n",
       "      <td>0</td>\n",
       "      <td>0</td>\n",
       "      <td>0</td>\n",
       "      <td>1</td>\n",
       "      <td>0</td>\n",
       "      <td>1</td>\n",
       "      <td>0</td>\n",
       "      <td>0</td>\n",
       "      <td>0</td>\n",
       "      <td>1</td>\n",
       "      <td>0</td>\n",
       "      <td>0</td>\n",
       "      <td>0</td>\n",
       "      <td>0</td>\n",
       "      <td>0</td>\n",
       "      <td>1</td>\n",
       "      <td>0</td>\n",
       "      <td>0</td>\n",
       "      <td>0</td>\n",
       "      <td>0</td>\n",
       "      <td>0</td>\n",
       "      <td>0</td>\n",
       "      <td>0</td>\n",
       "      <td>0</td>\n",
       "    </tr>\n",
       "  </tbody>\n",
       "</table>\n",
       "<p>5 rows × 153 columns</p>\n",
       "</div>"
      ],
      "text/plain": [
       "   price(€)        km  hp(kw)  previous_owners  num_of_door  num_of_seat  \\\n",
       "0     15770 56013.000  66.000            2.000        5.000        5.000   \n",
       "1     14500 80000.000  70.000            1.000        3.000        4.000   \n",
       "2     14640 83450.000  85.000            1.000        4.000        4.000   \n",
       "3     14500 73000.000  66.000            1.000        3.000        4.000   \n",
       "4     16790 16200.000  66.000            1.000        5.000        5.000   \n",
       "\n",
       "   displacement(cc)  cylinders  weight(kg)  co2_emission(g/km)  gears   age  \\\n",
       "0          1422.000      3.000    1220.000              99.000  7.000 3.000   \n",
       "1          1798.000      4.000    1255.000             129.000  7.000 2.000   \n",
       "2          1598.000      3.000    1255.000              99.000  7.000 3.000   \n",
       "3          1422.000      3.000    1195.000              99.000  6.000 3.000   \n",
       "4          1422.000      3.000    1195.000             109.000  6.000 3.000   \n",
       "\n",
       "   consumption_comb(100km/l)  CC_Air conditioning  CC_Air suspension  \\\n",
       "0                      3.800                    1                  0   \n",
       "1                      5.600                    1                  0   \n",
       "2                      3.800                    1                  0   \n",
       "3                      3.800                    0                  1   \n",
       "4                      4.100                    1                  0   \n",
       "\n",
       "   CC_Armrest  CC_Automatic climate control  CC_Auxiliary heating  \\\n",
       "0           1                             1                     0   \n",
       "1           0                             1                     0   \n",
       "2           0                             0                     0   \n",
       "3           1                             0                     1   \n",
       "4           1                             1                     0   \n",
       "\n",
       "   CC_Cruise control  CC_Electric Starter  CC_Electric tailgate  \\\n",
       "0                  1                    0                     0   \n",
       "1                  0                    0                     0   \n",
       "2                  1                    0                     0   \n",
       "3                  0                    0                     0   \n",
       "4                  0                    0                     0   \n",
       "\n",
       "   CC_Electrical side mirrors  CC_Electrically adjustable seats  \\\n",
       "0                           1                                 0   \n",
       "1                           0                                 0   \n",
       "2                           1                                 0   \n",
       "3                           1                                 0   \n",
       "4                           1                                 0   \n",
       "\n",
       "   CC_Electrically heated windshield  CC_Heads-up display  \\\n",
       "0                                  0                    0   \n",
       "1                                  0                    0   \n",
       "2                                  0                    0   \n",
       "3                                  0                    1   \n",
       "4                                  0                    0   \n",
       "\n",
       "   CC_Heated steering wheel  CC_Hill Holder  CC_Keyless central door lock  \\\n",
       "0                         0               1                             0   \n",
       "1                         0               1                             0   \n",
       "2                         0               1                             0   \n",
       "3                         0               1                             0   \n",
       "4                         0               1                             0   \n",
       "\n",
       "   CC_Leather seats  CC_Leather steering wheel  CC_Light sensor  \\\n",
       "0                 0                          1                1   \n",
       "1                 0                          1                0   \n",
       "2                 0                          1                0   \n",
       "3                 0                          1                1   \n",
       "4                 0                          1                1   \n",
       "\n",
       "   CC_Lumbar support  CC_Massage seats  CC_Multi-function steering wheel  \\\n",
       "0                  0                 0                                 1   \n",
       "1                  1                 0                                 0   \n",
       "2                  0                 0                                 1   \n",
       "3                  1                 0                                 1   \n",
       "4                  0                 0                                 1   \n",
       "\n",
       "   CC_Navigation system  CC_Panorama roof  CC_Park Distance Control  \\\n",
       "0                     1                 0                         1   \n",
       "1                     0                 0                         0   \n",
       "2                     1                 0                         1   \n",
       "3                     1                 0                         0   \n",
       "4                     0                 0                         1   \n",
       "\n",
       "   CC_Parking assist system camera  CC_Parking assist system self-steering  \\\n",
       "0                                0                                       0   \n",
       "1                                0                                       0   \n",
       "2                                0                                       0   \n",
       "3                                0                                       0   \n",
       "4                                0                                       0   \n",
       "\n",
       "   CC_Parking assist system sensors front  \\\n",
       "0                                       0   \n",
       "1                                       0   \n",
       "2                                       1   \n",
       "3                                       0   \n",
       "4                                       0   \n",
       "\n",
       "   CC_Parking assist system sensors rear  CC_Power windows  CC_Rain sensor  \\\n",
       "0                                      1                 1               1   \n",
       "1                                      1                 1               0   \n",
       "2                                      1                 1               0   \n",
       "3                                      0                 1               1   \n",
       "4                                      1                 1               1   \n",
       "\n",
       "   CC_Seat heating  CC_Seat ventilation  CC_Split rear seats  \\\n",
       "0                1                    0                    0   \n",
       "1                0                    0                    0   \n",
       "2                1                    0                    0   \n",
       "3                1                    0                    1   \n",
       "4                0                    0                    0   \n",
       "\n",
       "   CC_Start-stop system  CC_Sunroof  CC_Tinted windows  CC_Wind deflector  \\\n",
       "0                     1           0                  0                  0   \n",
       "1                     1           0                  1                  0   \n",
       "2                     1           0                  0                  0   \n",
       "3                     1           0                  0                  0   \n",
       "4                     1           0                  0                  0   \n",
       "\n",
       "   ...  SS_Tire pressure monitoring system  SS_Traction control  \\\n",
       "0  ...                                   1                    1   \n",
       "1  ...                                   1                    1   \n",
       "2  ...                                   1                    1   \n",
       "3  ...                                   1                    0   \n",
       "4  ...                                   1                    1   \n",
       "\n",
       "   SS_Traffic sign recognition  SS_Xenon headlights  make_model_Audi A3  \\\n",
       "0                            0                    1                   0   \n",
       "1                            0                    1                   0   \n",
       "2                            0                    0                   0   \n",
       "3                            0                    0                   0   \n",
       "4                            0                    1                   0   \n",
       "\n",
       "   make_model_Opel Astra  make_model_Opel Corsa  make_model_Opel Insignia  \\\n",
       "0                      0                      0                         0   \n",
       "1                      0                      0                         0   \n",
       "2                      0                      0                         0   \n",
       "3                      0                      0                         0   \n",
       "4                      0                      0                         0   \n",
       "\n",
       "   make_model_Renault Clio  make_model_Renault Duster  \\\n",
       "0                        0                          0   \n",
       "1                        0                          0   \n",
       "2                        0                          0   \n",
       "3                        0                          0   \n",
       "4                        0                          0   \n",
       "\n",
       "   make_model_Renault Espace  body_type_Convertible  body_type_Coupe  \\\n",
       "0                          0                      0                0   \n",
       "1                          0                      0                0   \n",
       "2                          0                      0                0   \n",
       "3                          0                      0                0   \n",
       "4                          0                      0                0   \n",
       "\n",
       "   body_type_Off-Road  body_type_Other  body_type_Sedans  \\\n",
       "0                   0                0                 1   \n",
       "1                   0                0                 1   \n",
       "2                   0                0                 1   \n",
       "3                   0                0                 1   \n",
       "4                   0                0                 1   \n",
       "\n",
       "   body_type_Station wagon  body_type_Transporter  body_type_Van  \\\n",
       "0                        0                      0              0   \n",
       "1                        0                      0              0   \n",
       "2                        0                      0              0   \n",
       "3                        0                      0              0   \n",
       "4                        0                      0              0   \n",
       "\n",
       "   vat_VAT deductible  type_Employee's car  type_New  type_Pre-registered  \\\n",
       "0                   1                    0         0                    0   \n",
       "1                   0                    0         0                    0   \n",
       "2                   1                    0         0                    0   \n",
       "3                   1                    0         0                    0   \n",
       "4                   1                    0         0                    0   \n",
       "\n",
       "   type_Used  inspection_new_Yes  paint_type_Perl effect  \\\n",
       "0          1                   1                       0   \n",
       "1          1                   0                       0   \n",
       "2          1                   0                       0   \n",
       "3          1                   0                       0   \n",
       "4          1                   1                       0   \n",
       "\n",
       "   paint_type_Uni/basic  gearing_type_Manual  gearing_type_Semi-automatic  \\\n",
       "0                     0                    0                            0   \n",
       "1                     0                    0                            0   \n",
       "2                     0                    0                            0   \n",
       "3                     0                    0                            0   \n",
       "4                     0                    0                            0   \n",
       "\n",
       "   drive_chain_front  drive_chain_rear  fuel_Diesel  fuel_Electric  \\\n",
       "0                  1                 0            1              0   \n",
       "1                  1                 0            0              0   \n",
       "2                  1                 0            1              0   \n",
       "3                  1                 0            1              0   \n",
       "4                  1                 0            1              0   \n",
       "\n",
       "   fuel_LPG/CNG  emission_class_Euro 5  emission_class_Euro 6  \\\n",
       "0             0                      0                      1   \n",
       "1             0                      0                      1   \n",
       "2             0                      0                      1   \n",
       "3             0                      0                      1   \n",
       "4             0                      0                      1   \n",
       "\n",
       "   upholstery_style_Full leather  upholstery_style_Other  \\\n",
       "0                              0                       0   \n",
       "1                              0                       0   \n",
       "2                              0                       0   \n",
       "3                              0                       0   \n",
       "4                              0                       0   \n",
       "\n",
       "   upholstery_style_Part leather  upholstery_style_Velour  \\\n",
       "0                              0                        0   \n",
       "1                              0                        0   \n",
       "2                              0                        0   \n",
       "3                              0                        0   \n",
       "4                              0                        0   \n",
       "\n",
       "   upholstery_style_alcantara  upholstery_color_Black  upholstery_color_Blue  \\\n",
       "0                           0                       1                      0   \n",
       "1                           0                       0                      0   \n",
       "2                           0                       1                      0   \n",
       "3                           0                       1                      0   \n",
       "4                           0                       1                      0   \n",
       "\n",
       "   upholstery_color_Brown  upholstery_color_Grey  upholstery_color_Orange  \\\n",
       "0                       0                      0                        0   \n",
       "1                       0                      1                        0   \n",
       "2                       0                      0                        0   \n",
       "3                       0                      0                        0   \n",
       "4                       0                      0                        0   \n",
       "\n",
       "   upholstery_color_Other  upholstery_color_Red  upholstery_color_White  \\\n",
       "0                       0                     0                       0   \n",
       "1                       0                     0                       0   \n",
       "2                       0                     0                       0   \n",
       "3                       0                     0                       0   \n",
       "4                       0                     0                       0   \n",
       "\n",
       "   upholstery_color_Yellow  \n",
       "0                        0  \n",
       "1                        0  \n",
       "2                        0  \n",
       "3                        0  \n",
       "4                        0  \n",
       "\n",
       "[5 rows x 153 columns]"
      ]
     },
     "execution_count": 2,
     "metadata": {},
     "output_type": "execute_result"
    }
   ],
   "source": [
    "df = pd.read_csv(\"final_scout_dummy.csv\")\n",
    "df.head()"
   ]
  },
  {
   "cell_type": "code",
   "execution_count": 3,
   "metadata": {},
   "outputs": [
    {
     "data": {
      "text/plain": [
       "(15912, 153)"
      ]
     },
     "execution_count": 3,
     "metadata": {},
     "output_type": "execute_result"
    }
   ],
   "source": [
    "df.shape"
   ]
  },
  {
   "cell_type": "markdown",
   "metadata": {},
   "source": [
    "##### Train - Test Split"
   ]
  },
  {
   "cell_type": "code",
   "execution_count": 4,
   "metadata": {},
   "outputs": [],
   "source": [
    "X = df.drop(columns = \"price(€)\")\n",
    "y = df[\"price(€)\"]"
   ]
  },
  {
   "cell_type": "code",
   "execution_count": 5,
   "metadata": {},
   "outputs": [],
   "source": [
    "from sklearn.model_selection import train_test_split"
   ]
  },
  {
   "cell_type": "code",
   "execution_count": 6,
   "metadata": {},
   "outputs": [],
   "source": [
    "X_train, X_test, y_train, y_test = train_test_split(X, y, test_size=0.2, random_state=42)"
   ]
  },
  {
   "cell_type": "markdown",
   "metadata": {},
   "source": [
    "##### Scaling The Data"
   ]
  },
  {
   "cell_type": "code",
   "execution_count": 7,
   "metadata": {},
   "outputs": [],
   "source": [
    "from sklearn.preprocessing import StandardScaler, MinMaxScaler, RobustScaler\n",
    "scaler = MinMaxScaler()"
   ]
  },
  {
   "cell_type": "code",
   "execution_count": 8,
   "metadata": {},
   "outputs": [
    {
     "data": {
      "text/html": [
       "<style>#sk-container-id-1 {color: black;background-color: white;}#sk-container-id-1 pre{padding: 0;}#sk-container-id-1 div.sk-toggleable {background-color: white;}#sk-container-id-1 label.sk-toggleable__label {cursor: pointer;display: block;width: 100%;margin-bottom: 0;padding: 0.3em;box-sizing: border-box;text-align: center;}#sk-container-id-1 label.sk-toggleable__label-arrow:before {content: \"▸\";float: left;margin-right: 0.25em;color: #696969;}#sk-container-id-1 label.sk-toggleable__label-arrow:hover:before {color: black;}#sk-container-id-1 div.sk-estimator:hover label.sk-toggleable__label-arrow:before {color: black;}#sk-container-id-1 div.sk-toggleable__content {max-height: 0;max-width: 0;overflow: hidden;text-align: left;background-color: #f0f8ff;}#sk-container-id-1 div.sk-toggleable__content pre {margin: 0.2em;color: black;border-radius: 0.25em;background-color: #f0f8ff;}#sk-container-id-1 input.sk-toggleable__control:checked~div.sk-toggleable__content {max-height: 200px;max-width: 100%;overflow: auto;}#sk-container-id-1 input.sk-toggleable__control:checked~label.sk-toggleable__label-arrow:before {content: \"▾\";}#sk-container-id-1 div.sk-estimator input.sk-toggleable__control:checked~label.sk-toggleable__label {background-color: #d4ebff;}#sk-container-id-1 div.sk-label input.sk-toggleable__control:checked~label.sk-toggleable__label {background-color: #d4ebff;}#sk-container-id-1 input.sk-hidden--visually {border: 0;clip: rect(1px 1px 1px 1px);clip: rect(1px, 1px, 1px, 1px);height: 1px;margin: -1px;overflow: hidden;padding: 0;position: absolute;width: 1px;}#sk-container-id-1 div.sk-estimator {font-family: monospace;background-color: #f0f8ff;border: 1px dotted black;border-radius: 0.25em;box-sizing: border-box;margin-bottom: 0.5em;}#sk-container-id-1 div.sk-estimator:hover {background-color: #d4ebff;}#sk-container-id-1 div.sk-parallel-item::after {content: \"\";width: 100%;border-bottom: 1px solid gray;flex-grow: 1;}#sk-container-id-1 div.sk-label:hover label.sk-toggleable__label {background-color: #d4ebff;}#sk-container-id-1 div.sk-serial::before {content: \"\";position: absolute;border-left: 1px solid gray;box-sizing: border-box;top: 0;bottom: 0;left: 50%;z-index: 0;}#sk-container-id-1 div.sk-serial {display: flex;flex-direction: column;align-items: center;background-color: white;padding-right: 0.2em;padding-left: 0.2em;position: relative;}#sk-container-id-1 div.sk-item {position: relative;z-index: 1;}#sk-container-id-1 div.sk-parallel {display: flex;align-items: stretch;justify-content: center;background-color: white;position: relative;}#sk-container-id-1 div.sk-item::before, #sk-container-id-1 div.sk-parallel-item::before {content: \"\";position: absolute;border-left: 1px solid gray;box-sizing: border-box;top: 0;bottom: 0;left: 50%;z-index: -1;}#sk-container-id-1 div.sk-parallel-item {display: flex;flex-direction: column;z-index: 1;position: relative;background-color: white;}#sk-container-id-1 div.sk-parallel-item:first-child::after {align-self: flex-end;width: 50%;}#sk-container-id-1 div.sk-parallel-item:last-child::after {align-self: flex-start;width: 50%;}#sk-container-id-1 div.sk-parallel-item:only-child::after {width: 0;}#sk-container-id-1 div.sk-dashed-wrapped {border: 1px dashed gray;margin: 0 0.4em 0.5em 0.4em;box-sizing: border-box;padding-bottom: 0.4em;background-color: white;}#sk-container-id-1 div.sk-label label {font-family: monospace;font-weight: bold;display: inline-block;line-height: 1.2em;}#sk-container-id-1 div.sk-label-container {text-align: center;}#sk-container-id-1 div.sk-container {/* jupyter's `normalize.less` sets `[hidden] { display: none; }` but bootstrap.min.css set `[hidden] { display: none !important; }` so we also need the `!important` here to be able to override the default hidden behavior on the sphinx rendered scikit-learn.org. See: https://github.com/scikit-learn/scikit-learn/issues/21755 */display: inline-block !important;position: relative;}#sk-container-id-1 div.sk-text-repr-fallback {display: none;}</style><div id=\"sk-container-id-1\" class=\"sk-top-container\"><div class=\"sk-text-repr-fallback\"><pre>MinMaxScaler()</pre><b>In a Jupyter environment, please rerun this cell to show the HTML representation or trust the notebook. <br />On GitHub, the HTML representation is unable to render, please try loading this page with nbviewer.org.</b></div><div class=\"sk-container\" hidden><div class=\"sk-item\"><div class=\"sk-estimator sk-toggleable\"><input class=\"sk-toggleable__control sk-hidden--visually\" id=\"sk-estimator-id-1\" type=\"checkbox\" checked><label for=\"sk-estimator-id-1\" class=\"sk-toggleable__label sk-toggleable__label-arrow\">MinMaxScaler</label><div class=\"sk-toggleable__content\"><pre>MinMaxScaler()</pre></div></div></div></div></div>"
      ],
      "text/plain": [
       "MinMaxScaler()"
      ]
     },
     "execution_count": 8,
     "metadata": {},
     "output_type": "execute_result"
    }
   ],
   "source": [
    "scaler.fit(X_train) # Apply just for X_train not for X_test (kalıp çıkarma)"
   ]
  },
  {
   "cell_type": "code",
   "execution_count": 9,
   "metadata": {},
   "outputs": [
    {
     "data": {
      "text/plain": [
       "array([[0.22618232, 0.30708661, 0.25      , ..., 0.        , 0.        ,\n",
       "        0.        ],\n",
       "       [0.0017135 , 0.17716535, 0.25      , ..., 0.        , 0.        ,\n",
       "        0.        ],\n",
       "       [0.06511309, 0.2480315 , 0.25      , ..., 0.        , 0.        ,\n",
       "        0.        ],\n",
       "       ...,\n",
       "       [0.049366  , 0.1023622 , 0.25      , ..., 0.        , 0.        ,\n",
       "        0.        ],\n",
       "       [0.0006854 , 0.49212598, 0.25      , ..., 0.        , 0.        ,\n",
       "        0.        ],\n",
       "       [0.04112406, 0.14566929, 0.25      , ..., 0.        , 0.        ,\n",
       "        0.        ]])"
      ]
     },
     "execution_count": 9,
     "metadata": {},
     "output_type": "execute_result"
    }
   ],
   "source": [
    "X_train_scaled = scaler.transform(X_train) # Apply transform according to fit.\n",
    "X_train_scaled"
   ]
  },
  {
   "cell_type": "code",
   "execution_count": 10,
   "metadata": {},
   "outputs": [
    {
     "data": {
      "text/plain": [
       "array([[3.42700480e-01, 1.02362205e-01, 2.50000000e-01, ...,\n",
       "        0.00000000e+00, 0.00000000e+00, 0.00000000e+00],\n",
       "       [3.42700480e-05, 4.33070866e-02, 2.50000000e-01, ...,\n",
       "        0.00000000e+00, 0.00000000e+00, 0.00000000e+00],\n",
       "       [1.36367375e-01, 1.61417323e-01, 2.50000000e-01, ...,\n",
       "        0.00000000e+00, 0.00000000e+00, 0.00000000e+00],\n",
       "       ...,\n",
       "       [4.24948595e-01, 5.90551181e-02, 2.50000000e-01, ...,\n",
       "        0.00000000e+00, 0.00000000e+00, 0.00000000e+00],\n",
       "       [9.59561343e-05, 1.02362205e-01, 2.50000000e-01, ...,\n",
       "        0.00000000e+00, 0.00000000e+00, 0.00000000e+00],\n",
       "       [8.39616175e-02, 4.33070866e-02, 2.50000000e-01, ...,\n",
       "        0.00000000e+00, 0.00000000e+00, 0.00000000e+00]])"
      ]
     },
     "execution_count": 10,
     "metadata": {},
     "output_type": "execute_result"
    }
   ],
   "source": [
    "X_test_scaled = scaler.transform(X_test)\n",
    "X_test_scaled"
   ]
  },
  {
   "cell_type": "markdown",
   "metadata": {
    "id": "An_5ITcAmqZO"
   },
   "source": [
    "## 3. Implement Linear Regression"
   ]
  },
  {
   "cell_type": "markdown",
   "metadata": {
    "id": "0c0y-w8vmqZO"
   },
   "source": [
    " - Import the modul\n",
    " - Fit the model \n",
    " - Predict the test set\n",
    " - Determine feature coefficiant\n",
    " - Evaluate model performance (use performance metrics for regression and cross_val_score)\n",
    " - Compare different evaluation metrics\n",
    " \n",
    "*Note: You can use the [dir()](https://www.geeksforgeeks.org/python-dir-function/) function to see the methods you need.*"
   ]
  },
  {
   "cell_type": "code",
   "execution_count": 11,
   "metadata": {
    "id": "lq6UKn_HmqZO"
   },
   "outputs": [],
   "source": [
    "from sklearn.linear_model import LinearRegression"
   ]
  },
  {
   "cell_type": "code",
   "execution_count": 12,
   "metadata": {},
   "outputs": [],
   "source": [
    "linear_model = LinearRegression()"
   ]
  },
  {
   "cell_type": "code",
   "execution_count": 13,
   "metadata": {},
   "outputs": [
    {
     "data": {
      "text/html": [
       "<style>#sk-container-id-2 {color: black;background-color: white;}#sk-container-id-2 pre{padding: 0;}#sk-container-id-2 div.sk-toggleable {background-color: white;}#sk-container-id-2 label.sk-toggleable__label {cursor: pointer;display: block;width: 100%;margin-bottom: 0;padding: 0.3em;box-sizing: border-box;text-align: center;}#sk-container-id-2 label.sk-toggleable__label-arrow:before {content: \"▸\";float: left;margin-right: 0.25em;color: #696969;}#sk-container-id-2 label.sk-toggleable__label-arrow:hover:before {color: black;}#sk-container-id-2 div.sk-estimator:hover label.sk-toggleable__label-arrow:before {color: black;}#sk-container-id-2 div.sk-toggleable__content {max-height: 0;max-width: 0;overflow: hidden;text-align: left;background-color: #f0f8ff;}#sk-container-id-2 div.sk-toggleable__content pre {margin: 0.2em;color: black;border-radius: 0.25em;background-color: #f0f8ff;}#sk-container-id-2 input.sk-toggleable__control:checked~div.sk-toggleable__content {max-height: 200px;max-width: 100%;overflow: auto;}#sk-container-id-2 input.sk-toggleable__control:checked~label.sk-toggleable__label-arrow:before {content: \"▾\";}#sk-container-id-2 div.sk-estimator input.sk-toggleable__control:checked~label.sk-toggleable__label {background-color: #d4ebff;}#sk-container-id-2 div.sk-label input.sk-toggleable__control:checked~label.sk-toggleable__label {background-color: #d4ebff;}#sk-container-id-2 input.sk-hidden--visually {border: 0;clip: rect(1px 1px 1px 1px);clip: rect(1px, 1px, 1px, 1px);height: 1px;margin: -1px;overflow: hidden;padding: 0;position: absolute;width: 1px;}#sk-container-id-2 div.sk-estimator {font-family: monospace;background-color: #f0f8ff;border: 1px dotted black;border-radius: 0.25em;box-sizing: border-box;margin-bottom: 0.5em;}#sk-container-id-2 div.sk-estimator:hover {background-color: #d4ebff;}#sk-container-id-2 div.sk-parallel-item::after {content: \"\";width: 100%;border-bottom: 1px solid gray;flex-grow: 1;}#sk-container-id-2 div.sk-label:hover label.sk-toggleable__label {background-color: #d4ebff;}#sk-container-id-2 div.sk-serial::before {content: \"\";position: absolute;border-left: 1px solid gray;box-sizing: border-box;top: 0;bottom: 0;left: 50%;z-index: 0;}#sk-container-id-2 div.sk-serial {display: flex;flex-direction: column;align-items: center;background-color: white;padding-right: 0.2em;padding-left: 0.2em;position: relative;}#sk-container-id-2 div.sk-item {position: relative;z-index: 1;}#sk-container-id-2 div.sk-parallel {display: flex;align-items: stretch;justify-content: center;background-color: white;position: relative;}#sk-container-id-2 div.sk-item::before, #sk-container-id-2 div.sk-parallel-item::before {content: \"\";position: absolute;border-left: 1px solid gray;box-sizing: border-box;top: 0;bottom: 0;left: 50%;z-index: -1;}#sk-container-id-2 div.sk-parallel-item {display: flex;flex-direction: column;z-index: 1;position: relative;background-color: white;}#sk-container-id-2 div.sk-parallel-item:first-child::after {align-self: flex-end;width: 50%;}#sk-container-id-2 div.sk-parallel-item:last-child::after {align-self: flex-start;width: 50%;}#sk-container-id-2 div.sk-parallel-item:only-child::after {width: 0;}#sk-container-id-2 div.sk-dashed-wrapped {border: 1px dashed gray;margin: 0 0.4em 0.5em 0.4em;box-sizing: border-box;padding-bottom: 0.4em;background-color: white;}#sk-container-id-2 div.sk-label label {font-family: monospace;font-weight: bold;display: inline-block;line-height: 1.2em;}#sk-container-id-2 div.sk-label-container {text-align: center;}#sk-container-id-2 div.sk-container {/* jupyter's `normalize.less` sets `[hidden] { display: none; }` but bootstrap.min.css set `[hidden] { display: none !important; }` so we also need the `!important` here to be able to override the default hidden behavior on the sphinx rendered scikit-learn.org. See: https://github.com/scikit-learn/scikit-learn/issues/21755 */display: inline-block !important;position: relative;}#sk-container-id-2 div.sk-text-repr-fallback {display: none;}</style><div id=\"sk-container-id-2\" class=\"sk-top-container\"><div class=\"sk-text-repr-fallback\"><pre>LinearRegression()</pre><b>In a Jupyter environment, please rerun this cell to show the HTML representation or trust the notebook. <br />On GitHub, the HTML representation is unable to render, please try loading this page with nbviewer.org.</b></div><div class=\"sk-container\" hidden><div class=\"sk-item\"><div class=\"sk-estimator sk-toggleable\"><input class=\"sk-toggleable__control sk-hidden--visually\" id=\"sk-estimator-id-2\" type=\"checkbox\" checked><label for=\"sk-estimator-id-2\" class=\"sk-toggleable__label sk-toggleable__label-arrow\">LinearRegression</label><div class=\"sk-toggleable__content\"><pre>LinearRegression()</pre></div></div></div></div></div>"
      ],
      "text/plain": [
       "LinearRegression()"
      ]
     },
     "execution_count": 13,
     "metadata": {},
     "output_type": "execute_result"
    }
   ],
   "source": [
    "linear_model.fit(X_train_scaled, y_train)"
   ]
  },
  {
   "cell_type": "code",
   "execution_count": 14,
   "metadata": {},
   "outputs": [],
   "source": [
    "y_pred = linear_model.predict(X_test_scaled)\n",
    "y_train_pred = linear_model.predict(X_train_scaled)"
   ]
  },
  {
   "cell_type": "code",
   "execution_count": 15,
   "metadata": {},
   "outputs": [
    {
     "data": {
      "text/plain": [
       "array([-7.99068310e+03,  2.20788090e+04,  1.28859901e+03,  9.18669627e+02,\n",
       "        7.04907518e+01, -1.11669062e+03,  1.31875206e+03, -1.98138561e+03,\n",
       "       -2.62057288e+03,  2.77525596e+03, -5.54371099e+03,  1.33563451e+03,\n",
       "        3.64148785e+02, -1.97874276e+02, -3.74617316e+01,  2.94106049e+02,\n",
       "       -3.20377973e+02,  2.65321102e+02, -1.52131761e+03,  3.24413779e+01,\n",
       "        1.40240185e+02, -3.06424557e+00,  3.45743657e+02,  2.23332339e+03,\n",
       "        4.17848006e+02,  1.45664974e+02,  1.01081908e+02, -8.14128690e+02,\n",
       "        1.17873695e+02,  1.93715604e+02, -2.23624497e+02,  4.61732078e+02,\n",
       "       -1.43426446e+00,  2.40885699e+02, -1.18863986e+02,  5.04597566e+02,\n",
       "        6.81769664e+01,  8.14778427e+02,  2.50832497e+02, -3.04682153e+02,\n",
       "        9.49910680e+01, -2.97739728e+02, -1.00667996e+02,  5.31844277e+02,\n",
       "       -2.00417095e+02,  6.34398586e+00,  5.79778850e+02,  1.05129286e+02,\n",
       "       -2.35977077e+02, -2.25036130e+02, -4.51228120e+02,  9.51011994e+01,\n",
       "        6.68104451e+02,  6.75417061e+01, -1.20945901e+02,  8.18987205e+01,\n",
       "        1.53742392e+02, -2.13420378e+02, -5.23178420e+02, -1.99632860e+02,\n",
       "        1.46049192e+02,  4.24474146e+01,  2.41264706e+02, -4.86657325e+02,\n",
       "       -9.57650220e+02, -6.37739667e+01,  7.57313938e+01, -2.76749374e+02,\n",
       "        1.19344144e+03,  6.48551099e+02,  1.40760752e+02, -1.62764723e+02,\n",
       "       -2.47663483e+02, -4.80303385e+01,  1.66394781e+03, -2.22118871e+02,\n",
       "        3.43984529e+01,  9.55175862e+00,  2.16887106e+02,  8.00295244e+01,\n",
       "        1.00583058e+02, -3.36107683e+02, -3.46375874e+02, -9.92181074e+01,\n",
       "       -2.31012635e+02, -8.85821541e+01,  5.15187564e+01, -2.46851866e+02,\n",
       "        2.13472513e+02, -7.47659757e+02, -1.40488574e+02, -1.29549227e+02,\n",
       "       -3.06272282e+02, -4.28353298e+02, -2.40993710e+02,  7.90233053e+02,\n",
       "        8.06096522e+02, -2.68008594e+02,  5.63413949e+02, -4.96843735e+02,\n",
       "       -7.61828467e+02,  1.86682242e+02,  1.02465225e+02,  1.92929683e+02,\n",
       "        5.51021523e+01, -3.10083072e+02,  6.46921439e+02, -4.56051809e+03,\n",
       "       -6.13241757e+03, -1.95685527e+03, -6.17678320e+03, -1.21074744e+04,\n",
       "        2.19262044e+03,  1.13541064e+03,  3.26232847e+02,  2.12152646e+02,\n",
       "       -6.99469294e+02,  5.78256540e+01,  2.67091298e+02, -1.72771841e+03,\n",
       "        1.29827352e+03, -9.49593504e+01, -3.02592360e+03,  1.69269120e+01,\n",
       "       -2.36017408e+03, -2.99691544e+03, -1.36232676e+02,  2.25019697e+03,\n",
       "        2.25041188e+02, -1.31890283e+03,  2.21993387e+03, -1.93689130e+03,\n",
       "       -3.23651755e+03,  4.61110377e+02,  6.64578371e+03,  2.49765939e+02,\n",
       "       -1.39116479e+03, -1.61867527e+03,  8.97558449e+02, -3.85358145e+02,\n",
       "       -5.55831413e+00, -1.07685699e+03,  5.70855255e+02, -1.11753606e+02,\n",
       "       -6.88251490e+02,  1.18775485e+03, -1.19210211e+01,  8.01116435e+02,\n",
       "       -8.40998617e+01,  8.58503281e+02,  5.40646206e+02, -3.15090396e+02])"
      ]
     },
     "execution_count": 15,
     "metadata": {},
     "output_type": "execute_result"
    }
   ],
   "source": [
    "linear_model.coef_"
   ]
  },
  {
   "cell_type": "code",
   "execution_count": 16,
   "metadata": {},
   "outputs": [
    {
     "data": {
      "text/plain": [
       "23925.55127034497"
      ]
     },
     "execution_count": 16,
     "metadata": {},
     "output_type": "execute_result"
    }
   ],
   "source": [
    "linear_model.intercept_"
   ]
  },
  {
   "cell_type": "code",
   "execution_count": 17,
   "metadata": {},
   "outputs": [],
   "source": [
    "from sklearn.metrics import mean_absolute_error, mean_squared_error, r2_score\n",
    "\n",
    "def train_val(y_train, y_train_pred, y_test, y_pred, name):\n",
    "    \n",
    "    scores = {name+\"_train\": {\"R2\" : r2_score(y_train, y_train_pred),\n",
    "    \"mae\" : mean_absolute_error(y_train, y_train_pred),\n",
    "    \"mse\" : mean_squared_error(y_train, y_train_pred),                          \n",
    "    \"rmse\" : np.sqrt(mean_squared_error(y_train, y_train_pred))},\n",
    "    \n",
    "    name+\"_test\": {\"R2\" : r2_score(y_test, y_pred),\n",
    "    \"mae\" : mean_absolute_error(y_test, y_pred),\n",
    "    \"mse\" : mean_squared_error(y_test, y_pred),\n",
    "    \"rmse\" : np.sqrt(mean_squared_error(y_test, y_pred))}}\n",
    "    \n",
    "    return pd.DataFrame(scores)"
   ]
  },
  {
   "cell_type": "code",
   "execution_count": 18,
   "metadata": {},
   "outputs": [
    {
     "data": {
      "text/html": [
       "<div>\n",
       "<style scoped>\n",
       "    .dataframe tbody tr th:only-of-type {\n",
       "        vertical-align: middle;\n",
       "    }\n",
       "\n",
       "    .dataframe tbody tr th {\n",
       "        vertical-align: top;\n",
       "    }\n",
       "\n",
       "    .dataframe thead th {\n",
       "        text-align: right;\n",
       "    }\n",
       "</style>\n",
       "<table border=\"1\" class=\"dataframe\">\n",
       "  <thead>\n",
       "    <tr style=\"text-align: right;\">\n",
       "      <th></th>\n",
       "      <th>linear_train</th>\n",
       "      <th>linear_test</th>\n",
       "    </tr>\n",
       "  </thead>\n",
       "  <tbody>\n",
       "    <tr>\n",
       "      <th>R2</th>\n",
       "      <td>0.890</td>\n",
       "      <td>0.893</td>\n",
       "    </tr>\n",
       "    <tr>\n",
       "      <th>mae</th>\n",
       "      <td>1717.578</td>\n",
       "      <td>1716.339</td>\n",
       "    </tr>\n",
       "    <tr>\n",
       "      <th>mse</th>\n",
       "      <td>5976635.801</td>\n",
       "      <td>5788441.912</td>\n",
       "    </tr>\n",
       "    <tr>\n",
       "      <th>rmse</th>\n",
       "      <td>2444.716</td>\n",
       "      <td>2405.918</td>\n",
       "    </tr>\n",
       "  </tbody>\n",
       "</table>\n",
       "</div>"
      ],
      "text/plain": [
       "      linear_train  linear_test\n",
       "R2           0.890        0.893\n",
       "mae       1717.578     1716.339\n",
       "mse    5976635.801  5788441.912\n",
       "rmse      2444.716     2405.918"
      ]
     },
     "execution_count": 18,
     "metadata": {},
     "output_type": "execute_result"
    }
   ],
   "source": [
    "linear_score = train_val(y_train, y_train_pred, y_test, y_pred, \"linear\")\n",
    "linear_score"
   ]
  },
  {
   "cell_type": "code",
   "execution_count": 19,
   "metadata": {},
   "outputs": [],
   "source": [
    "from sklearn.model_selection import cross_validate"
   ]
  },
  {
   "cell_type": "code",
   "execution_count": 20,
   "metadata": {},
   "outputs": [],
   "source": [
    "scores = cross_validate(linear_model, X_train_scaled, y_train,\n",
    "                        scoring= [\"r2\", \"neg_mean_absolute_error\", \"neg_mean_squared_error\", \"neg_root_mean_squared_error\"],\n",
    "                        cv = 5)"
   ]
  },
  {
   "cell_type": "code",
   "execution_count": 21,
   "metadata": {},
   "outputs": [
    {
     "data": {
      "text/html": [
       "<div>\n",
       "<style scoped>\n",
       "    .dataframe tbody tr th:only-of-type {\n",
       "        vertical-align: middle;\n",
       "    }\n",
       "\n",
       "    .dataframe tbody tr th {\n",
       "        vertical-align: top;\n",
       "    }\n",
       "\n",
       "    .dataframe thead th {\n",
       "        text-align: right;\n",
       "    }\n",
       "</style>\n",
       "<table border=\"1\" class=\"dataframe\">\n",
       "  <thead>\n",
       "    <tr style=\"text-align: right;\">\n",
       "      <th></th>\n",
       "      <th>fit_time</th>\n",
       "      <th>score_time</th>\n",
       "      <th>test_r2</th>\n",
       "      <th>test_neg_mean_absolute_error</th>\n",
       "      <th>test_neg_mean_squared_error</th>\n",
       "      <th>test_neg_root_mean_squared_error</th>\n",
       "    </tr>\n",
       "  </thead>\n",
       "  <tbody>\n",
       "    <tr>\n",
       "      <th>1</th>\n",
       "      <td>0.037</td>\n",
       "      <td>0.002</td>\n",
       "      <td>-1305841150925594427392.000</td>\n",
       "      <td>-5338793152897.665</td>\n",
       "      <td>-72567900695402174076338307072.000</td>\n",
       "      <td>-269384299274107.969</td>\n",
       "    </tr>\n",
       "    <tr>\n",
       "      <th>2</th>\n",
       "      <td>0.034</td>\n",
       "      <td>0.000</td>\n",
       "      <td>0.892</td>\n",
       "      <td>-1762.655</td>\n",
       "      <td>-6108639.454</td>\n",
       "      <td>-2471.566</td>\n",
       "    </tr>\n",
       "    <tr>\n",
       "      <th>3</th>\n",
       "      <td>0.047</td>\n",
       "      <td>0.000</td>\n",
       "      <td>0.878</td>\n",
       "      <td>-1712.103</td>\n",
       "      <td>-5938010.576</td>\n",
       "      <td>-2436.803</td>\n",
       "    </tr>\n",
       "    <tr>\n",
       "      <th>4</th>\n",
       "      <td>0.031</td>\n",
       "      <td>0.000</td>\n",
       "      <td>0.891</td>\n",
       "      <td>-1742.551</td>\n",
       "      <td>-5980808.315</td>\n",
       "      <td>-2445.569</td>\n",
       "    </tr>\n",
       "    <tr>\n",
       "      <th>5</th>\n",
       "      <td>0.031</td>\n",
       "      <td>0.016</td>\n",
       "      <td>0.886</td>\n",
       "      <td>-1725.376</td>\n",
       "      <td>-6411534.463</td>\n",
       "      <td>-2532.101</td>\n",
       "    </tr>\n",
       "  </tbody>\n",
       "</table>\n",
       "</div>"
      ],
      "text/plain": [
       "   fit_time  score_time                     test_r2  \\\n",
       "1     0.037       0.002 -1305841150925594427392.000   \n",
       "2     0.034       0.000                       0.892   \n",
       "3     0.047       0.000                       0.878   \n",
       "4     0.031       0.000                       0.891   \n",
       "5     0.031       0.016                       0.886   \n",
       "\n",
       "   test_neg_mean_absolute_error        test_neg_mean_squared_error  \\\n",
       "1            -5338793152897.665 -72567900695402174076338307072.000   \n",
       "2                     -1762.655                       -6108639.454   \n",
       "3                     -1712.103                       -5938010.576   \n",
       "4                     -1742.551                       -5980808.315   \n",
       "5                     -1725.376                       -6411534.463   \n",
       "\n",
       "   test_neg_root_mean_squared_error  \n",
       "1              -269384299274107.969  \n",
       "2                         -2471.566  \n",
       "3                         -2436.803  \n",
       "4                         -2445.569  \n",
       "5                         -2532.101  "
      ]
     },
     "execution_count": 21,
     "metadata": {},
     "output_type": "execute_result"
    }
   ],
   "source": [
    "pd.DataFrame(scores, index=range(1,6))"
   ]
  },
  {
   "cell_type": "code",
   "execution_count": 22,
   "metadata": {},
   "outputs": [
    {
     "data": {
      "text/plain": [
       "test_r2                                    -261168230185118892032.000\n",
       "test_neg_mean_absolute_error                       -1067758631968.070\n",
       "test_neg_mean_squared_error        -14513580139080434375463010304.000\n",
       "test_neg_root_mean_squared_error                  -53876859856798.797\n",
       "dtype: float64"
      ]
     },
     "execution_count": 22,
     "metadata": {},
     "output_type": "execute_result"
    }
   ],
   "source": [
    "scores = pd.DataFrame(scores, index=range(1,6)).iloc[:,2:].mean()\n",
    "scores"
   ]
  },
  {
   "cell_type": "code",
   "execution_count": null,
   "metadata": {},
   "outputs": [],
   "source": []
  },
  {
   "cell_type": "markdown",
   "metadata": {
    "id": "n2ROwYsymqZO"
   },
   "source": [
    "## 4. Implement Ridge Regression"
   ]
  },
  {
   "cell_type": "markdown",
   "metadata": {
    "id": "3RvdF8CRmqZO"
   },
   "source": [
    "- Import the modul \n",
    "- Do not forget to scale the data or use Normalize parameter as True \n",
    "- Fit the model \n",
    "- Predict the test set \n",
    "- Evaluate model performance (use performance metrics for regression) \n",
    "- Tune alpha hiperparameter by using [cross validation](https://scikit-learn.org/stable/modules/generated/sklearn.linear_model.RidgeCV.html) and determine the optimal alpha value.\n",
    "- Fit the model and predict again with the new alpha value. "
   ]
  },
  {
   "cell_type": "code",
   "execution_count": 23,
   "metadata": {
    "id": "CXm_zzZMmqZO"
   },
   "outputs": [],
   "source": [
    "from sklearn.linear_model import Ridge, RidgeCV"
   ]
  },
  {
   "cell_type": "code",
   "execution_count": 24,
   "metadata": {},
   "outputs": [],
   "source": [
    "ridge_model = Ridge(alpha=1, random_state=42)"
   ]
  },
  {
   "cell_type": "code",
   "execution_count": 25,
   "metadata": {},
   "outputs": [
    {
     "data": {
      "text/html": [
       "<style>#sk-container-id-3 {color: black;background-color: white;}#sk-container-id-3 pre{padding: 0;}#sk-container-id-3 div.sk-toggleable {background-color: white;}#sk-container-id-3 label.sk-toggleable__label {cursor: pointer;display: block;width: 100%;margin-bottom: 0;padding: 0.3em;box-sizing: border-box;text-align: center;}#sk-container-id-3 label.sk-toggleable__label-arrow:before {content: \"▸\";float: left;margin-right: 0.25em;color: #696969;}#sk-container-id-3 label.sk-toggleable__label-arrow:hover:before {color: black;}#sk-container-id-3 div.sk-estimator:hover label.sk-toggleable__label-arrow:before {color: black;}#sk-container-id-3 div.sk-toggleable__content {max-height: 0;max-width: 0;overflow: hidden;text-align: left;background-color: #f0f8ff;}#sk-container-id-3 div.sk-toggleable__content pre {margin: 0.2em;color: black;border-radius: 0.25em;background-color: #f0f8ff;}#sk-container-id-3 input.sk-toggleable__control:checked~div.sk-toggleable__content {max-height: 200px;max-width: 100%;overflow: auto;}#sk-container-id-3 input.sk-toggleable__control:checked~label.sk-toggleable__label-arrow:before {content: \"▾\";}#sk-container-id-3 div.sk-estimator input.sk-toggleable__control:checked~label.sk-toggleable__label {background-color: #d4ebff;}#sk-container-id-3 div.sk-label input.sk-toggleable__control:checked~label.sk-toggleable__label {background-color: #d4ebff;}#sk-container-id-3 input.sk-hidden--visually {border: 0;clip: rect(1px 1px 1px 1px);clip: rect(1px, 1px, 1px, 1px);height: 1px;margin: -1px;overflow: hidden;padding: 0;position: absolute;width: 1px;}#sk-container-id-3 div.sk-estimator {font-family: monospace;background-color: #f0f8ff;border: 1px dotted black;border-radius: 0.25em;box-sizing: border-box;margin-bottom: 0.5em;}#sk-container-id-3 div.sk-estimator:hover {background-color: #d4ebff;}#sk-container-id-3 div.sk-parallel-item::after {content: \"\";width: 100%;border-bottom: 1px solid gray;flex-grow: 1;}#sk-container-id-3 div.sk-label:hover label.sk-toggleable__label {background-color: #d4ebff;}#sk-container-id-3 div.sk-serial::before {content: \"\";position: absolute;border-left: 1px solid gray;box-sizing: border-box;top: 0;bottom: 0;left: 50%;z-index: 0;}#sk-container-id-3 div.sk-serial {display: flex;flex-direction: column;align-items: center;background-color: white;padding-right: 0.2em;padding-left: 0.2em;position: relative;}#sk-container-id-3 div.sk-item {position: relative;z-index: 1;}#sk-container-id-3 div.sk-parallel {display: flex;align-items: stretch;justify-content: center;background-color: white;position: relative;}#sk-container-id-3 div.sk-item::before, #sk-container-id-3 div.sk-parallel-item::before {content: \"\";position: absolute;border-left: 1px solid gray;box-sizing: border-box;top: 0;bottom: 0;left: 50%;z-index: -1;}#sk-container-id-3 div.sk-parallel-item {display: flex;flex-direction: column;z-index: 1;position: relative;background-color: white;}#sk-container-id-3 div.sk-parallel-item:first-child::after {align-self: flex-end;width: 50%;}#sk-container-id-3 div.sk-parallel-item:last-child::after {align-self: flex-start;width: 50%;}#sk-container-id-3 div.sk-parallel-item:only-child::after {width: 0;}#sk-container-id-3 div.sk-dashed-wrapped {border: 1px dashed gray;margin: 0 0.4em 0.5em 0.4em;box-sizing: border-box;padding-bottom: 0.4em;background-color: white;}#sk-container-id-3 div.sk-label label {font-family: monospace;font-weight: bold;display: inline-block;line-height: 1.2em;}#sk-container-id-3 div.sk-label-container {text-align: center;}#sk-container-id-3 div.sk-container {/* jupyter's `normalize.less` sets `[hidden] { display: none; }` but bootstrap.min.css set `[hidden] { display: none !important; }` so we also need the `!important` here to be able to override the default hidden behavior on the sphinx rendered scikit-learn.org. See: https://github.com/scikit-learn/scikit-learn/issues/21755 */display: inline-block !important;position: relative;}#sk-container-id-3 div.sk-text-repr-fallback {display: none;}</style><div id=\"sk-container-id-3\" class=\"sk-top-container\"><div class=\"sk-text-repr-fallback\"><pre>Ridge(alpha=1, random_state=42)</pre><b>In a Jupyter environment, please rerun this cell to show the HTML representation or trust the notebook. <br />On GitHub, the HTML representation is unable to render, please try loading this page with nbviewer.org.</b></div><div class=\"sk-container\" hidden><div class=\"sk-item\"><div class=\"sk-estimator sk-toggleable\"><input class=\"sk-toggleable__control sk-hidden--visually\" id=\"sk-estimator-id-3\" type=\"checkbox\" checked><label for=\"sk-estimator-id-3\" class=\"sk-toggleable__label sk-toggleable__label-arrow\">Ridge</label><div class=\"sk-toggleable__content\"><pre>Ridge(alpha=1, random_state=42)</pre></div></div></div></div></div>"
      ],
      "text/plain": [
       "Ridge(alpha=1, random_state=42)"
      ]
     },
     "execution_count": 25,
     "metadata": {},
     "output_type": "execute_result"
    }
   ],
   "source": [
    "ridge_model.fit(X_train_scaled, y_train)"
   ]
  },
  {
   "cell_type": "code",
   "execution_count": 26,
   "metadata": {},
   "outputs": [],
   "source": [
    "y_pred = ridge_model.predict(X_test_scaled)\n",
    "y_train_pred = ridge_model.predict(X_train_scaled)"
   ]
  },
  {
   "cell_type": "code",
   "execution_count": 27,
   "metadata": {},
   "outputs": [
    {
     "data": {
      "text/html": [
       "<div>\n",
       "<style scoped>\n",
       "    .dataframe tbody tr th:only-of-type {\n",
       "        vertical-align: middle;\n",
       "    }\n",
       "\n",
       "    .dataframe tbody tr th {\n",
       "        vertical-align: top;\n",
       "    }\n",
       "\n",
       "    .dataframe thead th {\n",
       "        text-align: right;\n",
       "    }\n",
       "</style>\n",
       "<table border=\"1\" class=\"dataframe\">\n",
       "  <thead>\n",
       "    <tr style=\"text-align: right;\">\n",
       "      <th></th>\n",
       "      <th>ridge_train</th>\n",
       "      <th>ridge_test</th>\n",
       "    </tr>\n",
       "  </thead>\n",
       "  <tbody>\n",
       "    <tr>\n",
       "      <th>R2</th>\n",
       "      <td>0.890</td>\n",
       "      <td>0.893</td>\n",
       "    </tr>\n",
       "    <tr>\n",
       "      <th>mae</th>\n",
       "      <td>1717.531</td>\n",
       "      <td>1714.093</td>\n",
       "    </tr>\n",
       "    <tr>\n",
       "      <th>mse</th>\n",
       "      <td>5981292.027</td>\n",
       "      <td>5763154.860</td>\n",
       "    </tr>\n",
       "    <tr>\n",
       "      <th>rmse</th>\n",
       "      <td>2445.668</td>\n",
       "      <td>2400.657</td>\n",
       "    </tr>\n",
       "  </tbody>\n",
       "</table>\n",
       "</div>"
      ],
      "text/plain": [
       "      ridge_train  ridge_test\n",
       "R2          0.890       0.893\n",
       "mae      1717.531    1714.093\n",
       "mse   5981292.027 5763154.860\n",
       "rmse     2445.668    2400.657"
      ]
     },
     "execution_count": 27,
     "metadata": {},
     "output_type": "execute_result"
    }
   ],
   "source": [
    "ridge_score = train_val(y_train, y_train_pred, y_test, y_pred, \"ridge\")\n",
    "ridge_score"
   ]
  },
  {
   "cell_type": "code",
   "execution_count": 28,
   "metadata": {},
   "outputs": [
    {
     "data": {
      "text/html": [
       "<div>\n",
       "<style scoped>\n",
       "    .dataframe tbody tr th:only-of-type {\n",
       "        vertical-align: middle;\n",
       "    }\n",
       "\n",
       "    .dataframe tbody tr th {\n",
       "        vertical-align: top;\n",
       "    }\n",
       "\n",
       "    .dataframe thead th {\n",
       "        text-align: right;\n",
       "    }\n",
       "</style>\n",
       "<table border=\"1\" class=\"dataframe\">\n",
       "  <thead>\n",
       "    <tr style=\"text-align: right;\">\n",
       "      <th></th>\n",
       "      <th>linear_train</th>\n",
       "      <th>linear_test</th>\n",
       "      <th>ridge_train</th>\n",
       "      <th>ridge_test</th>\n",
       "    </tr>\n",
       "  </thead>\n",
       "  <tbody>\n",
       "    <tr>\n",
       "      <th>R2</th>\n",
       "      <td>0.890</td>\n",
       "      <td>0.893</td>\n",
       "      <td>0.890</td>\n",
       "      <td>0.893</td>\n",
       "    </tr>\n",
       "    <tr>\n",
       "      <th>mae</th>\n",
       "      <td>1717.578</td>\n",
       "      <td>1716.339</td>\n",
       "      <td>1717.531</td>\n",
       "      <td>1714.093</td>\n",
       "    </tr>\n",
       "    <tr>\n",
       "      <th>mse</th>\n",
       "      <td>5976635.801</td>\n",
       "      <td>5788441.912</td>\n",
       "      <td>5981292.027</td>\n",
       "      <td>5763154.860</td>\n",
       "    </tr>\n",
       "    <tr>\n",
       "      <th>rmse</th>\n",
       "      <td>2444.716</td>\n",
       "      <td>2405.918</td>\n",
       "      <td>2445.668</td>\n",
       "      <td>2400.657</td>\n",
       "    </tr>\n",
       "  </tbody>\n",
       "</table>\n",
       "</div>"
      ],
      "text/plain": [
       "      linear_train  linear_test  ridge_train  ridge_test\n",
       "R2           0.890        0.893        0.890       0.893\n",
       "mae       1717.578     1716.339     1717.531    1714.093\n",
       "mse    5976635.801  5788441.912  5981292.027 5763154.860\n",
       "rmse      2444.716     2405.918     2445.668    2400.657"
      ]
     },
     "execution_count": 28,
     "metadata": {},
     "output_type": "execute_result"
    }
   ],
   "source": [
    "pd.concat([linear_score, ridge_score], axis=1)"
   ]
  },
  {
   "cell_type": "markdown",
   "metadata": {},
   "source": [
    "##### Cross Validatin With Default alpha value (alpha = 1) "
   ]
  },
  {
   "cell_type": "code",
   "execution_count": 29,
   "metadata": {},
   "outputs": [],
   "source": [
    "scores = cross_validate(ridge_model, X_train_scaled, y_train,\n",
    "                        scoring=[\"r2\", \"neg_mean_absolute_error\", \"neg_mean_squared_error\", \"neg_root_mean_squared_error\"],\n",
    "                        cv=5)"
   ]
  },
  {
   "cell_type": "code",
   "execution_count": 30,
   "metadata": {},
   "outputs": [
    {
     "data": {
      "text/html": [
       "<div>\n",
       "<style scoped>\n",
       "    .dataframe tbody tr th:only-of-type {\n",
       "        vertical-align: middle;\n",
       "    }\n",
       "\n",
       "    .dataframe tbody tr th {\n",
       "        vertical-align: top;\n",
       "    }\n",
       "\n",
       "    .dataframe thead th {\n",
       "        text-align: right;\n",
       "    }\n",
       "</style>\n",
       "<table border=\"1\" class=\"dataframe\">\n",
       "  <thead>\n",
       "    <tr style=\"text-align: right;\">\n",
       "      <th></th>\n",
       "      <th>fit_time</th>\n",
       "      <th>score_time</th>\n",
       "      <th>test_r2</th>\n",
       "      <th>test_neg_mean_absolute_error</th>\n",
       "      <th>test_neg_mean_squared_error</th>\n",
       "      <th>test_neg_root_mean_squared_error</th>\n",
       "    </tr>\n",
       "  </thead>\n",
       "  <tbody>\n",
       "    <tr>\n",
       "      <th>1</th>\n",
       "      <td>0.024</td>\n",
       "      <td>0.002</td>\n",
       "      <td>0.880</td>\n",
       "      <td>-1787.821</td>\n",
       "      <td>-6677055.710</td>\n",
       "      <td>-2584.000</td>\n",
       "    </tr>\n",
       "    <tr>\n",
       "      <th>2</th>\n",
       "      <td>0.021</td>\n",
       "      <td>0.002</td>\n",
       "      <td>0.891</td>\n",
       "      <td>-1764.011</td>\n",
       "      <td>-6117735.920</td>\n",
       "      <td>-2473.406</td>\n",
       "    </tr>\n",
       "    <tr>\n",
       "      <th>3</th>\n",
       "      <td>0.013</td>\n",
       "      <td>0.000</td>\n",
       "      <td>0.877</td>\n",
       "      <td>-1711.174</td>\n",
       "      <td>-5947475.056</td>\n",
       "      <td>-2438.745</td>\n",
       "    </tr>\n",
       "    <tr>\n",
       "      <th>4</th>\n",
       "      <td>0.032</td>\n",
       "      <td>0.000</td>\n",
       "      <td>0.891</td>\n",
       "      <td>-1740.236</td>\n",
       "      <td>-5964838.520</td>\n",
       "      <td>-2442.302</td>\n",
       "    </tr>\n",
       "    <tr>\n",
       "      <th>5</th>\n",
       "      <td>0.016</td>\n",
       "      <td>0.000</td>\n",
       "      <td>0.886</td>\n",
       "      <td>-1723.058</td>\n",
       "      <td>-6420456.048</td>\n",
       "      <td>-2533.862</td>\n",
       "    </tr>\n",
       "  </tbody>\n",
       "</table>\n",
       "</div>"
      ],
      "text/plain": [
       "   fit_time  score_time  test_r2  test_neg_mean_absolute_error  \\\n",
       "1     0.024       0.002    0.880                     -1787.821   \n",
       "2     0.021       0.002    0.891                     -1764.011   \n",
       "3     0.013       0.000    0.877                     -1711.174   \n",
       "4     0.032       0.000    0.891                     -1740.236   \n",
       "5     0.016       0.000    0.886                     -1723.058   \n",
       "\n",
       "   test_neg_mean_squared_error  test_neg_root_mean_squared_error  \n",
       "1                 -6677055.710                         -2584.000  \n",
       "2                 -6117735.920                         -2473.406  \n",
       "3                 -5947475.056                         -2438.745  \n",
       "4                 -5964838.520                         -2442.302  \n",
       "5                 -6420456.048                         -2533.862  "
      ]
     },
     "execution_count": 30,
     "metadata": {},
     "output_type": "execute_result"
    }
   ],
   "source": [
    "pd.DataFrame(scores, index=range(1,6))"
   ]
  },
  {
   "cell_type": "code",
   "execution_count": 31,
   "metadata": {},
   "outputs": [
    {
     "data": {
      "text/plain": [
       "test_r2                                   0.885\n",
       "test_neg_mean_absolute_error          -1745.260\n",
       "test_neg_mean_squared_error        -6225512.251\n",
       "test_neg_root_mean_squared_error      -2494.463\n",
       "dtype: float64"
      ]
     },
     "execution_count": 31,
     "metadata": {},
     "output_type": "execute_result"
    }
   ],
   "source": [
    "scores = pd.DataFrame(scores, index=range(1,6)).iloc[:, 2:].mean()\n",
    "scores"
   ]
  },
  {
   "cell_type": "markdown",
   "metadata": {},
   "source": [
    "##### Choosing Best alpha Value with Cross Validation"
   ]
  },
  {
   "cell_type": "code",
   "execution_count": 32,
   "metadata": {},
   "outputs": [
    {
     "data": {
      "text/plain": [
       "array([0.01, 0.02, 0.03, 0.04, 0.05, 0.06, 0.07, 0.08, 0.09, 0.1 , 0.11,\n",
       "       0.12, 0.13, 0.14, 0.15, 0.16, 0.17, 0.18, 0.19, 0.2 , 0.21, 0.22,\n",
       "       0.23, 0.24, 0.25, 0.26, 0.27, 0.28, 0.29, 0.3 , 0.31, 0.32, 0.33,\n",
       "       0.34, 0.35, 0.36, 0.37, 0.38, 0.39, 0.4 , 0.41, 0.42, 0.43, 0.44,\n",
       "       0.45, 0.46, 0.47, 0.48, 0.49, 0.5 , 0.51, 0.52, 0.53, 0.54, 0.55,\n",
       "       0.56, 0.57, 0.58, 0.59, 0.6 , 0.61, 0.62, 0.63, 0.64, 0.65, 0.66,\n",
       "       0.67, 0.68, 0.69, 0.7 , 0.71, 0.72, 0.73, 0.74, 0.75, 0.76, 0.77,\n",
       "       0.78, 0.79, 0.8 , 0.81, 0.82, 0.83, 0.84, 0.85, 0.86, 0.87, 0.88,\n",
       "       0.89, 0.9 , 0.91, 0.92, 0.93, 0.94, 0.95, 0.96, 0.97, 0.98, 0.99,\n",
       "       1.  ])"
      ]
     },
     "execution_count": 32,
     "metadata": {},
     "output_type": "execute_result"
    }
   ],
   "source": [
    "alpha_space = np.linspace(0.01, 1, 100)\n",
    "alpha_space"
   ]
  },
  {
   "cell_type": "code",
   "execution_count": 33,
   "metadata": {},
   "outputs": [],
   "source": [
    "ridge_cv_model = RidgeCV(alphas=alpha_space, cv=5, scoring=\"neg_root_mean_squared_error\")"
   ]
  },
  {
   "cell_type": "code",
   "execution_count": 34,
   "metadata": {},
   "outputs": [
    {
     "data": {
      "text/html": [
       "<style>#sk-container-id-4 {color: black;background-color: white;}#sk-container-id-4 pre{padding: 0;}#sk-container-id-4 div.sk-toggleable {background-color: white;}#sk-container-id-4 label.sk-toggleable__label {cursor: pointer;display: block;width: 100%;margin-bottom: 0;padding: 0.3em;box-sizing: border-box;text-align: center;}#sk-container-id-4 label.sk-toggleable__label-arrow:before {content: \"▸\";float: left;margin-right: 0.25em;color: #696969;}#sk-container-id-4 label.sk-toggleable__label-arrow:hover:before {color: black;}#sk-container-id-4 div.sk-estimator:hover label.sk-toggleable__label-arrow:before {color: black;}#sk-container-id-4 div.sk-toggleable__content {max-height: 0;max-width: 0;overflow: hidden;text-align: left;background-color: #f0f8ff;}#sk-container-id-4 div.sk-toggleable__content pre {margin: 0.2em;color: black;border-radius: 0.25em;background-color: #f0f8ff;}#sk-container-id-4 input.sk-toggleable__control:checked~div.sk-toggleable__content {max-height: 200px;max-width: 100%;overflow: auto;}#sk-container-id-4 input.sk-toggleable__control:checked~label.sk-toggleable__label-arrow:before {content: \"▾\";}#sk-container-id-4 div.sk-estimator input.sk-toggleable__control:checked~label.sk-toggleable__label {background-color: #d4ebff;}#sk-container-id-4 div.sk-label input.sk-toggleable__control:checked~label.sk-toggleable__label {background-color: #d4ebff;}#sk-container-id-4 input.sk-hidden--visually {border: 0;clip: rect(1px 1px 1px 1px);clip: rect(1px, 1px, 1px, 1px);height: 1px;margin: -1px;overflow: hidden;padding: 0;position: absolute;width: 1px;}#sk-container-id-4 div.sk-estimator {font-family: monospace;background-color: #f0f8ff;border: 1px dotted black;border-radius: 0.25em;box-sizing: border-box;margin-bottom: 0.5em;}#sk-container-id-4 div.sk-estimator:hover {background-color: #d4ebff;}#sk-container-id-4 div.sk-parallel-item::after {content: \"\";width: 100%;border-bottom: 1px solid gray;flex-grow: 1;}#sk-container-id-4 div.sk-label:hover label.sk-toggleable__label {background-color: #d4ebff;}#sk-container-id-4 div.sk-serial::before {content: \"\";position: absolute;border-left: 1px solid gray;box-sizing: border-box;top: 0;bottom: 0;left: 50%;z-index: 0;}#sk-container-id-4 div.sk-serial {display: flex;flex-direction: column;align-items: center;background-color: white;padding-right: 0.2em;padding-left: 0.2em;position: relative;}#sk-container-id-4 div.sk-item {position: relative;z-index: 1;}#sk-container-id-4 div.sk-parallel {display: flex;align-items: stretch;justify-content: center;background-color: white;position: relative;}#sk-container-id-4 div.sk-item::before, #sk-container-id-4 div.sk-parallel-item::before {content: \"\";position: absolute;border-left: 1px solid gray;box-sizing: border-box;top: 0;bottom: 0;left: 50%;z-index: -1;}#sk-container-id-4 div.sk-parallel-item {display: flex;flex-direction: column;z-index: 1;position: relative;background-color: white;}#sk-container-id-4 div.sk-parallel-item:first-child::after {align-self: flex-end;width: 50%;}#sk-container-id-4 div.sk-parallel-item:last-child::after {align-self: flex-start;width: 50%;}#sk-container-id-4 div.sk-parallel-item:only-child::after {width: 0;}#sk-container-id-4 div.sk-dashed-wrapped {border: 1px dashed gray;margin: 0 0.4em 0.5em 0.4em;box-sizing: border-box;padding-bottom: 0.4em;background-color: white;}#sk-container-id-4 div.sk-label label {font-family: monospace;font-weight: bold;display: inline-block;line-height: 1.2em;}#sk-container-id-4 div.sk-label-container {text-align: center;}#sk-container-id-4 div.sk-container {/* jupyter's `normalize.less` sets `[hidden] { display: none; }` but bootstrap.min.css set `[hidden] { display: none !important; }` so we also need the `!important` here to be able to override the default hidden behavior on the sphinx rendered scikit-learn.org. See: https://github.com/scikit-learn/scikit-learn/issues/21755 */display: inline-block !important;position: relative;}#sk-container-id-4 div.sk-text-repr-fallback {display: none;}</style><div id=\"sk-container-id-4\" class=\"sk-top-container\"><div class=\"sk-text-repr-fallback\"><pre>RidgeCV(alphas=array([0.01, 0.02, 0.03, 0.04, 0.05, 0.06, 0.07, 0.08, 0.09, 0.1 , 0.11,\n",
       "       0.12, 0.13, 0.14, 0.15, 0.16, 0.17, 0.18, 0.19, 0.2 , 0.21, 0.22,\n",
       "       0.23, 0.24, 0.25, 0.26, 0.27, 0.28, 0.29, 0.3 , 0.31, 0.32, 0.33,\n",
       "       0.34, 0.35, 0.36, 0.37, 0.38, 0.39, 0.4 , 0.41, 0.42, 0.43, 0.44,\n",
       "       0.45, 0.46, 0.47, 0.48, 0.49, 0.5 , 0.51, 0.52, 0.53, 0.54, 0.55,\n",
       "       0.56, 0.57, 0.58, 0.59, 0.6 , 0.61, 0.62, 0.63, 0.64, 0.65, 0.66,\n",
       "       0.67, 0.68, 0.69, 0.7 , 0.71, 0.72, 0.73, 0.74, 0.75, 0.76, 0.77,\n",
       "       0.78, 0.79, 0.8 , 0.81, 0.82, 0.83, 0.84, 0.85, 0.86, 0.87, 0.88,\n",
       "       0.89, 0.9 , 0.91, 0.92, 0.93, 0.94, 0.95, 0.96, 0.97, 0.98, 0.99,\n",
       "       1.  ]),\n",
       "        cv=5, scoring=&#x27;neg_root_mean_squared_error&#x27;)</pre><b>In a Jupyter environment, please rerun this cell to show the HTML representation or trust the notebook. <br />On GitHub, the HTML representation is unable to render, please try loading this page with nbviewer.org.</b></div><div class=\"sk-container\" hidden><div class=\"sk-item\"><div class=\"sk-estimator sk-toggleable\"><input class=\"sk-toggleable__control sk-hidden--visually\" id=\"sk-estimator-id-4\" type=\"checkbox\" checked><label for=\"sk-estimator-id-4\" class=\"sk-toggleable__label sk-toggleable__label-arrow\">RidgeCV</label><div class=\"sk-toggleable__content\"><pre>RidgeCV(alphas=array([0.01, 0.02, 0.03, 0.04, 0.05, 0.06, 0.07, 0.08, 0.09, 0.1 , 0.11,\n",
       "       0.12, 0.13, 0.14, 0.15, 0.16, 0.17, 0.18, 0.19, 0.2 , 0.21, 0.22,\n",
       "       0.23, 0.24, 0.25, 0.26, 0.27, 0.28, 0.29, 0.3 , 0.31, 0.32, 0.33,\n",
       "       0.34, 0.35, 0.36, 0.37, 0.38, 0.39, 0.4 , 0.41, 0.42, 0.43, 0.44,\n",
       "       0.45, 0.46, 0.47, 0.48, 0.49, 0.5 , 0.51, 0.52, 0.53, 0.54, 0.55,\n",
       "       0.56, 0.57, 0.58, 0.59, 0.6 , 0.61, 0.62, 0.63, 0.64, 0.65, 0.66,\n",
       "       0.67, 0.68, 0.69, 0.7 , 0.71, 0.72, 0.73, 0.74, 0.75, 0.76, 0.77,\n",
       "       0.78, 0.79, 0.8 , 0.81, 0.82, 0.83, 0.84, 0.85, 0.86, 0.87, 0.88,\n",
       "       0.89, 0.9 , 0.91, 0.92, 0.93, 0.94, 0.95, 0.96, 0.97, 0.98, 0.99,\n",
       "       1.  ]),\n",
       "        cv=5, scoring=&#x27;neg_root_mean_squared_error&#x27;)</pre></div></div></div></div></div>"
      ],
      "text/plain": [
       "RidgeCV(alphas=array([0.01, 0.02, 0.03, 0.04, 0.05, 0.06, 0.07, 0.08, 0.09, 0.1 , 0.11,\n",
       "       0.12, 0.13, 0.14, 0.15, 0.16, 0.17, 0.18, 0.19, 0.2 , 0.21, 0.22,\n",
       "       0.23, 0.24, 0.25, 0.26, 0.27, 0.28, 0.29, 0.3 , 0.31, 0.32, 0.33,\n",
       "       0.34, 0.35, 0.36, 0.37, 0.38, 0.39, 0.4 , 0.41, 0.42, 0.43, 0.44,\n",
       "       0.45, 0.46, 0.47, 0.48, 0.49, 0.5 , 0.51, 0.52, 0.53, 0.54, 0.55,\n",
       "       0.56, 0.57, 0.58, 0.59, 0.6 , 0.61, 0.62, 0.63, 0.64, 0.65, 0.66,\n",
       "       0.67, 0.68, 0.69, 0.7 , 0.71, 0.72, 0.73, 0.74, 0.75, 0.76, 0.77,\n",
       "       0.78, 0.79, 0.8 , 0.81, 0.82, 0.83, 0.84, 0.85, 0.86, 0.87, 0.88,\n",
       "       0.89, 0.9 , 0.91, 0.92, 0.93, 0.94, 0.95, 0.96, 0.97, 0.98, 0.99,\n",
       "       1.  ]),\n",
       "        cv=5, scoring='neg_root_mean_squared_error')"
      ]
     },
     "execution_count": 34,
     "metadata": {},
     "output_type": "execute_result"
    }
   ],
   "source": [
    "ridge_cv_model.fit(X_train_scaled, y_train)"
   ]
  },
  {
   "cell_type": "code",
   "execution_count": 35,
   "metadata": {},
   "outputs": [
    {
     "data": {
      "text/plain": [
       "0.86"
      ]
     },
     "execution_count": 35,
     "metadata": {},
     "output_type": "execute_result"
    }
   ],
   "source": [
    "ridge_cv_model.alpha_"
   ]
  },
  {
   "cell_type": "code",
   "execution_count": 36,
   "metadata": {},
   "outputs": [
    {
     "data": {
      "text/plain": [
       "-2494.4447895655653"
      ]
     },
     "execution_count": 36,
     "metadata": {},
     "output_type": "execute_result"
    }
   ],
   "source": [
    "ridge_cv_model.best_score_"
   ]
  },
  {
   "cell_type": "code",
   "execution_count": 37,
   "metadata": {},
   "outputs": [],
   "source": [
    "y_pred = ridge_cv_model.predict(X_test_scaled)\n",
    "y_train_pred = ridge_cv_model.predict(X_train_scaled)"
   ]
  },
  {
   "cell_type": "code",
   "execution_count": 38,
   "metadata": {},
   "outputs": [
    {
     "data": {
      "text/html": [
       "<div>\n",
       "<style scoped>\n",
       "    .dataframe tbody tr th:only-of-type {\n",
       "        vertical-align: middle;\n",
       "    }\n",
       "\n",
       "    .dataframe tbody tr th {\n",
       "        vertical-align: top;\n",
       "    }\n",
       "\n",
       "    .dataframe thead th {\n",
       "        text-align: right;\n",
       "    }\n",
       "</style>\n",
       "<table border=\"1\" class=\"dataframe\">\n",
       "  <thead>\n",
       "    <tr style=\"text-align: right;\">\n",
       "      <th></th>\n",
       "      <th>ridge_cv_train</th>\n",
       "      <th>ridge_cv_test</th>\n",
       "    </tr>\n",
       "  </thead>\n",
       "  <tbody>\n",
       "    <tr>\n",
       "      <th>R2</th>\n",
       "      <td>0.890</td>\n",
       "      <td>0.893</td>\n",
       "    </tr>\n",
       "    <tr>\n",
       "      <th>mae</th>\n",
       "      <td>1717.502</td>\n",
       "      <td>1714.242</td>\n",
       "    </tr>\n",
       "    <tr>\n",
       "      <th>mse</th>\n",
       "      <td>5980348.419</td>\n",
       "      <td>5764474.114</td>\n",
       "    </tr>\n",
       "    <tr>\n",
       "      <th>rmse</th>\n",
       "      <td>2445.475</td>\n",
       "      <td>2400.932</td>\n",
       "    </tr>\n",
       "  </tbody>\n",
       "</table>\n",
       "</div>"
      ],
      "text/plain": [
       "      ridge_cv_train  ridge_cv_test\n",
       "R2             0.890          0.893\n",
       "mae         1717.502       1714.242\n",
       "mse      5980348.419    5764474.114\n",
       "rmse        2445.475       2400.932"
      ]
     },
     "execution_count": 38,
     "metadata": {},
     "output_type": "execute_result"
    }
   ],
   "source": [
    "ridge_cv_scores = train_val(y_train, y_train_pred, y_test, y_pred, \"ridge_cv\")\n",
    "ridge_cv_scores"
   ]
  },
  {
   "cell_type": "code",
   "execution_count": 39,
   "metadata": {},
   "outputs": [
    {
     "data": {
      "text/html": [
       "<div>\n",
       "<style scoped>\n",
       "    .dataframe tbody tr th:only-of-type {\n",
       "        vertical-align: middle;\n",
       "    }\n",
       "\n",
       "    .dataframe tbody tr th {\n",
       "        vertical-align: top;\n",
       "    }\n",
       "\n",
       "    .dataframe thead th {\n",
       "        text-align: right;\n",
       "    }\n",
       "</style>\n",
       "<table border=\"1\" class=\"dataframe\">\n",
       "  <thead>\n",
       "    <tr style=\"text-align: right;\">\n",
       "      <th></th>\n",
       "      <th>linear_train</th>\n",
       "      <th>linear_test</th>\n",
       "      <th>ridge_train</th>\n",
       "      <th>ridge_test</th>\n",
       "      <th>ridge_cv_train</th>\n",
       "      <th>ridge_cv_test</th>\n",
       "    </tr>\n",
       "  </thead>\n",
       "  <tbody>\n",
       "    <tr>\n",
       "      <th>R2</th>\n",
       "      <td>0.890</td>\n",
       "      <td>0.893</td>\n",
       "      <td>0.890</td>\n",
       "      <td>0.893</td>\n",
       "      <td>0.890</td>\n",
       "      <td>0.893</td>\n",
       "    </tr>\n",
       "    <tr>\n",
       "      <th>mae</th>\n",
       "      <td>1717.578</td>\n",
       "      <td>1716.339</td>\n",
       "      <td>1717.531</td>\n",
       "      <td>1714.093</td>\n",
       "      <td>1717.502</td>\n",
       "      <td>1714.242</td>\n",
       "    </tr>\n",
       "    <tr>\n",
       "      <th>mse</th>\n",
       "      <td>5976635.801</td>\n",
       "      <td>5788441.912</td>\n",
       "      <td>5981292.027</td>\n",
       "      <td>5763154.860</td>\n",
       "      <td>5980348.419</td>\n",
       "      <td>5764474.114</td>\n",
       "    </tr>\n",
       "    <tr>\n",
       "      <th>rmse</th>\n",
       "      <td>2444.716</td>\n",
       "      <td>2405.918</td>\n",
       "      <td>2445.668</td>\n",
       "      <td>2400.657</td>\n",
       "      <td>2445.475</td>\n",
       "      <td>2400.932</td>\n",
       "    </tr>\n",
       "  </tbody>\n",
       "</table>\n",
       "</div>"
      ],
      "text/plain": [
       "      linear_train  linear_test  ridge_train  ridge_test  ridge_cv_train  \\\n",
       "R2           0.890        0.893        0.890       0.893           0.890   \n",
       "mae       1717.578     1716.339     1717.531    1714.093        1717.502   \n",
       "mse    5976635.801  5788441.912  5981292.027 5763154.860     5980348.419   \n",
       "rmse      2444.716     2405.918     2445.668    2400.657        2445.475   \n",
       "\n",
       "      ridge_cv_test  \n",
       "R2            0.893  \n",
       "mae        1714.242  \n",
       "mse     5764474.114  \n",
       "rmse       2400.932  "
      ]
     },
     "execution_count": 39,
     "metadata": {},
     "output_type": "execute_result"
    }
   ],
   "source": [
    "pd.concat([linear_score, ridge_score, ridge_cv_scores], axis=1)"
   ]
  },
  {
   "cell_type": "code",
   "execution_count": null,
   "metadata": {},
   "outputs": [],
   "source": []
  },
  {
   "cell_type": "markdown",
   "metadata": {
    "id": "oDfXOSnpmqZO"
   },
   "source": [
    "## 5. Implement Lasso Regression"
   ]
  },
  {
   "cell_type": "markdown",
   "metadata": {
    "id": "icqyxzBymqZO"
   },
   "source": [
    "- Import the modul \n",
    "- Do not forget to scale the data or use Normalize parameter as True(If needed)\n",
    "- Fit the model \n",
    "- Predict the test set \n",
    "- Evaluate model performance (use performance metrics for regression) \n",
    "- Tune alpha hyperparameter by using [cross validation](https://scikit-learn.org/stable/modules/generated/sklearn.linear_model.LassoCV.html) and determine the optimal alpha value.\n",
    "- Fit the model and predict again with the new alpha value.\n",
    "- Compare different evaluation metrics\n",
    "\n",
    "*Note: To understand the importance of the alpha hyperparameter, you can observe the effects of different alpha values on feature coefficants.*"
   ]
  },
  {
   "cell_type": "code",
   "execution_count": 40,
   "metadata": {
    "id": "KbGqu0u5mqZO"
   },
   "outputs": [],
   "source": [
    "from sklearn.linear_model import Lasso, LassoCV"
   ]
  },
  {
   "cell_type": "code",
   "execution_count": 41,
   "metadata": {},
   "outputs": [
    {
     "data": {
      "text/html": [
       "<style>#sk-container-id-5 {color: black;background-color: white;}#sk-container-id-5 pre{padding: 0;}#sk-container-id-5 div.sk-toggleable {background-color: white;}#sk-container-id-5 label.sk-toggleable__label {cursor: pointer;display: block;width: 100%;margin-bottom: 0;padding: 0.3em;box-sizing: border-box;text-align: center;}#sk-container-id-5 label.sk-toggleable__label-arrow:before {content: \"▸\";float: left;margin-right: 0.25em;color: #696969;}#sk-container-id-5 label.sk-toggleable__label-arrow:hover:before {color: black;}#sk-container-id-5 div.sk-estimator:hover label.sk-toggleable__label-arrow:before {color: black;}#sk-container-id-5 div.sk-toggleable__content {max-height: 0;max-width: 0;overflow: hidden;text-align: left;background-color: #f0f8ff;}#sk-container-id-5 div.sk-toggleable__content pre {margin: 0.2em;color: black;border-radius: 0.25em;background-color: #f0f8ff;}#sk-container-id-5 input.sk-toggleable__control:checked~div.sk-toggleable__content {max-height: 200px;max-width: 100%;overflow: auto;}#sk-container-id-5 input.sk-toggleable__control:checked~label.sk-toggleable__label-arrow:before {content: \"▾\";}#sk-container-id-5 div.sk-estimator input.sk-toggleable__control:checked~label.sk-toggleable__label {background-color: #d4ebff;}#sk-container-id-5 div.sk-label input.sk-toggleable__control:checked~label.sk-toggleable__label {background-color: #d4ebff;}#sk-container-id-5 input.sk-hidden--visually {border: 0;clip: rect(1px 1px 1px 1px);clip: rect(1px, 1px, 1px, 1px);height: 1px;margin: -1px;overflow: hidden;padding: 0;position: absolute;width: 1px;}#sk-container-id-5 div.sk-estimator {font-family: monospace;background-color: #f0f8ff;border: 1px dotted black;border-radius: 0.25em;box-sizing: border-box;margin-bottom: 0.5em;}#sk-container-id-5 div.sk-estimator:hover {background-color: #d4ebff;}#sk-container-id-5 div.sk-parallel-item::after {content: \"\";width: 100%;border-bottom: 1px solid gray;flex-grow: 1;}#sk-container-id-5 div.sk-label:hover label.sk-toggleable__label {background-color: #d4ebff;}#sk-container-id-5 div.sk-serial::before {content: \"\";position: absolute;border-left: 1px solid gray;box-sizing: border-box;top: 0;bottom: 0;left: 50%;z-index: 0;}#sk-container-id-5 div.sk-serial {display: flex;flex-direction: column;align-items: center;background-color: white;padding-right: 0.2em;padding-left: 0.2em;position: relative;}#sk-container-id-5 div.sk-item {position: relative;z-index: 1;}#sk-container-id-5 div.sk-parallel {display: flex;align-items: stretch;justify-content: center;background-color: white;position: relative;}#sk-container-id-5 div.sk-item::before, #sk-container-id-5 div.sk-parallel-item::before {content: \"\";position: absolute;border-left: 1px solid gray;box-sizing: border-box;top: 0;bottom: 0;left: 50%;z-index: -1;}#sk-container-id-5 div.sk-parallel-item {display: flex;flex-direction: column;z-index: 1;position: relative;background-color: white;}#sk-container-id-5 div.sk-parallel-item:first-child::after {align-self: flex-end;width: 50%;}#sk-container-id-5 div.sk-parallel-item:last-child::after {align-self: flex-start;width: 50%;}#sk-container-id-5 div.sk-parallel-item:only-child::after {width: 0;}#sk-container-id-5 div.sk-dashed-wrapped {border: 1px dashed gray;margin: 0 0.4em 0.5em 0.4em;box-sizing: border-box;padding-bottom: 0.4em;background-color: white;}#sk-container-id-5 div.sk-label label {font-family: monospace;font-weight: bold;display: inline-block;line-height: 1.2em;}#sk-container-id-5 div.sk-label-container {text-align: center;}#sk-container-id-5 div.sk-container {/* jupyter's `normalize.less` sets `[hidden] { display: none; }` but bootstrap.min.css set `[hidden] { display: none !important; }` so we also need the `!important` here to be able to override the default hidden behavior on the sphinx rendered scikit-learn.org. See: https://github.com/scikit-learn/scikit-learn/issues/21755 */display: inline-block !important;position: relative;}#sk-container-id-5 div.sk-text-repr-fallback {display: none;}</style><div id=\"sk-container-id-5\" class=\"sk-top-container\"><div class=\"sk-text-repr-fallback\"><pre>Lasso(alpha=1, random_state=42)</pre><b>In a Jupyter environment, please rerun this cell to show the HTML representation or trust the notebook. <br />On GitHub, the HTML representation is unable to render, please try loading this page with nbviewer.org.</b></div><div class=\"sk-container\" hidden><div class=\"sk-item\"><div class=\"sk-estimator sk-toggleable\"><input class=\"sk-toggleable__control sk-hidden--visually\" id=\"sk-estimator-id-5\" type=\"checkbox\" checked><label for=\"sk-estimator-id-5\" class=\"sk-toggleable__label sk-toggleable__label-arrow\">Lasso</label><div class=\"sk-toggleable__content\"><pre>Lasso(alpha=1, random_state=42)</pre></div></div></div></div></div>"
      ],
      "text/plain": [
       "Lasso(alpha=1, random_state=42)"
      ]
     },
     "execution_count": 41,
     "metadata": {},
     "output_type": "execute_result"
    }
   ],
   "source": [
    "lasso_model = Lasso(alpha=1, random_state=42)\n",
    "lasso_model.fit(X_train_scaled, y_train)"
   ]
  },
  {
   "cell_type": "code",
   "execution_count": 42,
   "metadata": {},
   "outputs": [],
   "source": [
    "y_pred = lasso_model.predict(X_test_scaled)\n",
    "y_train_perd = lasso_model.predict(X_train_scaled)"
   ]
  },
  {
   "cell_type": "code",
   "execution_count": 43,
   "metadata": {},
   "outputs": [
    {
     "data": {
      "text/html": [
       "<div>\n",
       "<style scoped>\n",
       "    .dataframe tbody tr th:only-of-type {\n",
       "        vertical-align: middle;\n",
       "    }\n",
       "\n",
       "    .dataframe tbody tr th {\n",
       "        vertical-align: top;\n",
       "    }\n",
       "\n",
       "    .dataframe thead th {\n",
       "        text-align: right;\n",
       "    }\n",
       "</style>\n",
       "<table border=\"1\" class=\"dataframe\">\n",
       "  <thead>\n",
       "    <tr style=\"text-align: right;\">\n",
       "      <th></th>\n",
       "      <th>lasso_train</th>\n",
       "      <th>lasso_test</th>\n",
       "    </tr>\n",
       "  </thead>\n",
       "  <tbody>\n",
       "    <tr>\n",
       "      <th>R2</th>\n",
       "      <td>0.890</td>\n",
       "      <td>0.894</td>\n",
       "    </tr>\n",
       "    <tr>\n",
       "      <th>mae</th>\n",
       "      <td>1717.502</td>\n",
       "      <td>1712.720</td>\n",
       "    </tr>\n",
       "    <tr>\n",
       "      <th>mse</th>\n",
       "      <td>5980348.419</td>\n",
       "      <td>5757068.832</td>\n",
       "    </tr>\n",
       "    <tr>\n",
       "      <th>rmse</th>\n",
       "      <td>2445.475</td>\n",
       "      <td>2399.389</td>\n",
       "    </tr>\n",
       "  </tbody>\n",
       "</table>\n",
       "</div>"
      ],
      "text/plain": [
       "      lasso_train  lasso_test\n",
       "R2          0.890       0.894\n",
       "mae      1717.502    1712.720\n",
       "mse   5980348.419 5757068.832\n",
       "rmse     2445.475    2399.389"
      ]
     },
     "execution_count": 43,
     "metadata": {},
     "output_type": "execute_result"
    }
   ],
   "source": [
    "lasso_score = train_val(y_train, y_train_pred, y_test, y_pred, \"lasso\")\n",
    "lasso_score"
   ]
  },
  {
   "cell_type": "code",
   "execution_count": 44,
   "metadata": {},
   "outputs": [
    {
     "data": {
      "text/html": [
       "<div>\n",
       "<style scoped>\n",
       "    .dataframe tbody tr th:only-of-type {\n",
       "        vertical-align: middle;\n",
       "    }\n",
       "\n",
       "    .dataframe tbody tr th {\n",
       "        vertical-align: top;\n",
       "    }\n",
       "\n",
       "    .dataframe thead th {\n",
       "        text-align: right;\n",
       "    }\n",
       "</style>\n",
       "<table border=\"1\" class=\"dataframe\">\n",
       "  <thead>\n",
       "    <tr style=\"text-align: right;\">\n",
       "      <th></th>\n",
       "      <th>linear_train</th>\n",
       "      <th>linear_test</th>\n",
       "      <th>ridge_train</th>\n",
       "      <th>ridge_test</th>\n",
       "      <th>ridge_cv_train</th>\n",
       "      <th>ridge_cv_test</th>\n",
       "      <th>lasso_train</th>\n",
       "      <th>lasso_test</th>\n",
       "    </tr>\n",
       "  </thead>\n",
       "  <tbody>\n",
       "    <tr>\n",
       "      <th>R2</th>\n",
       "      <td>0.890</td>\n",
       "      <td>0.893</td>\n",
       "      <td>0.890</td>\n",
       "      <td>0.893</td>\n",
       "      <td>0.890</td>\n",
       "      <td>0.893</td>\n",
       "      <td>0.890</td>\n",
       "      <td>0.894</td>\n",
       "    </tr>\n",
       "    <tr>\n",
       "      <th>mae</th>\n",
       "      <td>1717.578</td>\n",
       "      <td>1716.339</td>\n",
       "      <td>1717.531</td>\n",
       "      <td>1714.093</td>\n",
       "      <td>1717.502</td>\n",
       "      <td>1714.242</td>\n",
       "      <td>1717.502</td>\n",
       "      <td>1712.720</td>\n",
       "    </tr>\n",
       "    <tr>\n",
       "      <th>mse</th>\n",
       "      <td>5976635.801</td>\n",
       "      <td>5788441.912</td>\n",
       "      <td>5981292.027</td>\n",
       "      <td>5763154.860</td>\n",
       "      <td>5980348.419</td>\n",
       "      <td>5764474.114</td>\n",
       "      <td>5980348.419</td>\n",
       "      <td>5757068.832</td>\n",
       "    </tr>\n",
       "    <tr>\n",
       "      <th>rmse</th>\n",
       "      <td>2444.716</td>\n",
       "      <td>2405.918</td>\n",
       "      <td>2445.668</td>\n",
       "      <td>2400.657</td>\n",
       "      <td>2445.475</td>\n",
       "      <td>2400.932</td>\n",
       "      <td>2445.475</td>\n",
       "      <td>2399.389</td>\n",
       "    </tr>\n",
       "  </tbody>\n",
       "</table>\n",
       "</div>"
      ],
      "text/plain": [
       "      linear_train  linear_test  ridge_train  ridge_test  ridge_cv_train  \\\n",
       "R2           0.890        0.893        0.890       0.893           0.890   \n",
       "mae       1717.578     1716.339     1717.531    1714.093        1717.502   \n",
       "mse    5976635.801  5788441.912  5981292.027 5763154.860     5980348.419   \n",
       "rmse      2444.716     2405.918     2445.668    2400.657        2445.475   \n",
       "\n",
       "      ridge_cv_test  lasso_train  lasso_test  \n",
       "R2            0.893        0.890       0.894  \n",
       "mae        1714.242     1717.502    1712.720  \n",
       "mse     5764474.114  5980348.419 5757068.832  \n",
       "rmse       2400.932     2445.475    2399.389  "
      ]
     },
     "execution_count": 44,
     "metadata": {},
     "output_type": "execute_result"
    }
   ],
   "source": [
    "pd.concat([linear_score, ridge_score, ridge_cv_scores, lasso_score], axis=1)"
   ]
  },
  {
   "cell_type": "markdown",
   "metadata": {},
   "source": [
    "##### Cross Validatin With Default alpha value (alpha = 1) "
   ]
  },
  {
   "cell_type": "code",
   "execution_count": 45,
   "metadata": {},
   "outputs": [],
   "source": [
    "scores = cross_validate(lasso_model, X_train_scaled, y_train,\n",
    "                        scoring=[\"r2\", \"neg_mean_absolute_error\", \"neg_mean_squared_error\", \"neg_root_mean_squared_error\"],\n",
    "                        cv=5)"
   ]
  },
  {
   "cell_type": "code",
   "execution_count": 46,
   "metadata": {},
   "outputs": [
    {
     "data": {
      "text/html": [
       "<div>\n",
       "<style scoped>\n",
       "    .dataframe tbody tr th:only-of-type {\n",
       "        vertical-align: middle;\n",
       "    }\n",
       "\n",
       "    .dataframe tbody tr th {\n",
       "        vertical-align: top;\n",
       "    }\n",
       "\n",
       "    .dataframe thead th {\n",
       "        text-align: right;\n",
       "    }\n",
       "</style>\n",
       "<table border=\"1\" class=\"dataframe\">\n",
       "  <thead>\n",
       "    <tr style=\"text-align: right;\">\n",
       "      <th></th>\n",
       "      <th>fit_time</th>\n",
       "      <th>score_time</th>\n",
       "      <th>test_r2</th>\n",
       "      <th>test_neg_mean_absolute_error</th>\n",
       "      <th>test_neg_mean_squared_error</th>\n",
       "      <th>test_neg_root_mean_squared_error</th>\n",
       "    </tr>\n",
       "  </thead>\n",
       "  <tbody>\n",
       "    <tr>\n",
       "      <th>1</th>\n",
       "      <td>0.100</td>\n",
       "      <td>0.002</td>\n",
       "      <td>0.881</td>\n",
       "      <td>-1786.904</td>\n",
       "      <td>-6622440.273</td>\n",
       "      <td>-2573.410</td>\n",
       "    </tr>\n",
       "    <tr>\n",
       "      <th>2</th>\n",
       "      <td>0.098</td>\n",
       "      <td>0.002</td>\n",
       "      <td>0.891</td>\n",
       "      <td>-1760.793</td>\n",
       "      <td>-6114383.221</td>\n",
       "      <td>-2472.728</td>\n",
       "    </tr>\n",
       "    <tr>\n",
       "      <th>3</th>\n",
       "      <td>0.096</td>\n",
       "      <td>0.002</td>\n",
       "      <td>0.878</td>\n",
       "      <td>-1708.891</td>\n",
       "      <td>-5924620.744</td>\n",
       "      <td>-2434.054</td>\n",
       "    </tr>\n",
       "    <tr>\n",
       "      <th>4</th>\n",
       "      <td>0.100</td>\n",
       "      <td>0.001</td>\n",
       "      <td>0.892</td>\n",
       "      <td>-1737.893</td>\n",
       "      <td>-5952479.278</td>\n",
       "      <td>-2439.770</td>\n",
       "    </tr>\n",
       "    <tr>\n",
       "      <th>5</th>\n",
       "      <td>0.093</td>\n",
       "      <td>0.003</td>\n",
       "      <td>0.886</td>\n",
       "      <td>-1717.748</td>\n",
       "      <td>-6379801.394</td>\n",
       "      <td>-2525.827</td>\n",
       "    </tr>\n",
       "  </tbody>\n",
       "</table>\n",
       "</div>"
      ],
      "text/plain": [
       "   fit_time  score_time  test_r2  test_neg_mean_absolute_error  \\\n",
       "1     0.100       0.002    0.881                     -1786.904   \n",
       "2     0.098       0.002    0.891                     -1760.793   \n",
       "3     0.096       0.002    0.878                     -1708.891   \n",
       "4     0.100       0.001    0.892                     -1737.893   \n",
       "5     0.093       0.003    0.886                     -1717.748   \n",
       "\n",
       "   test_neg_mean_squared_error  test_neg_root_mean_squared_error  \n",
       "1                 -6622440.273                         -2573.410  \n",
       "2                 -6114383.221                         -2472.728  \n",
       "3                 -5924620.744                         -2434.054  \n",
       "4                 -5952479.278                         -2439.770  \n",
       "5                 -6379801.394                         -2525.827  "
      ]
     },
     "execution_count": 46,
     "metadata": {},
     "output_type": "execute_result"
    }
   ],
   "source": [
    "pd.DataFrame(scores, index=range(1,6))"
   ]
  },
  {
   "cell_type": "code",
   "execution_count": 47,
   "metadata": {},
   "outputs": [
    {
     "data": {
      "text/plain": [
       "test_r2                                   0.886\n",
       "test_neg_mean_absolute_error          -1742.446\n",
       "test_neg_mean_squared_error        -6198744.982\n",
       "test_neg_root_mean_squared_error      -2489.158\n",
       "dtype: float64"
      ]
     },
     "execution_count": 47,
     "metadata": {},
     "output_type": "execute_result"
    }
   ],
   "source": [
    "scores = pd.DataFrame(scores, index=range(1,6)).iloc[:, 2:].mean()\n",
    "scores"
   ]
  },
  {
   "cell_type": "markdown",
   "metadata": {},
   "source": [
    "##### Choosing Best Alpha Value With Cross-Validation"
   ]
  },
  {
   "cell_type": "code",
   "execution_count": 48,
   "metadata": {},
   "outputs": [
    {
     "data": {
      "text/plain": [
       "array([0.01, 0.02, 0.03, 0.04, 0.05, 0.06, 0.07, 0.08, 0.09, 0.1 , 0.11,\n",
       "       0.12, 0.13, 0.14, 0.15, 0.16, 0.17, 0.18, 0.19, 0.2 , 0.21, 0.22,\n",
       "       0.23, 0.24, 0.25, 0.26, 0.27, 0.28, 0.29, 0.3 , 0.31, 0.32, 0.33,\n",
       "       0.34, 0.35, 0.36, 0.37, 0.38, 0.39, 0.4 , 0.41, 0.42, 0.43, 0.44,\n",
       "       0.45, 0.46, 0.47, 0.48, 0.49, 0.5 , 0.51, 0.52, 0.53, 0.54, 0.55,\n",
       "       0.56, 0.57, 0.58, 0.59, 0.6 , 0.61, 0.62, 0.63, 0.64, 0.65, 0.66,\n",
       "       0.67, 0.68, 0.69, 0.7 , 0.71, 0.72, 0.73, 0.74, 0.75, 0.76, 0.77,\n",
       "       0.78, 0.79, 0.8 , 0.81, 0.82, 0.83, 0.84, 0.85, 0.86, 0.87, 0.88,\n",
       "       0.89, 0.9 , 0.91, 0.92, 0.93, 0.94, 0.95, 0.96, 0.97, 0.98, 0.99,\n",
       "       1.  ])"
      ]
     },
     "execution_count": 48,
     "metadata": {},
     "output_type": "execute_result"
    }
   ],
   "source": [
    "alpha_space"
   ]
  },
  {
   "cell_type": "code",
   "execution_count": 49,
   "metadata": {},
   "outputs": [],
   "source": [
    "lasso_cv_model = LassoCV(alphas=alpha_space, cv=5, max_iter=100000, random_state=42)"
   ]
  },
  {
   "cell_type": "code",
   "execution_count": 50,
   "metadata": {},
   "outputs": [
    {
     "data": {
      "text/html": [
       "<style>#sk-container-id-6 {color: black;background-color: white;}#sk-container-id-6 pre{padding: 0;}#sk-container-id-6 div.sk-toggleable {background-color: white;}#sk-container-id-6 label.sk-toggleable__label {cursor: pointer;display: block;width: 100%;margin-bottom: 0;padding: 0.3em;box-sizing: border-box;text-align: center;}#sk-container-id-6 label.sk-toggleable__label-arrow:before {content: \"▸\";float: left;margin-right: 0.25em;color: #696969;}#sk-container-id-6 label.sk-toggleable__label-arrow:hover:before {color: black;}#sk-container-id-6 div.sk-estimator:hover label.sk-toggleable__label-arrow:before {color: black;}#sk-container-id-6 div.sk-toggleable__content {max-height: 0;max-width: 0;overflow: hidden;text-align: left;background-color: #f0f8ff;}#sk-container-id-6 div.sk-toggleable__content pre {margin: 0.2em;color: black;border-radius: 0.25em;background-color: #f0f8ff;}#sk-container-id-6 input.sk-toggleable__control:checked~div.sk-toggleable__content {max-height: 200px;max-width: 100%;overflow: auto;}#sk-container-id-6 input.sk-toggleable__control:checked~label.sk-toggleable__label-arrow:before {content: \"▾\";}#sk-container-id-6 div.sk-estimator input.sk-toggleable__control:checked~label.sk-toggleable__label {background-color: #d4ebff;}#sk-container-id-6 div.sk-label input.sk-toggleable__control:checked~label.sk-toggleable__label {background-color: #d4ebff;}#sk-container-id-6 input.sk-hidden--visually {border: 0;clip: rect(1px 1px 1px 1px);clip: rect(1px, 1px, 1px, 1px);height: 1px;margin: -1px;overflow: hidden;padding: 0;position: absolute;width: 1px;}#sk-container-id-6 div.sk-estimator {font-family: monospace;background-color: #f0f8ff;border: 1px dotted black;border-radius: 0.25em;box-sizing: border-box;margin-bottom: 0.5em;}#sk-container-id-6 div.sk-estimator:hover {background-color: #d4ebff;}#sk-container-id-6 div.sk-parallel-item::after {content: \"\";width: 100%;border-bottom: 1px solid gray;flex-grow: 1;}#sk-container-id-6 div.sk-label:hover label.sk-toggleable__label {background-color: #d4ebff;}#sk-container-id-6 div.sk-serial::before {content: \"\";position: absolute;border-left: 1px solid gray;box-sizing: border-box;top: 0;bottom: 0;left: 50%;z-index: 0;}#sk-container-id-6 div.sk-serial {display: flex;flex-direction: column;align-items: center;background-color: white;padding-right: 0.2em;padding-left: 0.2em;position: relative;}#sk-container-id-6 div.sk-item {position: relative;z-index: 1;}#sk-container-id-6 div.sk-parallel {display: flex;align-items: stretch;justify-content: center;background-color: white;position: relative;}#sk-container-id-6 div.sk-item::before, #sk-container-id-6 div.sk-parallel-item::before {content: \"\";position: absolute;border-left: 1px solid gray;box-sizing: border-box;top: 0;bottom: 0;left: 50%;z-index: -1;}#sk-container-id-6 div.sk-parallel-item {display: flex;flex-direction: column;z-index: 1;position: relative;background-color: white;}#sk-container-id-6 div.sk-parallel-item:first-child::after {align-self: flex-end;width: 50%;}#sk-container-id-6 div.sk-parallel-item:last-child::after {align-self: flex-start;width: 50%;}#sk-container-id-6 div.sk-parallel-item:only-child::after {width: 0;}#sk-container-id-6 div.sk-dashed-wrapped {border: 1px dashed gray;margin: 0 0.4em 0.5em 0.4em;box-sizing: border-box;padding-bottom: 0.4em;background-color: white;}#sk-container-id-6 div.sk-label label {font-family: monospace;font-weight: bold;display: inline-block;line-height: 1.2em;}#sk-container-id-6 div.sk-label-container {text-align: center;}#sk-container-id-6 div.sk-container {/* jupyter's `normalize.less` sets `[hidden] { display: none; }` but bootstrap.min.css set `[hidden] { display: none !important; }` so we also need the `!important` here to be able to override the default hidden behavior on the sphinx rendered scikit-learn.org. See: https://github.com/scikit-learn/scikit-learn/issues/21755 */display: inline-block !important;position: relative;}#sk-container-id-6 div.sk-text-repr-fallback {display: none;}</style><div id=\"sk-container-id-6\" class=\"sk-top-container\"><div class=\"sk-text-repr-fallback\"><pre>LassoCV(alphas=array([0.01, 0.02, 0.03, 0.04, 0.05, 0.06, 0.07, 0.08, 0.09, 0.1 , 0.11,\n",
       "       0.12, 0.13, 0.14, 0.15, 0.16, 0.17, 0.18, 0.19, 0.2 , 0.21, 0.22,\n",
       "       0.23, 0.24, 0.25, 0.26, 0.27, 0.28, 0.29, 0.3 , 0.31, 0.32, 0.33,\n",
       "       0.34, 0.35, 0.36, 0.37, 0.38, 0.39, 0.4 , 0.41, 0.42, 0.43, 0.44,\n",
       "       0.45, 0.46, 0.47, 0.48, 0.49, 0.5 , 0.51, 0.52, 0.53, 0.54, 0.55,\n",
       "       0.56, 0.57, 0.58, 0.59, 0.6 , 0.61, 0.62, 0.63, 0.64, 0.65, 0.66,\n",
       "       0.67, 0.68, 0.69, 0.7 , 0.71, 0.72, 0.73, 0.74, 0.75, 0.76, 0.77,\n",
       "       0.78, 0.79, 0.8 , 0.81, 0.82, 0.83, 0.84, 0.85, 0.86, 0.87, 0.88,\n",
       "       0.89, 0.9 , 0.91, 0.92, 0.93, 0.94, 0.95, 0.96, 0.97, 0.98, 0.99,\n",
       "       1.  ]),\n",
       "        cv=5, max_iter=100000, random_state=42)</pre><b>In a Jupyter environment, please rerun this cell to show the HTML representation or trust the notebook. <br />On GitHub, the HTML representation is unable to render, please try loading this page with nbviewer.org.</b></div><div class=\"sk-container\" hidden><div class=\"sk-item\"><div class=\"sk-estimator sk-toggleable\"><input class=\"sk-toggleable__control sk-hidden--visually\" id=\"sk-estimator-id-6\" type=\"checkbox\" checked><label for=\"sk-estimator-id-6\" class=\"sk-toggleable__label sk-toggleable__label-arrow\">LassoCV</label><div class=\"sk-toggleable__content\"><pre>LassoCV(alphas=array([0.01, 0.02, 0.03, 0.04, 0.05, 0.06, 0.07, 0.08, 0.09, 0.1 , 0.11,\n",
       "       0.12, 0.13, 0.14, 0.15, 0.16, 0.17, 0.18, 0.19, 0.2 , 0.21, 0.22,\n",
       "       0.23, 0.24, 0.25, 0.26, 0.27, 0.28, 0.29, 0.3 , 0.31, 0.32, 0.33,\n",
       "       0.34, 0.35, 0.36, 0.37, 0.38, 0.39, 0.4 , 0.41, 0.42, 0.43, 0.44,\n",
       "       0.45, 0.46, 0.47, 0.48, 0.49, 0.5 , 0.51, 0.52, 0.53, 0.54, 0.55,\n",
       "       0.56, 0.57, 0.58, 0.59, 0.6 , 0.61, 0.62, 0.63, 0.64, 0.65, 0.66,\n",
       "       0.67, 0.68, 0.69, 0.7 , 0.71, 0.72, 0.73, 0.74, 0.75, 0.76, 0.77,\n",
       "       0.78, 0.79, 0.8 , 0.81, 0.82, 0.83, 0.84, 0.85, 0.86, 0.87, 0.88,\n",
       "       0.89, 0.9 , 0.91, 0.92, 0.93, 0.94, 0.95, 0.96, 0.97, 0.98, 0.99,\n",
       "       1.  ]),\n",
       "        cv=5, max_iter=100000, random_state=42)</pre></div></div></div></div></div>"
      ],
      "text/plain": [
       "LassoCV(alphas=array([0.01, 0.02, 0.03, 0.04, 0.05, 0.06, 0.07, 0.08, 0.09, 0.1 , 0.11,\n",
       "       0.12, 0.13, 0.14, 0.15, 0.16, 0.17, 0.18, 0.19, 0.2 , 0.21, 0.22,\n",
       "       0.23, 0.24, 0.25, 0.26, 0.27, 0.28, 0.29, 0.3 , 0.31, 0.32, 0.33,\n",
       "       0.34, 0.35, 0.36, 0.37, 0.38, 0.39, 0.4 , 0.41, 0.42, 0.43, 0.44,\n",
       "       0.45, 0.46, 0.47, 0.48, 0.49, 0.5 , 0.51, 0.52, 0.53, 0.54, 0.55,\n",
       "       0.56, 0.57, 0.58, 0.59, 0.6 , 0.61, 0.62, 0.63, 0.64, 0.65, 0.66,\n",
       "       0.67, 0.68, 0.69, 0.7 , 0.71, 0.72, 0.73, 0.74, 0.75, 0.76, 0.77,\n",
       "       0.78, 0.79, 0.8 , 0.81, 0.82, 0.83, 0.84, 0.85, 0.86, 0.87, 0.88,\n",
       "       0.89, 0.9 , 0.91, 0.92, 0.93, 0.94, 0.95, 0.96, 0.97, 0.98, 0.99,\n",
       "       1.  ]),\n",
       "        cv=5, max_iter=100000, random_state=42)"
      ]
     },
     "execution_count": 50,
     "metadata": {},
     "output_type": "execute_result"
    }
   ],
   "source": [
    "lasso_cv_model.fit(X_train_scaled, y_train)"
   ]
  },
  {
   "cell_type": "code",
   "execution_count": 51,
   "metadata": {},
   "outputs": [
    {
     "data": {
      "text/plain": [
       "1.0"
      ]
     },
     "execution_count": 51,
     "metadata": {},
     "output_type": "execute_result"
    }
   ],
   "source": [
    "lasso_cv_model.alpha_\n",
    "# Alpha değeri belirttiğimiz asralığın maximumu çıktı. Demek ki aralığı artırmak lazım."
   ]
  },
  {
   "cell_type": "code",
   "execution_count": 52,
   "metadata": {},
   "outputs": [
    {
     "data": {
      "text/plain": [
       "array([1.        , 1.01010101, 1.02020202, 1.03030303, 1.04040404,\n",
       "       1.05050505, 1.06060606, 1.07070707, 1.08080808, 1.09090909,\n",
       "       1.1010101 , 1.11111111, 1.12121212, 1.13131313, 1.14141414,\n",
       "       1.15151515, 1.16161616, 1.17171717, 1.18181818, 1.19191919,\n",
       "       1.2020202 , 1.21212121, 1.22222222, 1.23232323, 1.24242424,\n",
       "       1.25252525, 1.26262626, 1.27272727, 1.28282828, 1.29292929,\n",
       "       1.3030303 , 1.31313131, 1.32323232, 1.33333333, 1.34343434,\n",
       "       1.35353535, 1.36363636, 1.37373737, 1.38383838, 1.39393939,\n",
       "       1.4040404 , 1.41414141, 1.42424242, 1.43434343, 1.44444444,\n",
       "       1.45454545, 1.46464646, 1.47474747, 1.48484848, 1.49494949,\n",
       "       1.50505051, 1.51515152, 1.52525253, 1.53535354, 1.54545455,\n",
       "       1.55555556, 1.56565657, 1.57575758, 1.58585859, 1.5959596 ,\n",
       "       1.60606061, 1.61616162, 1.62626263, 1.63636364, 1.64646465,\n",
       "       1.65656566, 1.66666667, 1.67676768, 1.68686869, 1.6969697 ,\n",
       "       1.70707071, 1.71717172, 1.72727273, 1.73737374, 1.74747475,\n",
       "       1.75757576, 1.76767677, 1.77777778, 1.78787879, 1.7979798 ,\n",
       "       1.80808081, 1.81818182, 1.82828283, 1.83838384, 1.84848485,\n",
       "       1.85858586, 1.86868687, 1.87878788, 1.88888889, 1.8989899 ,\n",
       "       1.90909091, 1.91919192, 1.92929293, 1.93939394, 1.94949495,\n",
       "       1.95959596, 1.96969697, 1.97979798, 1.98989899, 2.        ])"
      ]
     },
     "execution_count": 52,
     "metadata": {},
     "output_type": "execute_result"
    }
   ],
   "source": [
    "alpha_space_2 = np.linspace(1,2,100)\n",
    "alpha_space_2"
   ]
  },
  {
   "cell_type": "code",
   "execution_count": 53,
   "metadata": {},
   "outputs": [],
   "source": [
    "lasso_cv_model = LassoCV(alphas=alpha_space_2, cv=5, max_iter=100000, random_state=42)"
   ]
  },
  {
   "cell_type": "code",
   "execution_count": 54,
   "metadata": {},
   "outputs": [
    {
     "data": {
      "text/html": [
       "<style>#sk-container-id-7 {color: black;background-color: white;}#sk-container-id-7 pre{padding: 0;}#sk-container-id-7 div.sk-toggleable {background-color: white;}#sk-container-id-7 label.sk-toggleable__label {cursor: pointer;display: block;width: 100%;margin-bottom: 0;padding: 0.3em;box-sizing: border-box;text-align: center;}#sk-container-id-7 label.sk-toggleable__label-arrow:before {content: \"▸\";float: left;margin-right: 0.25em;color: #696969;}#sk-container-id-7 label.sk-toggleable__label-arrow:hover:before {color: black;}#sk-container-id-7 div.sk-estimator:hover label.sk-toggleable__label-arrow:before {color: black;}#sk-container-id-7 div.sk-toggleable__content {max-height: 0;max-width: 0;overflow: hidden;text-align: left;background-color: #f0f8ff;}#sk-container-id-7 div.sk-toggleable__content pre {margin: 0.2em;color: black;border-radius: 0.25em;background-color: #f0f8ff;}#sk-container-id-7 input.sk-toggleable__control:checked~div.sk-toggleable__content {max-height: 200px;max-width: 100%;overflow: auto;}#sk-container-id-7 input.sk-toggleable__control:checked~label.sk-toggleable__label-arrow:before {content: \"▾\";}#sk-container-id-7 div.sk-estimator input.sk-toggleable__control:checked~label.sk-toggleable__label {background-color: #d4ebff;}#sk-container-id-7 div.sk-label input.sk-toggleable__control:checked~label.sk-toggleable__label {background-color: #d4ebff;}#sk-container-id-7 input.sk-hidden--visually {border: 0;clip: rect(1px 1px 1px 1px);clip: rect(1px, 1px, 1px, 1px);height: 1px;margin: -1px;overflow: hidden;padding: 0;position: absolute;width: 1px;}#sk-container-id-7 div.sk-estimator {font-family: monospace;background-color: #f0f8ff;border: 1px dotted black;border-radius: 0.25em;box-sizing: border-box;margin-bottom: 0.5em;}#sk-container-id-7 div.sk-estimator:hover {background-color: #d4ebff;}#sk-container-id-7 div.sk-parallel-item::after {content: \"\";width: 100%;border-bottom: 1px solid gray;flex-grow: 1;}#sk-container-id-7 div.sk-label:hover label.sk-toggleable__label {background-color: #d4ebff;}#sk-container-id-7 div.sk-serial::before {content: \"\";position: absolute;border-left: 1px solid gray;box-sizing: border-box;top: 0;bottom: 0;left: 50%;z-index: 0;}#sk-container-id-7 div.sk-serial {display: flex;flex-direction: column;align-items: center;background-color: white;padding-right: 0.2em;padding-left: 0.2em;position: relative;}#sk-container-id-7 div.sk-item {position: relative;z-index: 1;}#sk-container-id-7 div.sk-parallel {display: flex;align-items: stretch;justify-content: center;background-color: white;position: relative;}#sk-container-id-7 div.sk-item::before, #sk-container-id-7 div.sk-parallel-item::before {content: \"\";position: absolute;border-left: 1px solid gray;box-sizing: border-box;top: 0;bottom: 0;left: 50%;z-index: -1;}#sk-container-id-7 div.sk-parallel-item {display: flex;flex-direction: column;z-index: 1;position: relative;background-color: white;}#sk-container-id-7 div.sk-parallel-item:first-child::after {align-self: flex-end;width: 50%;}#sk-container-id-7 div.sk-parallel-item:last-child::after {align-self: flex-start;width: 50%;}#sk-container-id-7 div.sk-parallel-item:only-child::after {width: 0;}#sk-container-id-7 div.sk-dashed-wrapped {border: 1px dashed gray;margin: 0 0.4em 0.5em 0.4em;box-sizing: border-box;padding-bottom: 0.4em;background-color: white;}#sk-container-id-7 div.sk-label label {font-family: monospace;font-weight: bold;display: inline-block;line-height: 1.2em;}#sk-container-id-7 div.sk-label-container {text-align: center;}#sk-container-id-7 div.sk-container {/* jupyter's `normalize.less` sets `[hidden] { display: none; }` but bootstrap.min.css set `[hidden] { display: none !important; }` so we also need the `!important` here to be able to override the default hidden behavior on the sphinx rendered scikit-learn.org. See: https://github.com/scikit-learn/scikit-learn/issues/21755 */display: inline-block !important;position: relative;}#sk-container-id-7 div.sk-text-repr-fallback {display: none;}</style><div id=\"sk-container-id-7\" class=\"sk-top-container\"><div class=\"sk-text-repr-fallback\"><pre>LassoCV(alphas=array([1.        , 1.01010101, 1.02020202, 1.03030303, 1.04040404,\n",
       "       1.05050505, 1.06060606, 1.07070707, 1.08080808, 1.09090909,\n",
       "       1.1010101 , 1.11111111, 1.12121212, 1.13131313, 1.14141414,\n",
       "       1.15151515, 1.16161616, 1.17171717, 1.18181818, 1.19191919,\n",
       "       1.2020202 , 1.21212121, 1.22222222, 1.23232323, 1.24242424,\n",
       "       1.25252525, 1.26262626, 1.27272727, 1.28282828, 1.29292929,\n",
       "       1.303030...\n",
       "       1.70707071, 1.71717172, 1.72727273, 1.73737374, 1.74747475,\n",
       "       1.75757576, 1.76767677, 1.77777778, 1.78787879, 1.7979798 ,\n",
       "       1.80808081, 1.81818182, 1.82828283, 1.83838384, 1.84848485,\n",
       "       1.85858586, 1.86868687, 1.87878788, 1.88888889, 1.8989899 ,\n",
       "       1.90909091, 1.91919192, 1.92929293, 1.93939394, 1.94949495,\n",
       "       1.95959596, 1.96969697, 1.97979798, 1.98989899, 2.        ]),\n",
       "        cv=5, max_iter=100000, random_state=42)</pre><b>In a Jupyter environment, please rerun this cell to show the HTML representation or trust the notebook. <br />On GitHub, the HTML representation is unable to render, please try loading this page with nbviewer.org.</b></div><div class=\"sk-container\" hidden><div class=\"sk-item\"><div class=\"sk-estimator sk-toggleable\"><input class=\"sk-toggleable__control sk-hidden--visually\" id=\"sk-estimator-id-7\" type=\"checkbox\" checked><label for=\"sk-estimator-id-7\" class=\"sk-toggleable__label sk-toggleable__label-arrow\">LassoCV</label><div class=\"sk-toggleable__content\"><pre>LassoCV(alphas=array([1.        , 1.01010101, 1.02020202, 1.03030303, 1.04040404,\n",
       "       1.05050505, 1.06060606, 1.07070707, 1.08080808, 1.09090909,\n",
       "       1.1010101 , 1.11111111, 1.12121212, 1.13131313, 1.14141414,\n",
       "       1.15151515, 1.16161616, 1.17171717, 1.18181818, 1.19191919,\n",
       "       1.2020202 , 1.21212121, 1.22222222, 1.23232323, 1.24242424,\n",
       "       1.25252525, 1.26262626, 1.27272727, 1.28282828, 1.29292929,\n",
       "       1.303030...\n",
       "       1.70707071, 1.71717172, 1.72727273, 1.73737374, 1.74747475,\n",
       "       1.75757576, 1.76767677, 1.77777778, 1.78787879, 1.7979798 ,\n",
       "       1.80808081, 1.81818182, 1.82828283, 1.83838384, 1.84848485,\n",
       "       1.85858586, 1.86868687, 1.87878788, 1.88888889, 1.8989899 ,\n",
       "       1.90909091, 1.91919192, 1.92929293, 1.93939394, 1.94949495,\n",
       "       1.95959596, 1.96969697, 1.97979798, 1.98989899, 2.        ]),\n",
       "        cv=5, max_iter=100000, random_state=42)</pre></div></div></div></div></div>"
      ],
      "text/plain": [
       "LassoCV(alphas=array([1.        , 1.01010101, 1.02020202, 1.03030303, 1.04040404,\n",
       "       1.05050505, 1.06060606, 1.07070707, 1.08080808, 1.09090909,\n",
       "       1.1010101 , 1.11111111, 1.12121212, 1.13131313, 1.14141414,\n",
       "       1.15151515, 1.16161616, 1.17171717, 1.18181818, 1.19191919,\n",
       "       1.2020202 , 1.21212121, 1.22222222, 1.23232323, 1.24242424,\n",
       "       1.25252525, 1.26262626, 1.27272727, 1.28282828, 1.29292929,\n",
       "       1.303030...\n",
       "       1.70707071, 1.71717172, 1.72727273, 1.73737374, 1.74747475,\n",
       "       1.75757576, 1.76767677, 1.77777778, 1.78787879, 1.7979798 ,\n",
       "       1.80808081, 1.81818182, 1.82828283, 1.83838384, 1.84848485,\n",
       "       1.85858586, 1.86868687, 1.87878788, 1.88888889, 1.8989899 ,\n",
       "       1.90909091, 1.91919192, 1.92929293, 1.93939394, 1.94949495,\n",
       "       1.95959596, 1.96969697, 1.97979798, 1.98989899, 2.        ]),\n",
       "        cv=5, max_iter=100000, random_state=42)"
      ]
     },
     "execution_count": 54,
     "metadata": {},
     "output_type": "execute_result"
    }
   ],
   "source": [
    "lasso_cv_model.fit(X_train_scaled, y_train)"
   ]
  },
  {
   "cell_type": "code",
   "execution_count": 55,
   "metadata": {},
   "outputs": [
    {
     "data": {
      "text/plain": [
       "1.4141414141414141"
      ]
     },
     "execution_count": 55,
     "metadata": {},
     "output_type": "execute_result"
    }
   ],
   "source": [
    "lasso_cv_model.alpha_\n",
    "# alpha aralığını 1-2 arasında yapınca alpha value değişti."
   ]
  },
  {
   "cell_type": "code",
   "execution_count": 56,
   "metadata": {},
   "outputs": [],
   "source": [
    "y_pred = lasso_cv_model.predict(X_test_scaled)\n",
    "y_train_pred = lasso_cv_model.predict(X_train_scaled)"
   ]
  },
  {
   "cell_type": "code",
   "execution_count": 57,
   "metadata": {},
   "outputs": [
    {
     "data": {
      "text/html": [
       "<div>\n",
       "<style scoped>\n",
       "    .dataframe tbody tr th:only-of-type {\n",
       "        vertical-align: middle;\n",
       "    }\n",
       "\n",
       "    .dataframe tbody tr th {\n",
       "        vertical-align: top;\n",
       "    }\n",
       "\n",
       "    .dataframe thead th {\n",
       "        text-align: right;\n",
       "    }\n",
       "</style>\n",
       "<table border=\"1\" class=\"dataframe\">\n",
       "  <thead>\n",
       "    <tr style=\"text-align: right;\">\n",
       "      <th></th>\n",
       "      <th>lasso_cv_train</th>\n",
       "      <th>lasso_cv_test</th>\n",
       "    </tr>\n",
       "  </thead>\n",
       "  <tbody>\n",
       "    <tr>\n",
       "      <th>R2</th>\n",
       "      <td>0.889</td>\n",
       "      <td>0.894</td>\n",
       "    </tr>\n",
       "    <tr>\n",
       "      <th>mae</th>\n",
       "      <td>1720.428</td>\n",
       "      <td>1711.566</td>\n",
       "    </tr>\n",
       "    <tr>\n",
       "      <th>mse</th>\n",
       "      <td>6009663.992</td>\n",
       "      <td>5754179.489</td>\n",
       "    </tr>\n",
       "    <tr>\n",
       "      <th>rmse</th>\n",
       "      <td>2451.462</td>\n",
       "      <td>2398.787</td>\n",
       "    </tr>\n",
       "  </tbody>\n",
       "</table>\n",
       "</div>"
      ],
      "text/plain": [
       "      lasso_cv_train  lasso_cv_test\n",
       "R2             0.889          0.894\n",
       "mae         1720.428       1711.566\n",
       "mse      6009663.992    5754179.489\n",
       "rmse        2451.462       2398.787"
      ]
     },
     "execution_count": 57,
     "metadata": {},
     "output_type": "execute_result"
    }
   ],
   "source": [
    "lasso_cv_score = train_val(y_train, y_train_pred, y_test, y_pred, \"lasso_cv\")\n",
    "lasso_cv_score"
   ]
  },
  {
   "cell_type": "code",
   "execution_count": 58,
   "metadata": {},
   "outputs": [
    {
     "data": {
      "text/html": [
       "<div>\n",
       "<style scoped>\n",
       "    .dataframe tbody tr th:only-of-type {\n",
       "        vertical-align: middle;\n",
       "    }\n",
       "\n",
       "    .dataframe tbody tr th {\n",
       "        vertical-align: top;\n",
       "    }\n",
       "\n",
       "    .dataframe thead th {\n",
       "        text-align: right;\n",
       "    }\n",
       "</style>\n",
       "<table border=\"1\" class=\"dataframe\">\n",
       "  <thead>\n",
       "    <tr style=\"text-align: right;\">\n",
       "      <th></th>\n",
       "      <th>linear_train</th>\n",
       "      <th>linear_test</th>\n",
       "      <th>ridge_train</th>\n",
       "      <th>ridge_test</th>\n",
       "      <th>ridge_cv_train</th>\n",
       "      <th>ridge_cv_test</th>\n",
       "      <th>lasso_train</th>\n",
       "      <th>lasso_test</th>\n",
       "      <th>lasso_cv_train</th>\n",
       "      <th>lasso_cv_test</th>\n",
       "    </tr>\n",
       "  </thead>\n",
       "  <tbody>\n",
       "    <tr>\n",
       "      <th>R2</th>\n",
       "      <td>0.890</td>\n",
       "      <td>0.893</td>\n",
       "      <td>0.890</td>\n",
       "      <td>0.893</td>\n",
       "      <td>0.890</td>\n",
       "      <td>0.893</td>\n",
       "      <td>0.890</td>\n",
       "      <td>0.894</td>\n",
       "      <td>0.889</td>\n",
       "      <td>0.894</td>\n",
       "    </tr>\n",
       "    <tr>\n",
       "      <th>mae</th>\n",
       "      <td>1717.578</td>\n",
       "      <td>1716.339</td>\n",
       "      <td>1717.531</td>\n",
       "      <td>1714.093</td>\n",
       "      <td>1717.502</td>\n",
       "      <td>1714.242</td>\n",
       "      <td>1717.502</td>\n",
       "      <td>1712.720</td>\n",
       "      <td>1720.428</td>\n",
       "      <td>1711.566</td>\n",
       "    </tr>\n",
       "    <tr>\n",
       "      <th>mse</th>\n",
       "      <td>5976635.801</td>\n",
       "      <td>5788441.912</td>\n",
       "      <td>5981292.027</td>\n",
       "      <td>5763154.860</td>\n",
       "      <td>5980348.419</td>\n",
       "      <td>5764474.114</td>\n",
       "      <td>5980348.419</td>\n",
       "      <td>5757068.832</td>\n",
       "      <td>6009663.992</td>\n",
       "      <td>5754179.489</td>\n",
       "    </tr>\n",
       "    <tr>\n",
       "      <th>rmse</th>\n",
       "      <td>2444.716</td>\n",
       "      <td>2405.918</td>\n",
       "      <td>2445.668</td>\n",
       "      <td>2400.657</td>\n",
       "      <td>2445.475</td>\n",
       "      <td>2400.932</td>\n",
       "      <td>2445.475</td>\n",
       "      <td>2399.389</td>\n",
       "      <td>2451.462</td>\n",
       "      <td>2398.787</td>\n",
       "    </tr>\n",
       "  </tbody>\n",
       "</table>\n",
       "</div>"
      ],
      "text/plain": [
       "      linear_train  linear_test  ridge_train  ridge_test  ridge_cv_train  \\\n",
       "R2           0.890        0.893        0.890       0.893           0.890   \n",
       "mae       1717.578     1716.339     1717.531    1714.093        1717.502   \n",
       "mse    5976635.801  5788441.912  5981292.027 5763154.860     5980348.419   \n",
       "rmse      2444.716     2405.918     2445.668    2400.657        2445.475   \n",
       "\n",
       "      ridge_cv_test  lasso_train  lasso_test  lasso_cv_train  lasso_cv_test  \n",
       "R2            0.893        0.890       0.894           0.889          0.894  \n",
       "mae        1714.242     1717.502    1712.720        1720.428       1711.566  \n",
       "mse     5764474.114  5980348.419 5757068.832     6009663.992    5754179.489  \n",
       "rmse       2400.932     2445.475    2399.389        2451.462       2398.787  "
      ]
     },
     "execution_count": 58,
     "metadata": {},
     "output_type": "execute_result"
    }
   ],
   "source": [
    "pd.concat([linear_score, ridge_score, ridge_cv_scores, lasso_score, lasso_cv_score], axis=1)"
   ]
  },
  {
   "cell_type": "code",
   "execution_count": null,
   "metadata": {},
   "outputs": [],
   "source": []
  },
  {
   "cell_type": "markdown",
   "metadata": {
    "id": "qpoOypMbmqZO"
   },
   "source": [
    "## 6. Implement Elastic-Net"
   ]
  },
  {
   "cell_type": "markdown",
   "metadata": {
    "id": "El7SNJUemqZO"
   },
   "source": [
    "- Import the modul \n",
    "- Do not forget to scale the data or use Normalize parameter as True(If needed)\n",
    "- Fit the model \n",
    "- Predict the test set \n",
    "- Evaluate model performance (use performance metrics for regression) \n",
    "- Tune alpha hyperparameter by using [GridSearchCV](https://scikit-learn.org/stable/modules/generated/sklearn.model_selection.GridSearchCV.html) and determine the optimal alpha value.\n",
    "- Fit the model and predict again with the new alpha value.\n",
    "- Compare different evaluation metrics"
   ]
  },
  {
   "cell_type": "code",
   "execution_count": 59,
   "metadata": {
    "id": "XKVr6v2JmqZO"
   },
   "outputs": [],
   "source": [
    "from sklearn.linear_model import ElasticNet\n",
    "from sklearn.model_selection import GridSearchCV"
   ]
  },
  {
   "cell_type": "code",
   "execution_count": 60,
   "metadata": {},
   "outputs": [
    {
     "data": {
      "text/html": [
       "<style>#sk-container-id-8 {color: black;background-color: white;}#sk-container-id-8 pre{padding: 0;}#sk-container-id-8 div.sk-toggleable {background-color: white;}#sk-container-id-8 label.sk-toggleable__label {cursor: pointer;display: block;width: 100%;margin-bottom: 0;padding: 0.3em;box-sizing: border-box;text-align: center;}#sk-container-id-8 label.sk-toggleable__label-arrow:before {content: \"▸\";float: left;margin-right: 0.25em;color: #696969;}#sk-container-id-8 label.sk-toggleable__label-arrow:hover:before {color: black;}#sk-container-id-8 div.sk-estimator:hover label.sk-toggleable__label-arrow:before {color: black;}#sk-container-id-8 div.sk-toggleable__content {max-height: 0;max-width: 0;overflow: hidden;text-align: left;background-color: #f0f8ff;}#sk-container-id-8 div.sk-toggleable__content pre {margin: 0.2em;color: black;border-radius: 0.25em;background-color: #f0f8ff;}#sk-container-id-8 input.sk-toggleable__control:checked~div.sk-toggleable__content {max-height: 200px;max-width: 100%;overflow: auto;}#sk-container-id-8 input.sk-toggleable__control:checked~label.sk-toggleable__label-arrow:before {content: \"▾\";}#sk-container-id-8 div.sk-estimator input.sk-toggleable__control:checked~label.sk-toggleable__label {background-color: #d4ebff;}#sk-container-id-8 div.sk-label input.sk-toggleable__control:checked~label.sk-toggleable__label {background-color: #d4ebff;}#sk-container-id-8 input.sk-hidden--visually {border: 0;clip: rect(1px 1px 1px 1px);clip: rect(1px, 1px, 1px, 1px);height: 1px;margin: -1px;overflow: hidden;padding: 0;position: absolute;width: 1px;}#sk-container-id-8 div.sk-estimator {font-family: monospace;background-color: #f0f8ff;border: 1px dotted black;border-radius: 0.25em;box-sizing: border-box;margin-bottom: 0.5em;}#sk-container-id-8 div.sk-estimator:hover {background-color: #d4ebff;}#sk-container-id-8 div.sk-parallel-item::after {content: \"\";width: 100%;border-bottom: 1px solid gray;flex-grow: 1;}#sk-container-id-8 div.sk-label:hover label.sk-toggleable__label {background-color: #d4ebff;}#sk-container-id-8 div.sk-serial::before {content: \"\";position: absolute;border-left: 1px solid gray;box-sizing: border-box;top: 0;bottom: 0;left: 50%;z-index: 0;}#sk-container-id-8 div.sk-serial {display: flex;flex-direction: column;align-items: center;background-color: white;padding-right: 0.2em;padding-left: 0.2em;position: relative;}#sk-container-id-8 div.sk-item {position: relative;z-index: 1;}#sk-container-id-8 div.sk-parallel {display: flex;align-items: stretch;justify-content: center;background-color: white;position: relative;}#sk-container-id-8 div.sk-item::before, #sk-container-id-8 div.sk-parallel-item::before {content: \"\";position: absolute;border-left: 1px solid gray;box-sizing: border-box;top: 0;bottom: 0;left: 50%;z-index: -1;}#sk-container-id-8 div.sk-parallel-item {display: flex;flex-direction: column;z-index: 1;position: relative;background-color: white;}#sk-container-id-8 div.sk-parallel-item:first-child::after {align-self: flex-end;width: 50%;}#sk-container-id-8 div.sk-parallel-item:last-child::after {align-self: flex-start;width: 50%;}#sk-container-id-8 div.sk-parallel-item:only-child::after {width: 0;}#sk-container-id-8 div.sk-dashed-wrapped {border: 1px dashed gray;margin: 0 0.4em 0.5em 0.4em;box-sizing: border-box;padding-bottom: 0.4em;background-color: white;}#sk-container-id-8 div.sk-label label {font-family: monospace;font-weight: bold;display: inline-block;line-height: 1.2em;}#sk-container-id-8 div.sk-label-container {text-align: center;}#sk-container-id-8 div.sk-container {/* jupyter's `normalize.less` sets `[hidden] { display: none; }` but bootstrap.min.css set `[hidden] { display: none !important; }` so we also need the `!important` here to be able to override the default hidden behavior on the sphinx rendered scikit-learn.org. See: https://github.com/scikit-learn/scikit-learn/issues/21755 */display: inline-block !important;position: relative;}#sk-container-id-8 div.sk-text-repr-fallback {display: none;}</style><div id=\"sk-container-id-8\" class=\"sk-top-container\"><div class=\"sk-text-repr-fallback\"><pre>ElasticNet(alpha=1, random_state=42)</pre><b>In a Jupyter environment, please rerun this cell to show the HTML representation or trust the notebook. <br />On GitHub, the HTML representation is unable to render, please try loading this page with nbviewer.org.</b></div><div class=\"sk-container\" hidden><div class=\"sk-item\"><div class=\"sk-estimator sk-toggleable\"><input class=\"sk-toggleable__control sk-hidden--visually\" id=\"sk-estimator-id-8\" type=\"checkbox\" checked><label for=\"sk-estimator-id-8\" class=\"sk-toggleable__label sk-toggleable__label-arrow\">ElasticNet</label><div class=\"sk-toggleable__content\"><pre>ElasticNet(alpha=1, random_state=42)</pre></div></div></div></div></div>"
      ],
      "text/plain": [
       "ElasticNet(alpha=1, random_state=42)"
      ]
     },
     "execution_count": 60,
     "metadata": {},
     "output_type": "execute_result"
    }
   ],
   "source": [
    "elastic_model = ElasticNet(alpha=1, l1_ratio=0.5, random_state=42)\n",
    "elastic_model.fit(X_train_scaled, y_train)"
   ]
  },
  {
   "cell_type": "code",
   "execution_count": 61,
   "metadata": {},
   "outputs": [],
   "source": [
    "y_pred = elastic_model.predict(X_test_scaled)\n",
    "y_train_pred = elastic_model.predict(X_train_scaled)"
   ]
  },
  {
   "cell_type": "code",
   "execution_count": 62,
   "metadata": {},
   "outputs": [
    {
     "data": {
      "text/html": [
       "<div>\n",
       "<style scoped>\n",
       "    .dataframe tbody tr th:only-of-type {\n",
       "        vertical-align: middle;\n",
       "    }\n",
       "\n",
       "    .dataframe tbody tr th {\n",
       "        vertical-align: top;\n",
       "    }\n",
       "\n",
       "    .dataframe thead th {\n",
       "        text-align: right;\n",
       "    }\n",
       "</style>\n",
       "<table border=\"1\" class=\"dataframe\">\n",
       "  <thead>\n",
       "    <tr style=\"text-align: right;\">\n",
       "      <th></th>\n",
       "      <th>elastic_train</th>\n",
       "      <th>elastic_test</th>\n",
       "    </tr>\n",
       "  </thead>\n",
       "  <tbody>\n",
       "    <tr>\n",
       "      <th>R2</th>\n",
       "      <td>0.600</td>\n",
       "      <td>0.612</td>\n",
       "    </tr>\n",
       "    <tr>\n",
       "      <th>mae</th>\n",
       "      <td>3379.324</td>\n",
       "      <td>3354.565</td>\n",
       "    </tr>\n",
       "    <tr>\n",
       "      <th>mse</th>\n",
       "      <td>21746528.773</td>\n",
       "      <td>20980195.657</td>\n",
       "    </tr>\n",
       "    <tr>\n",
       "      <th>rmse</th>\n",
       "      <td>4663.317</td>\n",
       "      <td>4580.414</td>\n",
       "    </tr>\n",
       "  </tbody>\n",
       "</table>\n",
       "</div>"
      ],
      "text/plain": [
       "      elastic_train  elastic_test\n",
       "R2            0.600         0.612\n",
       "mae        3379.324      3354.565\n",
       "mse    21746528.773  20980195.657\n",
       "rmse       4663.317      4580.414"
      ]
     },
     "execution_count": 62,
     "metadata": {},
     "output_type": "execute_result"
    }
   ],
   "source": [
    "elastic_score = train_val(y_train, y_train_pred, y_test, y_pred, \"elastic\")\n",
    "elastic_score"
   ]
  },
  {
   "cell_type": "code",
   "execution_count": 63,
   "metadata": {},
   "outputs": [
    {
     "data": {
      "text/html": [
       "<div>\n",
       "<style scoped>\n",
       "    .dataframe tbody tr th:only-of-type {\n",
       "        vertical-align: middle;\n",
       "    }\n",
       "\n",
       "    .dataframe tbody tr th {\n",
       "        vertical-align: top;\n",
       "    }\n",
       "\n",
       "    .dataframe thead th {\n",
       "        text-align: right;\n",
       "    }\n",
       "</style>\n",
       "<table border=\"1\" class=\"dataframe\">\n",
       "  <thead>\n",
       "    <tr style=\"text-align: right;\">\n",
       "      <th></th>\n",
       "      <th>linear_train</th>\n",
       "      <th>linear_test</th>\n",
       "      <th>ridge_train</th>\n",
       "      <th>ridge_test</th>\n",
       "      <th>ridge_cv_train</th>\n",
       "      <th>ridge_cv_test</th>\n",
       "      <th>lasso_train</th>\n",
       "      <th>lasso_test</th>\n",
       "      <th>lasso_cv_train</th>\n",
       "      <th>lasso_cv_test</th>\n",
       "      <th>elastic_train</th>\n",
       "      <th>elastic_test</th>\n",
       "    </tr>\n",
       "  </thead>\n",
       "  <tbody>\n",
       "    <tr>\n",
       "      <th>R2</th>\n",
       "      <td>0.890</td>\n",
       "      <td>0.893</td>\n",
       "      <td>0.890</td>\n",
       "      <td>0.893</td>\n",
       "      <td>0.890</td>\n",
       "      <td>0.893</td>\n",
       "      <td>0.890</td>\n",
       "      <td>0.894</td>\n",
       "      <td>0.889</td>\n",
       "      <td>0.894</td>\n",
       "      <td>0.600</td>\n",
       "      <td>0.612</td>\n",
       "    </tr>\n",
       "    <tr>\n",
       "      <th>mae</th>\n",
       "      <td>1717.578</td>\n",
       "      <td>1716.339</td>\n",
       "      <td>1717.531</td>\n",
       "      <td>1714.093</td>\n",
       "      <td>1717.502</td>\n",
       "      <td>1714.242</td>\n",
       "      <td>1717.502</td>\n",
       "      <td>1712.720</td>\n",
       "      <td>1720.428</td>\n",
       "      <td>1711.566</td>\n",
       "      <td>3379.324</td>\n",
       "      <td>3354.565</td>\n",
       "    </tr>\n",
       "    <tr>\n",
       "      <th>mse</th>\n",
       "      <td>5976635.801</td>\n",
       "      <td>5788441.912</td>\n",
       "      <td>5981292.027</td>\n",
       "      <td>5763154.860</td>\n",
       "      <td>5980348.419</td>\n",
       "      <td>5764474.114</td>\n",
       "      <td>5980348.419</td>\n",
       "      <td>5757068.832</td>\n",
       "      <td>6009663.992</td>\n",
       "      <td>5754179.489</td>\n",
       "      <td>21746528.773</td>\n",
       "      <td>20980195.657</td>\n",
       "    </tr>\n",
       "    <tr>\n",
       "      <th>rmse</th>\n",
       "      <td>2444.716</td>\n",
       "      <td>2405.918</td>\n",
       "      <td>2445.668</td>\n",
       "      <td>2400.657</td>\n",
       "      <td>2445.475</td>\n",
       "      <td>2400.932</td>\n",
       "      <td>2445.475</td>\n",
       "      <td>2399.389</td>\n",
       "      <td>2451.462</td>\n",
       "      <td>2398.787</td>\n",
       "      <td>4663.317</td>\n",
       "      <td>4580.414</td>\n",
       "    </tr>\n",
       "  </tbody>\n",
       "</table>\n",
       "</div>"
      ],
      "text/plain": [
       "      linear_train  linear_test  ridge_train  ridge_test  ridge_cv_train  \\\n",
       "R2           0.890        0.893        0.890       0.893           0.890   \n",
       "mae       1717.578     1716.339     1717.531    1714.093        1717.502   \n",
       "mse    5976635.801  5788441.912  5981292.027 5763154.860     5980348.419   \n",
       "rmse      2444.716     2405.918     2445.668    2400.657        2445.475   \n",
       "\n",
       "      ridge_cv_test  lasso_train  lasso_test  lasso_cv_train  lasso_cv_test  \\\n",
       "R2            0.893        0.890       0.894           0.889          0.894   \n",
       "mae        1714.242     1717.502    1712.720        1720.428       1711.566   \n",
       "mse     5764474.114  5980348.419 5757068.832     6009663.992    5754179.489   \n",
       "rmse       2400.932     2445.475    2399.389        2451.462       2398.787   \n",
       "\n",
       "      elastic_train  elastic_test  \n",
       "R2            0.600         0.612  \n",
       "mae        3379.324      3354.565  \n",
       "mse    21746528.773  20980195.657  \n",
       "rmse       4663.317      4580.414  "
      ]
     },
     "execution_count": 63,
     "metadata": {},
     "output_type": "execute_result"
    }
   ],
   "source": [
    "pd.concat([linear_score, ridge_score, ridge_cv_scores, lasso_score, lasso_cv_score, elastic_score], axis=1)"
   ]
  },
  {
   "cell_type": "markdown",
   "metadata": {},
   "source": [
    "##### Cross Validatin With Default alpha and l1_ratio (alpha = 1, l1_ratio = 0.5)"
   ]
  },
  {
   "cell_type": "code",
   "execution_count": 64,
   "metadata": {},
   "outputs": [],
   "source": [
    "scores = cross_validate(elastic_model, X_train_scaled, y_train,\n",
    "                        scoring=[\"r2\", \"neg_mean_absolute_error\", \"neg_mean_squared_error\", \"neg_root_mean_squared_error\"],\n",
    "                        cv=5)"
   ]
  },
  {
   "cell_type": "code",
   "execution_count": 65,
   "metadata": {},
   "outputs": [
    {
     "data": {
      "text/html": [
       "<div>\n",
       "<style scoped>\n",
       "    .dataframe tbody tr th:only-of-type {\n",
       "        vertical-align: middle;\n",
       "    }\n",
       "\n",
       "    .dataframe tbody tr th {\n",
       "        vertical-align: top;\n",
       "    }\n",
       "\n",
       "    .dataframe thead th {\n",
       "        text-align: right;\n",
       "    }\n",
       "</style>\n",
       "<table border=\"1\" class=\"dataframe\">\n",
       "  <thead>\n",
       "    <tr style=\"text-align: right;\">\n",
       "      <th></th>\n",
       "      <th>fit_time</th>\n",
       "      <th>score_time</th>\n",
       "      <th>test_r2</th>\n",
       "      <th>test_neg_mean_absolute_error</th>\n",
       "      <th>test_neg_mean_squared_error</th>\n",
       "      <th>test_neg_root_mean_squared_error</th>\n",
       "    </tr>\n",
       "  </thead>\n",
       "  <tbody>\n",
       "    <tr>\n",
       "      <th>1</th>\n",
       "      <td>0.052</td>\n",
       "      <td>0.002</td>\n",
       "      <td>0.584</td>\n",
       "      <td>-3476.929</td>\n",
       "      <td>-23100062.901</td>\n",
       "      <td>-4806.252</td>\n",
       "    </tr>\n",
       "    <tr>\n",
       "      <th>2</th>\n",
       "      <td>0.044</td>\n",
       "      <td>0.002</td>\n",
       "      <td>0.605</td>\n",
       "      <td>-3442.189</td>\n",
       "      <td>-22283263.652</td>\n",
       "      <td>-4720.515</td>\n",
       "    </tr>\n",
       "    <tr>\n",
       "      <th>3</th>\n",
       "      <td>0.050</td>\n",
       "      <td>0.002</td>\n",
       "      <td>0.597</td>\n",
       "      <td>-3237.746</td>\n",
       "      <td>-19545465.662</td>\n",
       "      <td>-4421.025</td>\n",
       "    </tr>\n",
       "    <tr>\n",
       "      <th>4</th>\n",
       "      <td>0.064</td>\n",
       "      <td>0.002</td>\n",
       "      <td>0.618</td>\n",
       "      <td>-3403.080</td>\n",
       "      <td>-20973818.229</td>\n",
       "      <td>-4579.718</td>\n",
       "    </tr>\n",
       "    <tr>\n",
       "      <th>5</th>\n",
       "      <td>0.061</td>\n",
       "      <td>0.002</td>\n",
       "      <td>0.585</td>\n",
       "      <td>-3366.885</td>\n",
       "      <td>-23308414.831</td>\n",
       "      <td>-4827.879</td>\n",
       "    </tr>\n",
       "  </tbody>\n",
       "</table>\n",
       "</div>"
      ],
      "text/plain": [
       "   fit_time  score_time  test_r2  test_neg_mean_absolute_error  \\\n",
       "1     0.052       0.002    0.584                     -3476.929   \n",
       "2     0.044       0.002    0.605                     -3442.189   \n",
       "3     0.050       0.002    0.597                     -3237.746   \n",
       "4     0.064       0.002    0.618                     -3403.080   \n",
       "5     0.061       0.002    0.585                     -3366.885   \n",
       "\n",
       "   test_neg_mean_squared_error  test_neg_root_mean_squared_error  \n",
       "1                -23100062.901                         -4806.252  \n",
       "2                -22283263.652                         -4720.515  \n",
       "3                -19545465.662                         -4421.025  \n",
       "4                -20973818.229                         -4579.718  \n",
       "5                -23308414.831                         -4827.879  "
      ]
     },
     "execution_count": 65,
     "metadata": {},
     "output_type": "execute_result"
    }
   ],
   "source": [
    "pd.DataFrame(scores, index=range(1,6))"
   ]
  },
  {
   "cell_type": "code",
   "execution_count": 66,
   "metadata": {},
   "outputs": [
    {
     "data": {
      "text/plain": [
       "test_r2                                    0.598\n",
       "test_neg_mean_absolute_error           -3385.366\n",
       "test_neg_mean_squared_error        -21842205.055\n",
       "test_neg_root_mean_squared_error       -4671.078\n",
       "dtype: float64"
      ]
     },
     "execution_count": 66,
     "metadata": {},
     "output_type": "execute_result"
    }
   ],
   "source": [
    "scores = pd.DataFrame(scores, index=range(1,6)).iloc[:, 2:].mean()\n",
    "scores"
   ]
  },
  {
   "cell_type": "markdown",
   "metadata": {},
   "source": [
    "##### Choosing Best alpha and l1_ratio values with GridSearch"
   ]
  },
  {
   "cell_type": "code",
   "execution_count": 67,
   "metadata": {},
   "outputs": [],
   "source": [
    "param_grid = {\"alpha\":[0.01, 0.012, 0.2, 0.5, 0.6, 0.7, 1],\n",
    "            \"l1_ratio\":[0.1, 0.5, 0.7, 0.9, 0.95, 0.99, 1]}"
   ]
  },
  {
   "cell_type": "code",
   "execution_count": 68,
   "metadata": {},
   "outputs": [],
   "source": [
    "grid_model = GridSearchCV(estimator=elastic_model,\n",
    "                          param_grid=param_grid,\n",
    "                          scoring=\"neg_root_mean_squared_error\",\n",
    "                          cv = 5,\n",
    "                          verbose=2)"
   ]
  },
  {
   "cell_type": "code",
   "execution_count": 69,
   "metadata": {
    "scrolled": true
   },
   "outputs": [
    {
     "name": "stdout",
     "output_type": "stream",
     "text": [
      "Fitting 5 folds for each of 49 candidates, totalling 245 fits\n",
      "[CV] END ...........................alpha=0.01, l1_ratio=0.1; total time=   0.1s\n",
      "[CV] END ...........................alpha=0.01, l1_ratio=0.1; total time=   0.1s\n",
      "[CV] END ...........................alpha=0.01, l1_ratio=0.1; total time=   0.1s\n",
      "[CV] END ...........................alpha=0.01, l1_ratio=0.1; total time=   0.1s\n",
      "[CV] END ...........................alpha=0.01, l1_ratio=0.1; total time=   0.1s\n",
      "[CV] END ...........................alpha=0.01, l1_ratio=0.5; total time=   0.1s\n",
      "[CV] END ...........................alpha=0.01, l1_ratio=0.5; total time=   0.1s\n",
      "[CV] END ...........................alpha=0.01, l1_ratio=0.5; total time=   0.1s\n",
      "[CV] END ...........................alpha=0.01, l1_ratio=0.5; total time=   0.1s\n",
      "[CV] END ...........................alpha=0.01, l1_ratio=0.5; total time=   0.1s\n",
      "[CV] END ...........................alpha=0.01, l1_ratio=0.7; total time=   0.1s\n",
      "[CV] END ...........................alpha=0.01, l1_ratio=0.7; total time=   0.1s\n",
      "[CV] END ...........................alpha=0.01, l1_ratio=0.7; total time=   0.1s\n",
      "[CV] END ...........................alpha=0.01, l1_ratio=0.7; total time=   0.1s\n",
      "[CV] END ...........................alpha=0.01, l1_ratio=0.7; total time=   0.1s\n",
      "[CV] END ...........................alpha=0.01, l1_ratio=0.9; total time=   0.0s\n",
      "[CV] END ...........................alpha=0.01, l1_ratio=0.9; total time=   0.1s\n",
      "[CV] END ...........................alpha=0.01, l1_ratio=0.9; total time=   0.1s\n",
      "[CV] END ...........................alpha=0.01, l1_ratio=0.9; total time=   0.0s\n",
      "[CV] END ...........................alpha=0.01, l1_ratio=0.9; total time=   0.1s\n",
      "[CV] END ..........................alpha=0.01, l1_ratio=0.95; total time=   0.2s\n",
      "[CV] END ..........................alpha=0.01, l1_ratio=0.95; total time=   0.1s\n",
      "[CV] END ..........................alpha=0.01, l1_ratio=0.95; total time=   0.0s\n",
      "[CV] END ..........................alpha=0.01, l1_ratio=0.95; total time=   0.2s\n",
      "[CV] END ..........................alpha=0.01, l1_ratio=0.95; total time=   0.1s\n",
      "[CV] END ..........................alpha=0.01, l1_ratio=0.99; total time=   0.2s\n",
      "[CV] END ..........................alpha=0.01, l1_ratio=0.99; total time=   0.2s\n",
      "[CV] END ..........................alpha=0.01, l1_ratio=0.99; total time=   0.1s\n",
      "[CV] END ..........................alpha=0.01, l1_ratio=0.99; total time=   0.3s\n",
      "[CV] END ..........................alpha=0.01, l1_ratio=0.99; total time=   0.3s\n",
      "[CV] END .............................alpha=0.01, l1_ratio=1; total time=   0.3s\n",
      "[CV] END .............................alpha=0.01, l1_ratio=1; total time=   0.4s\n",
      "[CV] END .............................alpha=0.01, l1_ratio=1; total time=   0.1s\n",
      "[CV] END .............................alpha=0.01, l1_ratio=1; total time=   0.3s\n",
      "[CV] END .............................alpha=0.01, l1_ratio=1; total time=   0.3s\n",
      "[CV] END ..........................alpha=0.012, l1_ratio=0.1; total time=   0.1s\n",
      "[CV] END ..........................alpha=0.012, l1_ratio=0.1; total time=   0.1s\n",
      "[CV] END ..........................alpha=0.012, l1_ratio=0.1; total time=   0.1s\n",
      "[CV] END ..........................alpha=0.012, l1_ratio=0.1; total time=   0.1s\n",
      "[CV] END ..........................alpha=0.012, l1_ratio=0.1; total time=   0.1s\n",
      "[CV] END ..........................alpha=0.012, l1_ratio=0.5; total time=   0.1s\n",
      "[CV] END ..........................alpha=0.012, l1_ratio=0.5; total time=   0.1s\n",
      "[CV] END ..........................alpha=0.012, l1_ratio=0.5; total time=   0.1s\n",
      "[CV] END ..........................alpha=0.012, l1_ratio=0.5; total time=   0.0s\n",
      "[CV] END ..........................alpha=0.012, l1_ratio=0.5; total time=   0.1s\n",
      "[CV] END ..........................alpha=0.012, l1_ratio=0.7; total time=   0.0s\n",
      "[CV] END ..........................alpha=0.012, l1_ratio=0.7; total time=   0.0s\n",
      "[CV] END ..........................alpha=0.012, l1_ratio=0.7; total time=   0.1s\n",
      "[CV] END ..........................alpha=0.012, l1_ratio=0.7; total time=   0.1s\n",
      "[CV] END ..........................alpha=0.012, l1_ratio=0.7; total time=   0.0s\n",
      "[CV] END ..........................alpha=0.012, l1_ratio=0.9; total time=   0.1s\n",
      "[CV] END ..........................alpha=0.012, l1_ratio=0.9; total time=   0.0s\n",
      "[CV] END ..........................alpha=0.012, l1_ratio=0.9; total time=   0.0s\n",
      "[CV] END ..........................alpha=0.012, l1_ratio=0.9; total time=   0.0s\n",
      "[CV] END ..........................alpha=0.012, l1_ratio=0.9; total time=   0.1s\n",
      "[CV] END .........................alpha=0.012, l1_ratio=0.95; total time=   0.1s\n",
      "[CV] END .........................alpha=0.012, l1_ratio=0.95; total time=   0.1s\n",
      "[CV] END .........................alpha=0.012, l1_ratio=0.95; total time=   0.0s\n",
      "[CV] END .........................alpha=0.012, l1_ratio=0.95; total time=   0.1s\n",
      "[CV] END .........................alpha=0.012, l1_ratio=0.95; total time=   0.1s\n",
      "[CV] END .........................alpha=0.012, l1_ratio=0.99; total time=   0.2s\n",
      "[CV] END .........................alpha=0.012, l1_ratio=0.99; total time=   0.2s\n",
      "[CV] END .........................alpha=0.012, l1_ratio=0.99; total time=   0.1s\n",
      "[CV] END .........................alpha=0.012, l1_ratio=0.99; total time=   0.2s\n",
      "[CV] END .........................alpha=0.012, l1_ratio=0.99; total time=   0.3s\n",
      "[CV] END ............................alpha=0.012, l1_ratio=1; total time=   0.3s\n",
      "[CV] END ............................alpha=0.012, l1_ratio=1; total time=   0.4s\n",
      "[CV] END ............................alpha=0.012, l1_ratio=1; total time=   0.1s\n",
      "[CV] END ............................alpha=0.012, l1_ratio=1; total time=   0.3s\n",
      "[CV] END ............................alpha=0.012, l1_ratio=1; total time=   0.3s\n",
      "[CV] END ............................alpha=0.2, l1_ratio=0.1; total time=   0.0s\n",
      "[CV] END ............................alpha=0.2, l1_ratio=0.1; total time=   0.0s\n",
      "[CV] END ............................alpha=0.2, l1_ratio=0.1; total time=   0.0s\n",
      "[CV] END ............................alpha=0.2, l1_ratio=0.1; total time=   0.0s\n",
      "[CV] END ............................alpha=0.2, l1_ratio=0.1; total time=   0.0s\n",
      "[CV] END ............................alpha=0.2, l1_ratio=0.5; total time=   0.0s\n",
      "[CV] END ............................alpha=0.2, l1_ratio=0.5; total time=   0.0s\n",
      "[CV] END ............................alpha=0.2, l1_ratio=0.5; total time=   0.0s\n",
      "[CV] END ............................alpha=0.2, l1_ratio=0.5; total time=   0.0s\n",
      "[CV] END ............................alpha=0.2, l1_ratio=0.5; total time=   0.0s\n",
      "[CV] END ............................alpha=0.2, l1_ratio=0.7; total time=   0.0s\n",
      "[CV] END ............................alpha=0.2, l1_ratio=0.7; total time=   0.0s\n",
      "[CV] END ............................alpha=0.2, l1_ratio=0.7; total time=   0.0s\n",
      "[CV] END ............................alpha=0.2, l1_ratio=0.7; total time=   0.0s\n",
      "[CV] END ............................alpha=0.2, l1_ratio=0.7; total time=   0.0s\n",
      "[CV] END ............................alpha=0.2, l1_ratio=0.9; total time=   0.0s\n",
      "[CV] END ............................alpha=0.2, l1_ratio=0.9; total time=   0.0s\n",
      "[CV] END ............................alpha=0.2, l1_ratio=0.9; total time=   0.0s\n",
      "[CV] END ............................alpha=0.2, l1_ratio=0.9; total time=   0.0s\n",
      "[CV] END ............................alpha=0.2, l1_ratio=0.9; total time=   0.0s\n",
      "[CV] END ...........................alpha=0.2, l1_ratio=0.95; total time=   0.0s\n",
      "[CV] END ...........................alpha=0.2, l1_ratio=0.95; total time=   0.0s\n",
      "[CV] END ...........................alpha=0.2, l1_ratio=0.95; total time=   0.0s\n",
      "[CV] END ...........................alpha=0.2, l1_ratio=0.95; total time=   0.0s\n",
      "[CV] END ...........................alpha=0.2, l1_ratio=0.95; total time=   0.0s\n",
      "[CV] END ...........................alpha=0.2, l1_ratio=0.99; total time=   0.0s\n",
      "[CV] END ...........................alpha=0.2, l1_ratio=0.99; total time=   0.0s\n",
      "[CV] END ...........................alpha=0.2, l1_ratio=0.99; total time=   0.0s\n",
      "[CV] END ...........................alpha=0.2, l1_ratio=0.99; total time=   0.0s\n",
      "[CV] END ...........................alpha=0.2, l1_ratio=0.99; total time=   0.0s\n",
      "[CV] END ..............................alpha=0.2, l1_ratio=1; total time=   0.0s\n",
      "[CV] END ..............................alpha=0.2, l1_ratio=1; total time=   0.1s\n"
     ]
    },
    {
     "name": "stdout",
     "output_type": "stream",
     "text": [
      "[CV] END ..............................alpha=0.2, l1_ratio=1; total time=   0.0s\n",
      "[CV] END ..............................alpha=0.2, l1_ratio=1; total time=   0.0s\n",
      "[CV] END ..............................alpha=0.2, l1_ratio=1; total time=   0.1s\n",
      "[CV] END ............................alpha=0.5, l1_ratio=0.1; total time=   0.0s\n",
      "[CV] END ............................alpha=0.5, l1_ratio=0.1; total time=   0.0s\n",
      "[CV] END ............................alpha=0.5, l1_ratio=0.1; total time=   0.0s\n",
      "[CV] END ............................alpha=0.5, l1_ratio=0.1; total time=   0.0s\n",
      "[CV] END ............................alpha=0.5, l1_ratio=0.1; total time=   0.0s\n",
      "[CV] END ............................alpha=0.5, l1_ratio=0.5; total time=   0.0s\n",
      "[CV] END ............................alpha=0.5, l1_ratio=0.5; total time=   0.0s\n",
      "[CV] END ............................alpha=0.5, l1_ratio=0.5; total time=   0.0s\n",
      "[CV] END ............................alpha=0.5, l1_ratio=0.5; total time=   0.0s\n",
      "[CV] END ............................alpha=0.5, l1_ratio=0.5; total time=   0.0s\n",
      "[CV] END ............................alpha=0.5, l1_ratio=0.7; total time=   0.0s\n",
      "[CV] END ............................alpha=0.5, l1_ratio=0.7; total time=   0.0s\n",
      "[CV] END ............................alpha=0.5, l1_ratio=0.7; total time=   0.0s\n",
      "[CV] END ............................alpha=0.5, l1_ratio=0.7; total time=   0.0s\n",
      "[CV] END ............................alpha=0.5, l1_ratio=0.7; total time=   0.0s\n",
      "[CV] END ............................alpha=0.5, l1_ratio=0.9; total time=   0.0s\n",
      "[CV] END ............................alpha=0.5, l1_ratio=0.9; total time=   0.0s\n",
      "[CV] END ............................alpha=0.5, l1_ratio=0.9; total time=   0.0s\n",
      "[CV] END ............................alpha=0.5, l1_ratio=0.9; total time=   0.0s\n",
      "[CV] END ............................alpha=0.5, l1_ratio=0.9; total time=   0.0s\n",
      "[CV] END ...........................alpha=0.5, l1_ratio=0.95; total time=   0.0s\n",
      "[CV] END ...........................alpha=0.5, l1_ratio=0.95; total time=   0.0s\n",
      "[CV] END ...........................alpha=0.5, l1_ratio=0.95; total time=   0.0s\n",
      "[CV] END ...........................alpha=0.5, l1_ratio=0.95; total time=   0.0s\n",
      "[CV] END ...........................alpha=0.5, l1_ratio=0.95; total time=   0.0s\n",
      "[CV] END ...........................alpha=0.5, l1_ratio=0.99; total time=   0.0s\n",
      "[CV] END ...........................alpha=0.5, l1_ratio=0.99; total time=   0.0s\n",
      "[CV] END ...........................alpha=0.5, l1_ratio=0.99; total time=   0.0s\n",
      "[CV] END ...........................alpha=0.5, l1_ratio=0.99; total time=   0.0s\n",
      "[CV] END ...........................alpha=0.5, l1_ratio=0.99; total time=   0.0s\n",
      "[CV] END ..............................alpha=0.5, l1_ratio=1; total time=   0.0s\n",
      "[CV] END ..............................alpha=0.5, l1_ratio=1; total time=   0.0s\n",
      "[CV] END ..............................alpha=0.5, l1_ratio=1; total time=   0.0s\n",
      "[CV] END ..............................alpha=0.5, l1_ratio=1; total time=   0.0s\n",
      "[CV] END ..............................alpha=0.5, l1_ratio=1; total time=   0.0s\n",
      "[CV] END ............................alpha=0.6, l1_ratio=0.1; total time=   0.0s\n",
      "[CV] END ............................alpha=0.6, l1_ratio=0.1; total time=   0.0s\n",
      "[CV] END ............................alpha=0.6, l1_ratio=0.1; total time=   0.0s\n",
      "[CV] END ............................alpha=0.6, l1_ratio=0.1; total time=   0.0s\n",
      "[CV] END ............................alpha=0.6, l1_ratio=0.1; total time=   0.0s\n",
      "[CV] END ............................alpha=0.6, l1_ratio=0.5; total time=   0.0s\n",
      "[CV] END ............................alpha=0.6, l1_ratio=0.5; total time=   0.0s\n",
      "[CV] END ............................alpha=0.6, l1_ratio=0.5; total time=   0.0s\n",
      "[CV] END ............................alpha=0.6, l1_ratio=0.5; total time=   0.0s\n",
      "[CV] END ............................alpha=0.6, l1_ratio=0.5; total time=   0.0s\n",
      "[CV] END ............................alpha=0.6, l1_ratio=0.7; total time=   0.0s\n",
      "[CV] END ............................alpha=0.6, l1_ratio=0.7; total time=   0.0s\n",
      "[CV] END ............................alpha=0.6, l1_ratio=0.7; total time=   0.0s\n",
      "[CV] END ............................alpha=0.6, l1_ratio=0.7; total time=   0.0s\n",
      "[CV] END ............................alpha=0.6, l1_ratio=0.7; total time=   0.0s\n",
      "[CV] END ............................alpha=0.6, l1_ratio=0.9; total time=   0.0s\n",
      "[CV] END ............................alpha=0.6, l1_ratio=0.9; total time=   0.0s\n",
      "[CV] END ............................alpha=0.6, l1_ratio=0.9; total time=   0.0s\n",
      "[CV] END ............................alpha=0.6, l1_ratio=0.9; total time=   0.0s\n",
      "[CV] END ............................alpha=0.6, l1_ratio=0.9; total time=   0.0s\n",
      "[CV] END ...........................alpha=0.6, l1_ratio=0.95; total time=   0.0s\n",
      "[CV] END ...........................alpha=0.6, l1_ratio=0.95; total time=   0.0s\n",
      "[CV] END ...........................alpha=0.6, l1_ratio=0.95; total time=   0.0s\n",
      "[CV] END ...........................alpha=0.6, l1_ratio=0.95; total time=   0.0s\n",
      "[CV] END ...........................alpha=0.6, l1_ratio=0.95; total time=   0.0s\n",
      "[CV] END ...........................alpha=0.6, l1_ratio=0.99; total time=   0.0s\n",
      "[CV] END ...........................alpha=0.6, l1_ratio=0.99; total time=   0.0s\n",
      "[CV] END ...........................alpha=0.6, l1_ratio=0.99; total time=   0.0s\n",
      "[CV] END ...........................alpha=0.6, l1_ratio=0.99; total time=   0.0s\n",
      "[CV] END ...........................alpha=0.6, l1_ratio=0.99; total time=   0.0s\n",
      "[CV] END ..............................alpha=0.6, l1_ratio=1; total time=   0.0s\n",
      "[CV] END ..............................alpha=0.6, l1_ratio=1; total time=   0.0s\n",
      "[CV] END ..............................alpha=0.6, l1_ratio=1; total time=   0.0s\n",
      "[CV] END ..............................alpha=0.6, l1_ratio=1; total time=   0.0s\n",
      "[CV] END ..............................alpha=0.6, l1_ratio=1; total time=   0.0s\n",
      "[CV] END ............................alpha=0.7, l1_ratio=0.1; total time=   0.0s\n",
      "[CV] END ............................alpha=0.7, l1_ratio=0.1; total time=   0.0s\n",
      "[CV] END ............................alpha=0.7, l1_ratio=0.1; total time=   0.0s\n",
      "[CV] END ............................alpha=0.7, l1_ratio=0.1; total time=   0.0s\n",
      "[CV] END ............................alpha=0.7, l1_ratio=0.1; total time=   0.0s\n",
      "[CV] END ............................alpha=0.7, l1_ratio=0.5; total time=   0.0s\n",
      "[CV] END ............................alpha=0.7, l1_ratio=0.5; total time=   0.0s\n",
      "[CV] END ............................alpha=0.7, l1_ratio=0.5; total time=   0.0s\n",
      "[CV] END ............................alpha=0.7, l1_ratio=0.5; total time=   0.0s\n",
      "[CV] END ............................alpha=0.7, l1_ratio=0.5; total time=   0.0s\n",
      "[CV] END ............................alpha=0.7, l1_ratio=0.7; total time=   0.0s\n",
      "[CV] END ............................alpha=0.7, l1_ratio=0.7; total time=   0.0s\n",
      "[CV] END ............................alpha=0.7, l1_ratio=0.7; total time=   0.0s\n",
      "[CV] END ............................alpha=0.7, l1_ratio=0.7; total time=   0.0s\n",
      "[CV] END ............................alpha=0.7, l1_ratio=0.7; total time=   0.0s\n",
      "[CV] END ............................alpha=0.7, l1_ratio=0.9; total time=   0.0s\n",
      "[CV] END ............................alpha=0.7, l1_ratio=0.9; total time=   0.0s\n",
      "[CV] END ............................alpha=0.7, l1_ratio=0.9; total time=   0.0s\n",
      "[CV] END ............................alpha=0.7, l1_ratio=0.9; total time=   0.0s\n",
      "[CV] END ............................alpha=0.7, l1_ratio=0.9; total time=   0.0s\n",
      "[CV] END ...........................alpha=0.7, l1_ratio=0.95; total time=   0.0s\n",
      "[CV] END ...........................alpha=0.7, l1_ratio=0.95; total time=   0.0s\n",
      "[CV] END ...........................alpha=0.7, l1_ratio=0.95; total time=   0.0s\n",
      "[CV] END ...........................alpha=0.7, l1_ratio=0.95; total time=   0.0s\n",
      "[CV] END ...........................alpha=0.7, l1_ratio=0.95; total time=   0.0s\n",
      "[CV] END ...........................alpha=0.7, l1_ratio=0.99; total time=   0.0s\n",
      "[CV] END ...........................alpha=0.7, l1_ratio=0.99; total time=   0.0s\n",
      "[CV] END ...........................alpha=0.7, l1_ratio=0.99; total time=   0.0s\n",
      "[CV] END ...........................alpha=0.7, l1_ratio=0.99; total time=   0.0s\n",
      "[CV] END ...........................alpha=0.7, l1_ratio=0.99; total time=   0.0s\n"
     ]
    },
    {
     "name": "stdout",
     "output_type": "stream",
     "text": [
      "[CV] END ..............................alpha=0.7, l1_ratio=1; total time=   0.0s\n",
      "[CV] END ..............................alpha=0.7, l1_ratio=1; total time=   0.0s\n",
      "[CV] END ..............................alpha=0.7, l1_ratio=1; total time=   0.0s\n",
      "[CV] END ..............................alpha=0.7, l1_ratio=1; total time=   0.0s\n",
      "[CV] END ..............................alpha=0.7, l1_ratio=1; total time=   0.0s\n",
      "[CV] END ..............................alpha=1, l1_ratio=0.1; total time=   0.0s\n",
      "[CV] END ..............................alpha=1, l1_ratio=0.1; total time=   0.0s\n",
      "[CV] END ..............................alpha=1, l1_ratio=0.1; total time=   0.0s\n",
      "[CV] END ..............................alpha=1, l1_ratio=0.1; total time=   0.0s\n",
      "[CV] END ..............................alpha=1, l1_ratio=0.1; total time=   0.0s\n",
      "[CV] END ..............................alpha=1, l1_ratio=0.5; total time=   0.0s\n",
      "[CV] END ..............................alpha=1, l1_ratio=0.5; total time=   0.0s\n",
      "[CV] END ..............................alpha=1, l1_ratio=0.5; total time=   0.0s\n",
      "[CV] END ..............................alpha=1, l1_ratio=0.5; total time=   0.0s\n",
      "[CV] END ..............................alpha=1, l1_ratio=0.5; total time=   0.0s\n",
      "[CV] END ..............................alpha=1, l1_ratio=0.7; total time=   0.0s\n",
      "[CV] END ..............................alpha=1, l1_ratio=0.7; total time=   0.0s\n",
      "[CV] END ..............................alpha=1, l1_ratio=0.7; total time=   0.0s\n",
      "[CV] END ..............................alpha=1, l1_ratio=0.7; total time=   0.0s\n",
      "[CV] END ..............................alpha=1, l1_ratio=0.7; total time=   0.0s\n",
      "[CV] END ..............................alpha=1, l1_ratio=0.9; total time=   0.0s\n",
      "[CV] END ..............................alpha=1, l1_ratio=0.9; total time=   0.0s\n",
      "[CV] END ..............................alpha=1, l1_ratio=0.9; total time=   0.0s\n",
      "[CV] END ..............................alpha=1, l1_ratio=0.9; total time=   0.0s\n",
      "[CV] END ..............................alpha=1, l1_ratio=0.9; total time=   0.0s\n",
      "[CV] END .............................alpha=1, l1_ratio=0.95; total time=   0.0s\n",
      "[CV] END .............................alpha=1, l1_ratio=0.95; total time=   0.0s\n",
      "[CV] END .............................alpha=1, l1_ratio=0.95; total time=   0.0s\n",
      "[CV] END .............................alpha=1, l1_ratio=0.95; total time=   0.0s\n",
      "[CV] END .............................alpha=1, l1_ratio=0.95; total time=   0.0s\n",
      "[CV] END .............................alpha=1, l1_ratio=0.99; total time=   0.0s\n",
      "[CV] END .............................alpha=1, l1_ratio=0.99; total time=   0.0s\n",
      "[CV] END .............................alpha=1, l1_ratio=0.99; total time=   0.0s\n",
      "[CV] END .............................alpha=1, l1_ratio=0.99; total time=   0.0s\n",
      "[CV] END .............................alpha=1, l1_ratio=0.99; total time=   0.0s\n",
      "[CV] END ................................alpha=1, l1_ratio=1; total time=   0.0s\n",
      "[CV] END ................................alpha=1, l1_ratio=1; total time=   0.0s\n",
      "[CV] END ................................alpha=1, l1_ratio=1; total time=   0.0s\n",
      "[CV] END ................................alpha=1, l1_ratio=1; total time=   0.0s\n",
      "[CV] END ................................alpha=1, l1_ratio=1; total time=   0.0s\n"
     ]
    },
    {
     "data": {
      "text/html": [
       "<style>#sk-container-id-9 {color: black;background-color: white;}#sk-container-id-9 pre{padding: 0;}#sk-container-id-9 div.sk-toggleable {background-color: white;}#sk-container-id-9 label.sk-toggleable__label {cursor: pointer;display: block;width: 100%;margin-bottom: 0;padding: 0.3em;box-sizing: border-box;text-align: center;}#sk-container-id-9 label.sk-toggleable__label-arrow:before {content: \"▸\";float: left;margin-right: 0.25em;color: #696969;}#sk-container-id-9 label.sk-toggleable__label-arrow:hover:before {color: black;}#sk-container-id-9 div.sk-estimator:hover label.sk-toggleable__label-arrow:before {color: black;}#sk-container-id-9 div.sk-toggleable__content {max-height: 0;max-width: 0;overflow: hidden;text-align: left;background-color: #f0f8ff;}#sk-container-id-9 div.sk-toggleable__content pre {margin: 0.2em;color: black;border-radius: 0.25em;background-color: #f0f8ff;}#sk-container-id-9 input.sk-toggleable__control:checked~div.sk-toggleable__content {max-height: 200px;max-width: 100%;overflow: auto;}#sk-container-id-9 input.sk-toggleable__control:checked~label.sk-toggleable__label-arrow:before {content: \"▾\";}#sk-container-id-9 div.sk-estimator input.sk-toggleable__control:checked~label.sk-toggleable__label {background-color: #d4ebff;}#sk-container-id-9 div.sk-label input.sk-toggleable__control:checked~label.sk-toggleable__label {background-color: #d4ebff;}#sk-container-id-9 input.sk-hidden--visually {border: 0;clip: rect(1px 1px 1px 1px);clip: rect(1px, 1px, 1px, 1px);height: 1px;margin: -1px;overflow: hidden;padding: 0;position: absolute;width: 1px;}#sk-container-id-9 div.sk-estimator {font-family: monospace;background-color: #f0f8ff;border: 1px dotted black;border-radius: 0.25em;box-sizing: border-box;margin-bottom: 0.5em;}#sk-container-id-9 div.sk-estimator:hover {background-color: #d4ebff;}#sk-container-id-9 div.sk-parallel-item::after {content: \"\";width: 100%;border-bottom: 1px solid gray;flex-grow: 1;}#sk-container-id-9 div.sk-label:hover label.sk-toggleable__label {background-color: #d4ebff;}#sk-container-id-9 div.sk-serial::before {content: \"\";position: absolute;border-left: 1px solid gray;box-sizing: border-box;top: 0;bottom: 0;left: 50%;z-index: 0;}#sk-container-id-9 div.sk-serial {display: flex;flex-direction: column;align-items: center;background-color: white;padding-right: 0.2em;padding-left: 0.2em;position: relative;}#sk-container-id-9 div.sk-item {position: relative;z-index: 1;}#sk-container-id-9 div.sk-parallel {display: flex;align-items: stretch;justify-content: center;background-color: white;position: relative;}#sk-container-id-9 div.sk-item::before, #sk-container-id-9 div.sk-parallel-item::before {content: \"\";position: absolute;border-left: 1px solid gray;box-sizing: border-box;top: 0;bottom: 0;left: 50%;z-index: -1;}#sk-container-id-9 div.sk-parallel-item {display: flex;flex-direction: column;z-index: 1;position: relative;background-color: white;}#sk-container-id-9 div.sk-parallel-item:first-child::after {align-self: flex-end;width: 50%;}#sk-container-id-9 div.sk-parallel-item:last-child::after {align-self: flex-start;width: 50%;}#sk-container-id-9 div.sk-parallel-item:only-child::after {width: 0;}#sk-container-id-9 div.sk-dashed-wrapped {border: 1px dashed gray;margin: 0 0.4em 0.5em 0.4em;box-sizing: border-box;padding-bottom: 0.4em;background-color: white;}#sk-container-id-9 div.sk-label label {font-family: monospace;font-weight: bold;display: inline-block;line-height: 1.2em;}#sk-container-id-9 div.sk-label-container {text-align: center;}#sk-container-id-9 div.sk-container {/* jupyter's `normalize.less` sets `[hidden] { display: none; }` but bootstrap.min.css set `[hidden] { display: none !important; }` so we also need the `!important` here to be able to override the default hidden behavior on the sphinx rendered scikit-learn.org. See: https://github.com/scikit-learn/scikit-learn/issues/21755 */display: inline-block !important;position: relative;}#sk-container-id-9 div.sk-text-repr-fallback {display: none;}</style><div id=\"sk-container-id-9\" class=\"sk-top-container\"><div class=\"sk-text-repr-fallback\"><pre>GridSearchCV(cv=5, estimator=ElasticNet(alpha=1, random_state=42),\n",
       "             param_grid={&#x27;alpha&#x27;: [0.01, 0.012, 0.2, 0.5, 0.6, 0.7, 1],\n",
       "                         &#x27;l1_ratio&#x27;: [0.1, 0.5, 0.7, 0.9, 0.95, 0.99, 1]},\n",
       "             scoring=&#x27;neg_root_mean_squared_error&#x27;, verbose=2)</pre><b>In a Jupyter environment, please rerun this cell to show the HTML representation or trust the notebook. <br />On GitHub, the HTML representation is unable to render, please try loading this page with nbviewer.org.</b></div><div class=\"sk-container\" hidden><div class=\"sk-item sk-dashed-wrapped\"><div class=\"sk-label-container\"><div class=\"sk-label sk-toggleable\"><input class=\"sk-toggleable__control sk-hidden--visually\" id=\"sk-estimator-id-9\" type=\"checkbox\" ><label for=\"sk-estimator-id-9\" class=\"sk-toggleable__label sk-toggleable__label-arrow\">GridSearchCV</label><div class=\"sk-toggleable__content\"><pre>GridSearchCV(cv=5, estimator=ElasticNet(alpha=1, random_state=42),\n",
       "             param_grid={&#x27;alpha&#x27;: [0.01, 0.012, 0.2, 0.5, 0.6, 0.7, 1],\n",
       "                         &#x27;l1_ratio&#x27;: [0.1, 0.5, 0.7, 0.9, 0.95, 0.99, 1]},\n",
       "             scoring=&#x27;neg_root_mean_squared_error&#x27;, verbose=2)</pre></div></div></div><div class=\"sk-parallel\"><div class=\"sk-parallel-item\"><div class=\"sk-item\"><div class=\"sk-label-container\"><div class=\"sk-label sk-toggleable\"><input class=\"sk-toggleable__control sk-hidden--visually\" id=\"sk-estimator-id-10\" type=\"checkbox\" ><label for=\"sk-estimator-id-10\" class=\"sk-toggleable__label sk-toggleable__label-arrow\">estimator: ElasticNet</label><div class=\"sk-toggleable__content\"><pre>ElasticNet(alpha=1, random_state=42)</pre></div></div></div><div class=\"sk-serial\"><div class=\"sk-item\"><div class=\"sk-estimator sk-toggleable\"><input class=\"sk-toggleable__control sk-hidden--visually\" id=\"sk-estimator-id-11\" type=\"checkbox\" ><label for=\"sk-estimator-id-11\" class=\"sk-toggleable__label sk-toggleable__label-arrow\">ElasticNet</label><div class=\"sk-toggleable__content\"><pre>ElasticNet(alpha=1, random_state=42)</pre></div></div></div></div></div></div></div></div></div></div>"
      ],
      "text/plain": [
       "GridSearchCV(cv=5, estimator=ElasticNet(alpha=1, random_state=42),\n",
       "             param_grid={'alpha': [0.01, 0.012, 0.2, 0.5, 0.6, 0.7, 1],\n",
       "                         'l1_ratio': [0.1, 0.5, 0.7, 0.9, 0.95, 0.99, 1]},\n",
       "             scoring='neg_root_mean_squared_error', verbose=2)"
      ]
     },
     "execution_count": 69,
     "metadata": {},
     "output_type": "execute_result"
    }
   ],
   "source": [
    "grid_model.fit(X_train_scaled, y_train)"
   ]
  },
  {
   "cell_type": "code",
   "execution_count": 72,
   "metadata": {},
   "outputs": [
    {
     "data": {
      "text/plain": [
       "{'alpha': 1, 'l1_ratio': 1}"
      ]
     },
     "execution_count": 72,
     "metadata": {},
     "output_type": "execute_result"
    }
   ],
   "source": [
    "grid_model.best_params_\n",
    "# l1_ratio = 1 yani %100 lasso kullan diyor. \n",
    "# Ama alpha =1 yani maximum değerde kalmış. Bu yüzden değer aralığını değiştirip yeniden test yapacağım."
   ]
  },
  {
   "cell_type": "code",
   "execution_count": 71,
   "metadata": {},
   "outputs": [
    {
     "data": {
      "text/plain": [
       "-2489.157944539261"
      ]
     },
     "execution_count": 71,
     "metadata": {},
     "output_type": "execute_result"
    }
   ],
   "source": [
    "grid_model.best_score_"
   ]
  },
  {
   "cell_type": "code",
   "execution_count": 81,
   "metadata": {},
   "outputs": [],
   "source": [
    "param_grid = {\"alpha\":alpha_space_2,\n",
    "            \"l1_ratio\":[1]}"
   ]
  },
  {
   "cell_type": "code",
   "execution_count": 82,
   "metadata": {},
   "outputs": [],
   "source": [
    "grid_model = GridSearchCV(estimator=elastic_model,\n",
    "                          param_grid=param_grid,\n",
    "                          scoring=\"neg_root_mean_squared_error\",\n",
    "                          cv = 5,\n",
    "                          verbose=2)"
   ]
  },
  {
   "cell_type": "code",
   "execution_count": 83,
   "metadata": {},
   "outputs": [
    {
     "name": "stdout",
     "output_type": "stream",
     "text": [
      "Fitting 5 folds for each of 100 candidates, totalling 500 fits\n",
      "[CV] END ..............................alpha=1.0, l1_ratio=1; total time=   0.0s\n",
      "[CV] END ..............................alpha=1.0, l1_ratio=1; total time=   0.0s\n",
      "[CV] END ..............................alpha=1.0, l1_ratio=1; total time=   0.0s\n",
      "[CV] END ..............................alpha=1.0, l1_ratio=1; total time=   0.0s\n",
      "[CV] END ..............................alpha=1.0, l1_ratio=1; total time=   0.0s\n",
      "[CV] END ...............alpha=1.0101010101010102, l1_ratio=1; total time=   0.0s\n",
      "[CV] END ...............alpha=1.0101010101010102, l1_ratio=1; total time=   0.0s\n",
      "[CV] END ...............alpha=1.0101010101010102, l1_ratio=1; total time=   0.0s\n",
      "[CV] END ...............alpha=1.0101010101010102, l1_ratio=1; total time=   0.0s\n",
      "[CV] END ...............alpha=1.0101010101010102, l1_ratio=1; total time=   0.0s\n",
      "[CV] END .................alpha=1.02020202020202, l1_ratio=1; total time=   0.0s\n",
      "[CV] END .................alpha=1.02020202020202, l1_ratio=1; total time=   0.0s\n",
      "[CV] END .................alpha=1.02020202020202, l1_ratio=1; total time=   0.0s\n",
      "[CV] END .................alpha=1.02020202020202, l1_ratio=1; total time=   0.0s\n",
      "[CV] END .................alpha=1.02020202020202, l1_ratio=1; total time=   0.0s\n",
      "[CV] END ...............alpha=1.0303030303030303, l1_ratio=1; total time=   0.0s\n",
      "[CV] END ...............alpha=1.0303030303030303, l1_ratio=1; total time=   0.0s\n",
      "[CV] END ...............alpha=1.0303030303030303, l1_ratio=1; total time=   0.0s\n",
      "[CV] END ...............alpha=1.0303030303030303, l1_ratio=1; total time=   0.0s\n",
      "[CV] END ...............alpha=1.0303030303030303, l1_ratio=1; total time=   0.0s\n",
      "[CV] END ...............alpha=1.0404040404040404, l1_ratio=1; total time=   0.0s\n",
      "[CV] END ...............alpha=1.0404040404040404, l1_ratio=1; total time=   0.0s\n",
      "[CV] END ...............alpha=1.0404040404040404, l1_ratio=1; total time=   0.0s\n",
      "[CV] END ...............alpha=1.0404040404040404, l1_ratio=1; total time=   0.0s\n",
      "[CV] END ...............alpha=1.0404040404040404, l1_ratio=1; total time=   0.0s\n",
      "[CV] END ...............alpha=1.0505050505050506, l1_ratio=1; total time=   0.0s\n",
      "[CV] END ...............alpha=1.0505050505050506, l1_ratio=1; total time=   0.0s\n",
      "[CV] END ...............alpha=1.0505050505050506, l1_ratio=1; total time=   0.0s\n",
      "[CV] END ...............alpha=1.0505050505050506, l1_ratio=1; total time=   0.0s\n",
      "[CV] END ...............alpha=1.0505050505050506, l1_ratio=1; total time=   0.0s\n",
      "[CV] END ...............alpha=1.0606060606060606, l1_ratio=1; total time=   0.0s\n",
      "[CV] END ...............alpha=1.0606060606060606, l1_ratio=1; total time=   0.0s\n",
      "[CV] END ...............alpha=1.0606060606060606, l1_ratio=1; total time=   0.0s\n",
      "[CV] END ...............alpha=1.0606060606060606, l1_ratio=1; total time=   0.0s\n",
      "[CV] END ...............alpha=1.0606060606060606, l1_ratio=1; total time=   0.0s\n",
      "[CV] END ...............alpha=1.0707070707070707, l1_ratio=1; total time=   0.0s\n",
      "[CV] END ...............alpha=1.0707070707070707, l1_ratio=1; total time=   0.0s\n",
      "[CV] END ...............alpha=1.0707070707070707, l1_ratio=1; total time=   0.0s\n",
      "[CV] END ...............alpha=1.0707070707070707, l1_ratio=1; total time=   0.0s\n",
      "[CV] END ...............alpha=1.0707070707070707, l1_ratio=1; total time=   0.0s\n",
      "[CV] END ...............alpha=1.0808080808080809, l1_ratio=1; total time=   0.0s\n",
      "[CV] END ...............alpha=1.0808080808080809, l1_ratio=1; total time=   0.0s\n",
      "[CV] END ...............alpha=1.0808080808080809, l1_ratio=1; total time=   0.0s\n",
      "[CV] END ...............alpha=1.0808080808080809, l1_ratio=1; total time=   0.0s\n",
      "[CV] END ...............alpha=1.0808080808080809, l1_ratio=1; total time=   0.0s\n",
      "[CV] END ...............alpha=1.0909090909090908, l1_ratio=1; total time=   0.0s\n",
      "[CV] END ...............alpha=1.0909090909090908, l1_ratio=1; total time=   0.0s\n",
      "[CV] END ...............alpha=1.0909090909090908, l1_ratio=1; total time=   0.0s\n",
      "[CV] END ...............alpha=1.0909090909090908, l1_ratio=1; total time=   0.0s\n",
      "[CV] END ...............alpha=1.0909090909090908, l1_ratio=1; total time=   0.0s\n",
      "[CV] END ................alpha=1.101010101010101, l1_ratio=1; total time=   0.0s\n",
      "[CV] END ................alpha=1.101010101010101, l1_ratio=1; total time=   0.0s\n",
      "[CV] END ................alpha=1.101010101010101, l1_ratio=1; total time=   0.0s\n",
      "[CV] END ................alpha=1.101010101010101, l1_ratio=1; total time=   0.0s\n",
      "[CV] END ................alpha=1.101010101010101, l1_ratio=1; total time=   0.0s\n",
      "[CV] END ...............alpha=1.1111111111111112, l1_ratio=1; total time=   0.0s\n",
      "[CV] END ...............alpha=1.1111111111111112, l1_ratio=1; total time=   0.0s\n",
      "[CV] END ...............alpha=1.1111111111111112, l1_ratio=1; total time=   0.0s\n",
      "[CV] END ...............alpha=1.1111111111111112, l1_ratio=1; total time=   0.0s\n",
      "[CV] END ...............alpha=1.1111111111111112, l1_ratio=1; total time=   0.0s\n",
      "[CV] END ................alpha=1.121212121212121, l1_ratio=1; total time=   0.0s\n",
      "[CV] END ................alpha=1.121212121212121, l1_ratio=1; total time=   0.0s\n",
      "[CV] END ................alpha=1.121212121212121, l1_ratio=1; total time=   0.0s\n",
      "[CV] END ................alpha=1.121212121212121, l1_ratio=1; total time=   0.0s\n",
      "[CV] END ................alpha=1.121212121212121, l1_ratio=1; total time=   0.0s\n",
      "[CV] END ...............alpha=1.1313131313131313, l1_ratio=1; total time=   0.0s\n",
      "[CV] END ...............alpha=1.1313131313131313, l1_ratio=1; total time=   0.0s\n",
      "[CV] END ...............alpha=1.1313131313131313, l1_ratio=1; total time=   0.0s\n",
      "[CV] END ...............alpha=1.1313131313131313, l1_ratio=1; total time=   0.0s\n",
      "[CV] END ...............alpha=1.1313131313131313, l1_ratio=1; total time=   0.0s\n",
      "[CV] END ...............alpha=1.1414141414141414, l1_ratio=1; total time=   0.0s\n",
      "[CV] END ...............alpha=1.1414141414141414, l1_ratio=1; total time=   0.0s\n",
      "[CV] END ...............alpha=1.1414141414141414, l1_ratio=1; total time=   0.0s\n",
      "[CV] END ...............alpha=1.1414141414141414, l1_ratio=1; total time=   0.0s\n",
      "[CV] END ...............alpha=1.1414141414141414, l1_ratio=1; total time=   0.0s\n",
      "[CV] END ...............alpha=1.1515151515151516, l1_ratio=1; total time=   0.0s\n",
      "[CV] END ...............alpha=1.1515151515151516, l1_ratio=1; total time=   0.0s\n",
      "[CV] END ...............alpha=1.1515151515151516, l1_ratio=1; total time=   0.0s\n",
      "[CV] END ...............alpha=1.1515151515151516, l1_ratio=1; total time=   0.0s\n",
      "[CV] END ...............alpha=1.1515151515151516, l1_ratio=1; total time=   0.0s\n",
      "[CV] END ...............alpha=1.1616161616161615, l1_ratio=1; total time=   0.0s\n",
      "[CV] END ...............alpha=1.1616161616161615, l1_ratio=1; total time=   0.0s\n",
      "[CV] END ...............alpha=1.1616161616161615, l1_ratio=1; total time=   0.0s\n",
      "[CV] END ...............alpha=1.1616161616161615, l1_ratio=1; total time=   0.0s\n",
      "[CV] END ...............alpha=1.1616161616161615, l1_ratio=1; total time=   0.0s\n",
      "[CV] END ...............alpha=1.1717171717171717, l1_ratio=1; total time=   0.0s\n",
      "[CV] END ...............alpha=1.1717171717171717, l1_ratio=1; total time=   0.0s\n",
      "[CV] END ...............alpha=1.1717171717171717, l1_ratio=1; total time=   0.0s\n",
      "[CV] END ...............alpha=1.1717171717171717, l1_ratio=1; total time=   0.0s\n",
      "[CV] END ...............alpha=1.1717171717171717, l1_ratio=1; total time=   0.0s\n",
      "[CV] END ...............alpha=1.1818181818181819, l1_ratio=1; total time=   0.0s\n",
      "[CV] END ...............alpha=1.1818181818181819, l1_ratio=1; total time=   0.0s\n",
      "[CV] END ...............alpha=1.1818181818181819, l1_ratio=1; total time=   0.0s\n",
      "[CV] END ...............alpha=1.1818181818181819, l1_ratio=1; total time=   0.0s\n",
      "[CV] END ...............alpha=1.1818181818181819, l1_ratio=1; total time=   0.0s\n",
      "[CV] END ................alpha=1.191919191919192, l1_ratio=1; total time=   0.0s\n",
      "[CV] END ................alpha=1.191919191919192, l1_ratio=1; total time=   0.0s\n",
      "[CV] END ................alpha=1.191919191919192, l1_ratio=1; total time=   0.0s\n",
      "[CV] END ................alpha=1.191919191919192, l1_ratio=1; total time=   0.0s\n",
      "[CV] END ................alpha=1.191919191919192, l1_ratio=1; total time=   0.0s\n",
      "[CV] END ................alpha=1.202020202020202, l1_ratio=1; total time=   0.0s\n",
      "[CV] END ................alpha=1.202020202020202, l1_ratio=1; total time=   0.0s\n"
     ]
    },
    {
     "name": "stdout",
     "output_type": "stream",
     "text": [
      "[CV] END ................alpha=1.202020202020202, l1_ratio=1; total time=   0.0s\n",
      "[CV] END ................alpha=1.202020202020202, l1_ratio=1; total time=   0.0s\n",
      "[CV] END ................alpha=1.202020202020202, l1_ratio=1; total time=   0.0s\n",
      "[CV] END ...............alpha=1.2121212121212122, l1_ratio=1; total time=   0.0s\n",
      "[CV] END ...............alpha=1.2121212121212122, l1_ratio=1; total time=   0.0s\n",
      "[CV] END ...............alpha=1.2121212121212122, l1_ratio=1; total time=   0.0s\n",
      "[CV] END ...............alpha=1.2121212121212122, l1_ratio=1; total time=   0.0s\n",
      "[CV] END ...............alpha=1.2121212121212122, l1_ratio=1; total time=   0.0s\n",
      "[CV] END ...............alpha=1.2222222222222223, l1_ratio=1; total time=   0.0s\n",
      "[CV] END ...............alpha=1.2222222222222223, l1_ratio=1; total time=   0.0s\n",
      "[CV] END ...............alpha=1.2222222222222223, l1_ratio=1; total time=   0.0s\n",
      "[CV] END ...............alpha=1.2222222222222223, l1_ratio=1; total time=   0.0s\n",
      "[CV] END ...............alpha=1.2222222222222223, l1_ratio=1; total time=   0.0s\n",
      "[CV] END ...............alpha=1.2323232323232323, l1_ratio=1; total time=   0.0s\n",
      "[CV] END ...............alpha=1.2323232323232323, l1_ratio=1; total time=   0.0s\n",
      "[CV] END ...............alpha=1.2323232323232323, l1_ratio=1; total time=   0.0s\n",
      "[CV] END ...............alpha=1.2323232323232323, l1_ratio=1; total time=   0.0s\n",
      "[CV] END ...............alpha=1.2323232323232323, l1_ratio=1; total time=   0.0s\n",
      "[CV] END ...............alpha=1.2424242424242424, l1_ratio=1; total time=   0.0s\n",
      "[CV] END ...............alpha=1.2424242424242424, l1_ratio=1; total time=   0.0s\n",
      "[CV] END ...............alpha=1.2424242424242424, l1_ratio=1; total time=   0.0s\n",
      "[CV] END ...............alpha=1.2424242424242424, l1_ratio=1; total time=   0.0s\n",
      "[CV] END ...............alpha=1.2424242424242424, l1_ratio=1; total time=   0.0s\n",
      "[CV] END ...............alpha=1.2525252525252526, l1_ratio=1; total time=   0.0s\n",
      "[CV] END ...............alpha=1.2525252525252526, l1_ratio=1; total time=   0.0s\n",
      "[CV] END ...............alpha=1.2525252525252526, l1_ratio=1; total time=   0.0s\n",
      "[CV] END ...............alpha=1.2525252525252526, l1_ratio=1; total time=   0.0s\n",
      "[CV] END ...............alpha=1.2525252525252526, l1_ratio=1; total time=   0.0s\n",
      "[CV] END ...............alpha=1.2626262626262625, l1_ratio=1; total time=   0.0s\n",
      "[CV] END ...............alpha=1.2626262626262625, l1_ratio=1; total time=   0.0s\n",
      "[CV] END ...............alpha=1.2626262626262625, l1_ratio=1; total time=   0.0s\n",
      "[CV] END ...............alpha=1.2626262626262625, l1_ratio=1; total time=   0.0s\n",
      "[CV] END ...............alpha=1.2626262626262625, l1_ratio=1; total time=   0.0s\n",
      "[CV] END ...............alpha=1.2727272727272727, l1_ratio=1; total time=   0.0s\n",
      "[CV] END ...............alpha=1.2727272727272727, l1_ratio=1; total time=   0.0s\n",
      "[CV] END ...............alpha=1.2727272727272727, l1_ratio=1; total time=   0.0s\n",
      "[CV] END ...............alpha=1.2727272727272727, l1_ratio=1; total time=   0.0s\n",
      "[CV] END ...............alpha=1.2727272727272727, l1_ratio=1; total time=   0.0s\n",
      "[CV] END ...............alpha=1.2828282828282829, l1_ratio=1; total time=   0.0s\n",
      "[CV] END ...............alpha=1.2828282828282829, l1_ratio=1; total time=   0.0s\n",
      "[CV] END ...............alpha=1.2828282828282829, l1_ratio=1; total time=   0.0s\n",
      "[CV] END ...............alpha=1.2828282828282829, l1_ratio=1; total time=   0.0s\n",
      "[CV] END ...............alpha=1.2828282828282829, l1_ratio=1; total time=   0.0s\n",
      "[CV] END ...............alpha=1.2929292929292928, l1_ratio=1; total time=   0.0s\n",
      "[CV] END ...............alpha=1.2929292929292928, l1_ratio=1; total time=   0.0s\n",
      "[CV] END ...............alpha=1.2929292929292928, l1_ratio=1; total time=   0.0s\n",
      "[CV] END ...............alpha=1.2929292929292928, l1_ratio=1; total time=   0.0s\n",
      "[CV] END ...............alpha=1.2929292929292928, l1_ratio=1; total time=   0.0s\n",
      "[CV] END ................alpha=1.303030303030303, l1_ratio=1; total time=   0.0s\n",
      "[CV] END ................alpha=1.303030303030303, l1_ratio=1; total time=   0.0s\n",
      "[CV] END ................alpha=1.303030303030303, l1_ratio=1; total time=   0.0s\n",
      "[CV] END ................alpha=1.303030303030303, l1_ratio=1; total time=   0.0s\n",
      "[CV] END ................alpha=1.303030303030303, l1_ratio=1; total time=   0.0s\n",
      "[CV] END ...............alpha=1.3131313131313131, l1_ratio=1; total time=   0.0s\n",
      "[CV] END ...............alpha=1.3131313131313131, l1_ratio=1; total time=   0.0s\n",
      "[CV] END ...............alpha=1.3131313131313131, l1_ratio=1; total time=   0.0s\n",
      "[CV] END ...............alpha=1.3131313131313131, l1_ratio=1; total time=   0.0s\n",
      "[CV] END ...............alpha=1.3131313131313131, l1_ratio=1; total time=   0.0s\n",
      "[CV] END ...............alpha=1.3232323232323233, l1_ratio=1; total time=   0.0s\n",
      "[CV] END ...............alpha=1.3232323232323233, l1_ratio=1; total time=   0.0s\n",
      "[CV] END ...............alpha=1.3232323232323233, l1_ratio=1; total time=   0.0s\n",
      "[CV] END ...............alpha=1.3232323232323233, l1_ratio=1; total time=   0.0s\n",
      "[CV] END ...............alpha=1.3232323232323233, l1_ratio=1; total time=   0.0s\n",
      "[CV] END ...............alpha=1.3333333333333335, l1_ratio=1; total time=   0.0s\n",
      "[CV] END ...............alpha=1.3333333333333335, l1_ratio=1; total time=   0.0s\n",
      "[CV] END ...............alpha=1.3333333333333335, l1_ratio=1; total time=   0.0s\n",
      "[CV] END ...............alpha=1.3333333333333335, l1_ratio=1; total time=   0.0s\n",
      "[CV] END ...............alpha=1.3333333333333335, l1_ratio=1; total time=   0.0s\n",
      "[CV] END ...............alpha=1.3434343434343434, l1_ratio=1; total time=   0.0s\n",
      "[CV] END ...............alpha=1.3434343434343434, l1_ratio=1; total time=   0.0s\n",
      "[CV] END ...............alpha=1.3434343434343434, l1_ratio=1; total time=   0.0s\n",
      "[CV] END ...............alpha=1.3434343434343434, l1_ratio=1; total time=   0.0s\n",
      "[CV] END ...............alpha=1.3434343434343434, l1_ratio=1; total time=   0.0s\n",
      "[CV] END ...............alpha=1.3535353535353536, l1_ratio=1; total time=   0.0s\n",
      "[CV] END ...............alpha=1.3535353535353536, l1_ratio=1; total time=   0.0s\n",
      "[CV] END ...............alpha=1.3535353535353536, l1_ratio=1; total time=   0.0s\n",
      "[CV] END ...............alpha=1.3535353535353536, l1_ratio=1; total time=   0.0s\n",
      "[CV] END ...............alpha=1.3535353535353536, l1_ratio=1; total time=   0.1s\n",
      "[CV] END ...............alpha=1.3636363636363638, l1_ratio=1; total time=   0.0s\n",
      "[CV] END ...............alpha=1.3636363636363638, l1_ratio=1; total time=   0.0s\n",
      "[CV] END ...............alpha=1.3636363636363638, l1_ratio=1; total time=   0.0s\n",
      "[CV] END ...............alpha=1.3636363636363638, l1_ratio=1; total time=   0.0s\n",
      "[CV] END ...............alpha=1.3636363636363638, l1_ratio=1; total time=   0.0s\n",
      "[CV] END ...............alpha=1.3737373737373737, l1_ratio=1; total time=   0.0s\n",
      "[CV] END ...............alpha=1.3737373737373737, l1_ratio=1; total time=   0.0s\n",
      "[CV] END ...............alpha=1.3737373737373737, l1_ratio=1; total time=   0.0s\n",
      "[CV] END ...............alpha=1.3737373737373737, l1_ratio=1; total time=   0.0s\n",
      "[CV] END ...............alpha=1.3737373737373737, l1_ratio=1; total time=   0.0s\n",
      "[CV] END ...............alpha=1.3838383838383839, l1_ratio=1; total time=   0.0s\n",
      "[CV] END ...............alpha=1.3838383838383839, l1_ratio=1; total time=   0.0s\n",
      "[CV] END ...............alpha=1.3838383838383839, l1_ratio=1; total time=   0.0s\n",
      "[CV] END ...............alpha=1.3838383838383839, l1_ratio=1; total time=   0.0s\n",
      "[CV] END ...............alpha=1.3838383838383839, l1_ratio=1; total time=   0.0s\n",
      "[CV] END ................alpha=1.393939393939394, l1_ratio=1; total time=   0.0s\n",
      "[CV] END ................alpha=1.393939393939394, l1_ratio=1; total time=   0.0s\n",
      "[CV] END ................alpha=1.393939393939394, l1_ratio=1; total time=   0.0s\n",
      "[CV] END ................alpha=1.393939393939394, l1_ratio=1; total time=   0.0s\n",
      "[CV] END ................alpha=1.393939393939394, l1_ratio=1; total time=   0.0s\n",
      "[CV] END ................alpha=1.404040404040404, l1_ratio=1; total time=   0.0s\n",
      "[CV] END ................alpha=1.404040404040404, l1_ratio=1; total time=   0.0s\n",
      "[CV] END ................alpha=1.404040404040404, l1_ratio=1; total time=   0.0s\n",
      "[CV] END ................alpha=1.404040404040404, l1_ratio=1; total time=   0.0s\n"
     ]
    },
    {
     "name": "stdout",
     "output_type": "stream",
     "text": [
      "[CV] END ................alpha=1.404040404040404, l1_ratio=1; total time=   0.0s\n",
      "[CV] END ...............alpha=1.4141414141414141, l1_ratio=1; total time=   0.0s\n",
      "[CV] END ...............alpha=1.4141414141414141, l1_ratio=1; total time=   0.0s\n",
      "[CV] END ...............alpha=1.4141414141414141, l1_ratio=1; total time=   0.0s\n",
      "[CV] END ...............alpha=1.4141414141414141, l1_ratio=1; total time=   0.0s\n",
      "[CV] END ...............alpha=1.4141414141414141, l1_ratio=1; total time=   0.0s\n",
      "[CV] END ...............alpha=1.4242424242424243, l1_ratio=1; total time=   0.0s\n",
      "[CV] END ...............alpha=1.4242424242424243, l1_ratio=1; total time=   0.0s\n",
      "[CV] END ...............alpha=1.4242424242424243, l1_ratio=1; total time=   0.0s\n",
      "[CV] END ...............alpha=1.4242424242424243, l1_ratio=1; total time=   0.0s\n",
      "[CV] END ...............alpha=1.4242424242424243, l1_ratio=1; total time=   0.0s\n",
      "[CV] END ...............alpha=1.4343434343434343, l1_ratio=1; total time=   0.0s\n",
      "[CV] END ...............alpha=1.4343434343434343, l1_ratio=1; total time=   0.0s\n",
      "[CV] END ...............alpha=1.4343434343434343, l1_ratio=1; total time=   0.0s\n",
      "[CV] END ...............alpha=1.4343434343434343, l1_ratio=1; total time=   0.0s\n",
      "[CV] END ...............alpha=1.4343434343434343, l1_ratio=1; total time=   0.0s\n",
      "[CV] END ...............alpha=1.4444444444444444, l1_ratio=1; total time=   0.0s\n",
      "[CV] END ...............alpha=1.4444444444444444, l1_ratio=1; total time=   0.0s\n",
      "[CV] END ...............alpha=1.4444444444444444, l1_ratio=1; total time=   0.0s\n",
      "[CV] END ...............alpha=1.4444444444444444, l1_ratio=1; total time=   0.0s\n",
      "[CV] END ...............alpha=1.4444444444444444, l1_ratio=1; total time=   0.0s\n",
      "[CV] END ...............alpha=1.4545454545454546, l1_ratio=1; total time=   0.0s\n",
      "[CV] END ...............alpha=1.4545454545454546, l1_ratio=1; total time=   0.0s\n",
      "[CV] END ...............alpha=1.4545454545454546, l1_ratio=1; total time=   0.0s\n",
      "[CV] END ...............alpha=1.4545454545454546, l1_ratio=1; total time=   0.0s\n",
      "[CV] END ...............alpha=1.4545454545454546, l1_ratio=1; total time=   0.0s\n",
      "[CV] END ...............alpha=1.4646464646464648, l1_ratio=1; total time=   0.0s\n",
      "[CV] END ...............alpha=1.4646464646464648, l1_ratio=1; total time=   0.0s\n",
      "[CV] END ...............alpha=1.4646464646464648, l1_ratio=1; total time=   0.0s\n",
      "[CV] END ...............alpha=1.4646464646464648, l1_ratio=1; total time=   0.0s\n",
      "[CV] END ...............alpha=1.4646464646464648, l1_ratio=1; total time=   0.0s\n",
      "[CV] END ................alpha=1.474747474747475, l1_ratio=1; total time=   0.0s\n",
      "[CV] END ................alpha=1.474747474747475, l1_ratio=1; total time=   0.0s\n",
      "[CV] END ................alpha=1.474747474747475, l1_ratio=1; total time=   0.0s\n",
      "[CV] END ................alpha=1.474747474747475, l1_ratio=1; total time=   0.0s\n",
      "[CV] END ................alpha=1.474747474747475, l1_ratio=1; total time=   0.0s\n",
      "[CV] END ...............alpha=1.4848484848484849, l1_ratio=1; total time=   0.0s\n",
      "[CV] END ...............alpha=1.4848484848484849, l1_ratio=1; total time=   0.0s\n",
      "[CV] END ...............alpha=1.4848484848484849, l1_ratio=1; total time=   0.0s\n",
      "[CV] END ...............alpha=1.4848484848484849, l1_ratio=1; total time=   0.0s\n",
      "[CV] END ...............alpha=1.4848484848484849, l1_ratio=1; total time=   0.0s\n",
      "[CV] END ................alpha=1.494949494949495, l1_ratio=1; total time=   0.0s\n",
      "[CV] END ................alpha=1.494949494949495, l1_ratio=1; total time=   0.0s\n",
      "[CV] END ................alpha=1.494949494949495, l1_ratio=1; total time=   0.0s\n",
      "[CV] END ................alpha=1.494949494949495, l1_ratio=1; total time=   0.0s\n",
      "[CV] END ................alpha=1.494949494949495, l1_ratio=1; total time=   0.0s\n",
      "[CV] END ...............alpha=1.5050505050505052, l1_ratio=1; total time=   0.0s\n",
      "[CV] END ...............alpha=1.5050505050505052, l1_ratio=1; total time=   0.0s\n",
      "[CV] END ...............alpha=1.5050505050505052, l1_ratio=1; total time=   0.0s\n",
      "[CV] END ...............alpha=1.5050505050505052, l1_ratio=1; total time=   0.0s\n",
      "[CV] END ...............alpha=1.5050505050505052, l1_ratio=1; total time=   0.0s\n",
      "[CV] END ...............alpha=1.5151515151515151, l1_ratio=1; total time=   0.0s\n",
      "[CV] END ...............alpha=1.5151515151515151, l1_ratio=1; total time=   0.0s\n",
      "[CV] END ...............alpha=1.5151515151515151, l1_ratio=1; total time=   0.0s\n",
      "[CV] END ...............alpha=1.5151515151515151, l1_ratio=1; total time=   0.0s\n",
      "[CV] END ...............alpha=1.5151515151515151, l1_ratio=1; total time=   0.0s\n",
      "[CV] END ...............alpha=1.5252525252525253, l1_ratio=1; total time=   0.0s\n",
      "[CV] END ...............alpha=1.5252525252525253, l1_ratio=1; total time=   0.0s\n",
      "[CV] END ...............alpha=1.5252525252525253, l1_ratio=1; total time=   0.0s\n",
      "[CV] END ...............alpha=1.5252525252525253, l1_ratio=1; total time=   0.0s\n",
      "[CV] END ...............alpha=1.5252525252525253, l1_ratio=1; total time=   0.0s\n",
      "[CV] END ...............alpha=1.5353535353535355, l1_ratio=1; total time=   0.0s\n",
      "[CV] END ...............alpha=1.5353535353535355, l1_ratio=1; total time=   0.0s\n",
      "[CV] END ...............alpha=1.5353535353535355, l1_ratio=1; total time=   0.0s\n",
      "[CV] END ...............alpha=1.5353535353535355, l1_ratio=1; total time=   0.0s\n",
      "[CV] END ...............alpha=1.5353535353535355, l1_ratio=1; total time=   0.0s\n",
      "[CV] END ...............alpha=1.5454545454545454, l1_ratio=1; total time=   0.0s\n",
      "[CV] END ...............alpha=1.5454545454545454, l1_ratio=1; total time=   0.0s\n",
      "[CV] END ...............alpha=1.5454545454545454, l1_ratio=1; total time=   0.0s\n",
      "[CV] END ...............alpha=1.5454545454545454, l1_ratio=1; total time=   0.0s\n",
      "[CV] END ...............alpha=1.5454545454545454, l1_ratio=1; total time=   0.0s\n",
      "[CV] END ...............alpha=1.5555555555555556, l1_ratio=1; total time=   0.0s\n",
      "[CV] END ...............alpha=1.5555555555555556, l1_ratio=1; total time=   0.0s\n",
      "[CV] END ...............alpha=1.5555555555555556, l1_ratio=1; total time=   0.0s\n",
      "[CV] END ...............alpha=1.5555555555555556, l1_ratio=1; total time=   0.0s\n",
      "[CV] END ...............alpha=1.5555555555555556, l1_ratio=1; total time=   0.0s\n",
      "[CV] END ...............alpha=1.5656565656565657, l1_ratio=1; total time=   0.0s\n",
      "[CV] END ...............alpha=1.5656565656565657, l1_ratio=1; total time=   0.0s\n",
      "[CV] END ...............alpha=1.5656565656565657, l1_ratio=1; total time=   0.0s\n",
      "[CV] END ...............alpha=1.5656565656565657, l1_ratio=1; total time=   0.0s\n",
      "[CV] END ...............alpha=1.5656565656565657, l1_ratio=1; total time=   0.0s\n",
      "[CV] END ...............alpha=1.5757575757575757, l1_ratio=1; total time=   0.0s\n",
      "[CV] END ...............alpha=1.5757575757575757, l1_ratio=1; total time=   0.0s\n",
      "[CV] END ...............alpha=1.5757575757575757, l1_ratio=1; total time=   0.0s\n",
      "[CV] END ...............alpha=1.5757575757575757, l1_ratio=1; total time=   0.0s\n",
      "[CV] END ...............alpha=1.5757575757575757, l1_ratio=1; total time=   0.0s\n",
      "[CV] END ...............alpha=1.5858585858585859, l1_ratio=1; total time=   0.0s\n",
      "[CV] END ...............alpha=1.5858585858585859, l1_ratio=1; total time=   0.0s\n",
      "[CV] END ...............alpha=1.5858585858585859, l1_ratio=1; total time=   0.0s\n",
      "[CV] END ...............alpha=1.5858585858585859, l1_ratio=1; total time=   0.0s\n",
      "[CV] END ...............alpha=1.5858585858585859, l1_ratio=1; total time=   0.0s\n",
      "[CV] END ................alpha=1.595959595959596, l1_ratio=1; total time=   0.0s\n",
      "[CV] END ................alpha=1.595959595959596, l1_ratio=1; total time=   0.0s\n",
      "[CV] END ................alpha=1.595959595959596, l1_ratio=1; total time=   0.0s\n",
      "[CV] END ................alpha=1.595959595959596, l1_ratio=1; total time=   0.0s\n",
      "[CV] END ................alpha=1.595959595959596, l1_ratio=1; total time=   0.0s\n",
      "[CV] END ................alpha=1.606060606060606, l1_ratio=1; total time=   0.0s\n",
      "[CV] END ................alpha=1.606060606060606, l1_ratio=1; total time=   0.0s\n",
      "[CV] END ................alpha=1.606060606060606, l1_ratio=1; total time=   0.0s\n",
      "[CV] END ................alpha=1.606060606060606, l1_ratio=1; total time=   0.0s\n",
      "[CV] END ................alpha=1.606060606060606, l1_ratio=1; total time=   0.0s\n",
      "[CV] END ...............alpha=1.6161616161616164, l1_ratio=1; total time=   0.0s\n"
     ]
    },
    {
     "name": "stdout",
     "output_type": "stream",
     "text": [
      "[CV] END ...............alpha=1.6161616161616164, l1_ratio=1; total time=   0.0s\n",
      "[CV] END ...............alpha=1.6161616161616164, l1_ratio=1; total time=   0.0s\n",
      "[CV] END ...............alpha=1.6161616161616164, l1_ratio=1; total time=   0.0s\n",
      "[CV] END ...............alpha=1.6161616161616164, l1_ratio=1; total time=   0.0s\n",
      "[CV] END ...............alpha=1.6262626262626263, l1_ratio=1; total time=   0.0s\n",
      "[CV] END ...............alpha=1.6262626262626263, l1_ratio=1; total time=   0.0s\n",
      "[CV] END ...............alpha=1.6262626262626263, l1_ratio=1; total time=   0.0s\n",
      "[CV] END ...............alpha=1.6262626262626263, l1_ratio=1; total time=   0.0s\n",
      "[CV] END ...............alpha=1.6262626262626263, l1_ratio=1; total time=   0.0s\n",
      "[CV] END ...............alpha=1.6363636363636365, l1_ratio=1; total time=   0.0s\n",
      "[CV] END ...............alpha=1.6363636363636365, l1_ratio=1; total time=   0.0s\n",
      "[CV] END ...............alpha=1.6363636363636365, l1_ratio=1; total time=   0.0s\n",
      "[CV] END ...............alpha=1.6363636363636365, l1_ratio=1; total time=   0.0s\n",
      "[CV] END ...............alpha=1.6363636363636365, l1_ratio=1; total time=   0.0s\n",
      "[CV] END ...............alpha=1.6464646464646466, l1_ratio=1; total time=   0.0s\n",
      "[CV] END ...............alpha=1.6464646464646466, l1_ratio=1; total time=   0.0s\n",
      "[CV] END ...............alpha=1.6464646464646466, l1_ratio=1; total time=   0.0s\n",
      "[CV] END ...............alpha=1.6464646464646466, l1_ratio=1; total time=   0.0s\n",
      "[CV] END ...............alpha=1.6464646464646466, l1_ratio=1; total time=   0.0s\n",
      "[CV] END ...............alpha=1.6565656565656566, l1_ratio=1; total time=   0.0s\n",
      "[CV] END ...............alpha=1.6565656565656566, l1_ratio=1; total time=   0.0s\n",
      "[CV] END ...............alpha=1.6565656565656566, l1_ratio=1; total time=   0.0s\n",
      "[CV] END ...............alpha=1.6565656565656566, l1_ratio=1; total time=   0.0s\n",
      "[CV] END ...............alpha=1.6565656565656566, l1_ratio=1; total time=   0.0s\n",
      "[CV] END ...............alpha=1.6666666666666667, l1_ratio=1; total time=   0.0s\n",
      "[CV] END ...............alpha=1.6666666666666667, l1_ratio=1; total time=   0.0s\n",
      "[CV] END ...............alpha=1.6666666666666667, l1_ratio=1; total time=   0.0s\n",
      "[CV] END ...............alpha=1.6666666666666667, l1_ratio=1; total time=   0.0s\n",
      "[CV] END ...............alpha=1.6666666666666667, l1_ratio=1; total time=   0.0s\n",
      "[CV] END ................alpha=1.676767676767677, l1_ratio=1; total time=   0.0s\n",
      "[CV] END ................alpha=1.676767676767677, l1_ratio=1; total time=   0.0s\n",
      "[CV] END ................alpha=1.676767676767677, l1_ratio=1; total time=   0.0s\n",
      "[CV] END ................alpha=1.676767676767677, l1_ratio=1; total time=   0.0s\n",
      "[CV] END ................alpha=1.676767676767677, l1_ratio=1; total time=   0.0s\n",
      "[CV] END ...............alpha=1.6868686868686869, l1_ratio=1; total time=   0.0s\n",
      "[CV] END ...............alpha=1.6868686868686869, l1_ratio=1; total time=   0.0s\n",
      "[CV] END ...............alpha=1.6868686868686869, l1_ratio=1; total time=   0.0s\n",
      "[CV] END ...............alpha=1.6868686868686869, l1_ratio=1; total time=   0.0s\n",
      "[CV] END ...............alpha=1.6868686868686869, l1_ratio=1; total time=   0.0s\n",
      "[CV] END ................alpha=1.696969696969697, l1_ratio=1; total time=   0.0s\n",
      "[CV] END ................alpha=1.696969696969697, l1_ratio=1; total time=   0.0s\n",
      "[CV] END ................alpha=1.696969696969697, l1_ratio=1; total time=   0.0s\n",
      "[CV] END ................alpha=1.696969696969697, l1_ratio=1; total time=   0.0s\n",
      "[CV] END ................alpha=1.696969696969697, l1_ratio=1; total time=   0.0s\n",
      "[CV] END ...............alpha=1.7070707070707072, l1_ratio=1; total time=   0.0s\n",
      "[CV] END ...............alpha=1.7070707070707072, l1_ratio=1; total time=   0.0s\n",
      "[CV] END ...............alpha=1.7070707070707072, l1_ratio=1; total time=   0.0s\n",
      "[CV] END ...............alpha=1.7070707070707072, l1_ratio=1; total time=   0.0s\n",
      "[CV] END ...............alpha=1.7070707070707072, l1_ratio=1; total time=   0.0s\n",
      "[CV] END ...............alpha=1.7171717171717171, l1_ratio=1; total time=   0.0s\n",
      "[CV] END ...............alpha=1.7171717171717171, l1_ratio=1; total time=   0.0s\n",
      "[CV] END ...............alpha=1.7171717171717171, l1_ratio=1; total time=   0.0s\n",
      "[CV] END ...............alpha=1.7171717171717171, l1_ratio=1; total time=   0.0s\n",
      "[CV] END ...............alpha=1.7171717171717171, l1_ratio=1; total time=   0.0s\n",
      "[CV] END ...............alpha=1.7272727272727273, l1_ratio=1; total time=   0.0s\n",
      "[CV] END ...............alpha=1.7272727272727273, l1_ratio=1; total time=   0.0s\n",
      "[CV] END ...............alpha=1.7272727272727273, l1_ratio=1; total time=   0.0s\n",
      "[CV] END ...............alpha=1.7272727272727273, l1_ratio=1; total time=   0.0s\n",
      "[CV] END ...............alpha=1.7272727272727273, l1_ratio=1; total time=   0.0s\n",
      "[CV] END ...............alpha=1.7373737373737375, l1_ratio=1; total time=   0.0s\n",
      "[CV] END ...............alpha=1.7373737373737375, l1_ratio=1; total time=   0.0s\n",
      "[CV] END ...............alpha=1.7373737373737375, l1_ratio=1; total time=   0.0s\n",
      "[CV] END ...............alpha=1.7373737373737375, l1_ratio=1; total time=   0.0s\n",
      "[CV] END ...............alpha=1.7373737373737375, l1_ratio=1; total time=   0.0s\n",
      "[CV] END ...............alpha=1.7474747474747474, l1_ratio=1; total time=   0.0s\n",
      "[CV] END ...............alpha=1.7474747474747474, l1_ratio=1; total time=   0.0s\n",
      "[CV] END ...............alpha=1.7474747474747474, l1_ratio=1; total time=   0.0s\n",
      "[CV] END ...............alpha=1.7474747474747474, l1_ratio=1; total time=   0.0s\n",
      "[CV] END ...............alpha=1.7474747474747474, l1_ratio=1; total time=   0.0s\n",
      "[CV] END ...............alpha=1.7575757575757578, l1_ratio=1; total time=   0.0s\n",
      "[CV] END ...............alpha=1.7575757575757578, l1_ratio=1; total time=   0.0s\n",
      "[CV] END ...............alpha=1.7575757575757578, l1_ratio=1; total time=   0.0s\n",
      "[CV] END ...............alpha=1.7575757575757578, l1_ratio=1; total time=   0.0s\n",
      "[CV] END ...............alpha=1.7575757575757578, l1_ratio=1; total time=   0.0s\n",
      "[CV] END ...............alpha=1.7676767676767677, l1_ratio=1; total time=   0.0s\n",
      "[CV] END ...............alpha=1.7676767676767677, l1_ratio=1; total time=   0.0s\n",
      "[CV] END ...............alpha=1.7676767676767677, l1_ratio=1; total time=   0.0s\n",
      "[CV] END ...............alpha=1.7676767676767677, l1_ratio=1; total time=   0.0s\n",
      "[CV] END ...............alpha=1.7676767676767677, l1_ratio=1; total time=   0.0s\n",
      "[CV] END ...............alpha=1.7777777777777777, l1_ratio=1; total time=   0.0s\n",
      "[CV] END ...............alpha=1.7777777777777777, l1_ratio=1; total time=   0.0s\n",
      "[CV] END ...............alpha=1.7777777777777777, l1_ratio=1; total time=   0.0s\n",
      "[CV] END ...............alpha=1.7777777777777777, l1_ratio=1; total time=   0.0s\n",
      "[CV] END ...............alpha=1.7777777777777777, l1_ratio=1; total time=   0.0s\n",
      "[CV] END ................alpha=1.787878787878788, l1_ratio=1; total time=   0.0s\n",
      "[CV] END ................alpha=1.787878787878788, l1_ratio=1; total time=   0.0s\n",
      "[CV] END ................alpha=1.787878787878788, l1_ratio=1; total time=   0.0s\n",
      "[CV] END ................alpha=1.787878787878788, l1_ratio=1; total time=   0.0s\n",
      "[CV] END ................alpha=1.787878787878788, l1_ratio=1; total time=   0.0s\n",
      "[CV] END ................alpha=1.797979797979798, l1_ratio=1; total time=   0.0s\n",
      "[CV] END ................alpha=1.797979797979798, l1_ratio=1; total time=   0.0s\n",
      "[CV] END ................alpha=1.797979797979798, l1_ratio=1; total time=   0.0s\n",
      "[CV] END ................alpha=1.797979797979798, l1_ratio=1; total time=   0.0s\n",
      "[CV] END ................alpha=1.797979797979798, l1_ratio=1; total time=   0.0s\n",
      "[CV] END ...............alpha=1.8080808080808082, l1_ratio=1; total time=   0.0s\n",
      "[CV] END ...............alpha=1.8080808080808082, l1_ratio=1; total time=   0.0s\n",
      "[CV] END ...............alpha=1.8080808080808082, l1_ratio=1; total time=   0.0s\n",
      "[CV] END ...............alpha=1.8080808080808082, l1_ratio=1; total time=   0.0s\n",
      "[CV] END ...............alpha=1.8080808080808082, l1_ratio=1; total time=   0.0s\n",
      "[CV] END ...............alpha=1.8181818181818183, l1_ratio=1; total time=   0.0s\n",
      "[CV] END ...............alpha=1.8181818181818183, l1_ratio=1; total time=   0.0s\n",
      "[CV] END ...............alpha=1.8181818181818183, l1_ratio=1; total time=   0.0s\n",
      "[CV] END ...............alpha=1.8181818181818183, l1_ratio=1; total time=   0.0s\n",
      "[CV] END ...............alpha=1.8181818181818183, l1_ratio=1; total time=   0.0s\n"
     ]
    },
    {
     "name": "stdout",
     "output_type": "stream",
     "text": [
      "[CV] END ...............alpha=1.8282828282828283, l1_ratio=1; total time=   0.0s\n",
      "[CV] END ...............alpha=1.8282828282828283, l1_ratio=1; total time=   0.0s\n",
      "[CV] END ...............alpha=1.8282828282828283, l1_ratio=1; total time=   0.0s\n",
      "[CV] END ...............alpha=1.8282828282828283, l1_ratio=1; total time=   0.0s\n",
      "[CV] END ...............alpha=1.8282828282828283, l1_ratio=1; total time=   0.0s\n",
      "[CV] END ...............alpha=1.8383838383838385, l1_ratio=1; total time=   0.0s\n",
      "[CV] END ...............alpha=1.8383838383838385, l1_ratio=1; total time=   0.0s\n",
      "[CV] END ...............alpha=1.8383838383838385, l1_ratio=1; total time=   0.0s\n",
      "[CV] END ...............alpha=1.8383838383838385, l1_ratio=1; total time=   0.0s\n",
      "[CV] END ...............alpha=1.8383838383838385, l1_ratio=1; total time=   0.0s\n",
      "[CV] END ...............alpha=1.8484848484848486, l1_ratio=1; total time=   0.0s\n",
      "[CV] END ...............alpha=1.8484848484848486, l1_ratio=1; total time=   0.0s\n",
      "[CV] END ...............alpha=1.8484848484848486, l1_ratio=1; total time=   0.0s\n",
      "[CV] END ...............alpha=1.8484848484848486, l1_ratio=1; total time=   0.0s\n",
      "[CV] END ...............alpha=1.8484848484848486, l1_ratio=1; total time=   0.0s\n",
      "[CV] END ...............alpha=1.8585858585858586, l1_ratio=1; total time=   0.0s\n",
      "[CV] END ...............alpha=1.8585858585858586, l1_ratio=1; total time=   0.0s\n",
      "[CV] END ...............alpha=1.8585858585858586, l1_ratio=1; total time=   0.0s\n",
      "[CV] END ...............alpha=1.8585858585858586, l1_ratio=1; total time=   0.0s\n",
      "[CV] END ...............alpha=1.8585858585858586, l1_ratio=1; total time=   0.0s\n",
      "[CV] END ...............alpha=1.8686868686868687, l1_ratio=1; total time=   0.0s\n",
      "[CV] END ...............alpha=1.8686868686868687, l1_ratio=1; total time=   0.0s\n",
      "[CV] END ...............alpha=1.8686868686868687, l1_ratio=1; total time=   0.0s\n",
      "[CV] END ...............alpha=1.8686868686868687, l1_ratio=1; total time=   0.0s\n",
      "[CV] END ...............alpha=1.8686868686868687, l1_ratio=1; total time=   0.0s\n",
      "[CV] END ................alpha=1.878787878787879, l1_ratio=1; total time=   0.0s\n",
      "[CV] END ................alpha=1.878787878787879, l1_ratio=1; total time=   0.0s\n",
      "[CV] END ................alpha=1.878787878787879, l1_ratio=1; total time=   0.0s\n",
      "[CV] END ................alpha=1.878787878787879, l1_ratio=1; total time=   0.0s\n",
      "[CV] END ................alpha=1.878787878787879, l1_ratio=1; total time=   0.0s\n",
      "[CV] END ...............alpha=1.8888888888888888, l1_ratio=1; total time=   0.0s\n",
      "[CV] END ...............alpha=1.8888888888888888, l1_ratio=1; total time=   0.0s\n",
      "[CV] END ...............alpha=1.8888888888888888, l1_ratio=1; total time=   0.0s\n",
      "[CV] END ...............alpha=1.8888888888888888, l1_ratio=1; total time=   0.0s\n",
      "[CV] END ...............alpha=1.8888888888888888, l1_ratio=1; total time=   0.0s\n",
      "[CV] END ...............alpha=1.8989898989898992, l1_ratio=1; total time=   0.0s\n",
      "[CV] END ...............alpha=1.8989898989898992, l1_ratio=1; total time=   0.0s\n",
      "[CV] END ...............alpha=1.8989898989898992, l1_ratio=1; total time=   0.0s\n",
      "[CV] END ...............alpha=1.8989898989898992, l1_ratio=1; total time=   0.0s\n",
      "[CV] END ...............alpha=1.8989898989898992, l1_ratio=1; total time=   0.0s\n",
      "[CV] END ...............alpha=1.9090909090909092, l1_ratio=1; total time=   0.0s\n",
      "[CV] END ...............alpha=1.9090909090909092, l1_ratio=1; total time=   0.0s\n",
      "[CV] END ...............alpha=1.9090909090909092, l1_ratio=1; total time=   0.0s\n",
      "[CV] END ...............alpha=1.9090909090909092, l1_ratio=1; total time=   0.0s\n",
      "[CV] END ...............alpha=1.9090909090909092, l1_ratio=1; total time=   0.0s\n",
      "[CV] END ...............alpha=1.9191919191919191, l1_ratio=1; total time=   0.0s\n",
      "[CV] END ...............alpha=1.9191919191919191, l1_ratio=1; total time=   0.0s\n",
      "[CV] END ...............alpha=1.9191919191919191, l1_ratio=1; total time=   0.0s\n",
      "[CV] END ...............alpha=1.9191919191919191, l1_ratio=1; total time=   0.0s\n",
      "[CV] END ...............alpha=1.9191919191919191, l1_ratio=1; total time=   0.0s\n",
      "[CV] END ...............alpha=1.9292929292929295, l1_ratio=1; total time=   0.0s\n",
      "[CV] END ...............alpha=1.9292929292929295, l1_ratio=1; total time=   0.0s\n",
      "[CV] END ...............alpha=1.9292929292929295, l1_ratio=1; total time=   0.0s\n",
      "[CV] END ...............alpha=1.9292929292929295, l1_ratio=1; total time=   0.0s\n",
      "[CV] END ...............alpha=1.9292929292929295, l1_ratio=1; total time=   0.0s\n",
      "[CV] END ...............alpha=1.9393939393939394, l1_ratio=1; total time=   0.0s\n",
      "[CV] END ...............alpha=1.9393939393939394, l1_ratio=1; total time=   0.0s\n",
      "[CV] END ...............alpha=1.9393939393939394, l1_ratio=1; total time=   0.0s\n",
      "[CV] END ...............alpha=1.9393939393939394, l1_ratio=1; total time=   0.0s\n",
      "[CV] END ...............alpha=1.9393939393939394, l1_ratio=1; total time=   0.0s\n",
      "[CV] END ...............alpha=1.9494949494949496, l1_ratio=1; total time=   0.0s\n",
      "[CV] END ...............alpha=1.9494949494949496, l1_ratio=1; total time=   0.0s\n",
      "[CV] END ...............alpha=1.9494949494949496, l1_ratio=1; total time=   0.0s\n",
      "[CV] END ...............alpha=1.9494949494949496, l1_ratio=1; total time=   0.0s\n",
      "[CV] END ...............alpha=1.9494949494949496, l1_ratio=1; total time=   0.0s\n",
      "[CV] END ...............alpha=1.9595959595959598, l1_ratio=1; total time=   0.0s\n",
      "[CV] END ...............alpha=1.9595959595959598, l1_ratio=1; total time=   0.0s\n",
      "[CV] END ...............alpha=1.9595959595959598, l1_ratio=1; total time=   0.0s\n",
      "[CV] END ...............alpha=1.9595959595959598, l1_ratio=1; total time=   0.0s\n",
      "[CV] END ...............alpha=1.9595959595959598, l1_ratio=1; total time=   0.0s\n",
      "[CV] END ...............alpha=1.9696969696969697, l1_ratio=1; total time=   0.0s\n",
      "[CV] END ...............alpha=1.9696969696969697, l1_ratio=1; total time=   0.0s\n",
      "[CV] END ...............alpha=1.9696969696969697, l1_ratio=1; total time=   0.0s\n",
      "[CV] END ...............alpha=1.9696969696969697, l1_ratio=1; total time=   0.0s\n",
      "[CV] END ...............alpha=1.9696969696969697, l1_ratio=1; total time=   0.0s\n",
      "[CV] END .................alpha=1.97979797979798, l1_ratio=1; total time=   0.0s\n",
      "[CV] END .................alpha=1.97979797979798, l1_ratio=1; total time=   0.0s\n",
      "[CV] END .................alpha=1.97979797979798, l1_ratio=1; total time=   0.0s\n",
      "[CV] END .................alpha=1.97979797979798, l1_ratio=1; total time=   0.0s\n",
      "[CV] END .................alpha=1.97979797979798, l1_ratio=1; total time=   0.0s\n",
      "[CV] END .................alpha=1.98989898989899, l1_ratio=1; total time=   0.0s\n",
      "[CV] END .................alpha=1.98989898989899, l1_ratio=1; total time=   0.0s\n",
      "[CV] END .................alpha=1.98989898989899, l1_ratio=1; total time=   0.0s\n",
      "[CV] END .................alpha=1.98989898989899, l1_ratio=1; total time=   0.0s\n",
      "[CV] END .................alpha=1.98989898989899, l1_ratio=1; total time=   0.0s\n",
      "[CV] END ..............................alpha=2.0, l1_ratio=1; total time=   0.0s\n",
      "[CV] END ..............................alpha=2.0, l1_ratio=1; total time=   0.0s\n",
      "[CV] END ..............................alpha=2.0, l1_ratio=1; total time=   0.0s\n",
      "[CV] END ..............................alpha=2.0, l1_ratio=1; total time=   0.0s\n",
      "[CV] END ..............................alpha=2.0, l1_ratio=1; total time=   0.0s\n"
     ]
    },
    {
     "data": {
      "text/html": [
       "<style>#sk-container-id-11 {color: black;background-color: white;}#sk-container-id-11 pre{padding: 0;}#sk-container-id-11 div.sk-toggleable {background-color: white;}#sk-container-id-11 label.sk-toggleable__label {cursor: pointer;display: block;width: 100%;margin-bottom: 0;padding: 0.3em;box-sizing: border-box;text-align: center;}#sk-container-id-11 label.sk-toggleable__label-arrow:before {content: \"▸\";float: left;margin-right: 0.25em;color: #696969;}#sk-container-id-11 label.sk-toggleable__label-arrow:hover:before {color: black;}#sk-container-id-11 div.sk-estimator:hover label.sk-toggleable__label-arrow:before {color: black;}#sk-container-id-11 div.sk-toggleable__content {max-height: 0;max-width: 0;overflow: hidden;text-align: left;background-color: #f0f8ff;}#sk-container-id-11 div.sk-toggleable__content pre {margin: 0.2em;color: black;border-radius: 0.25em;background-color: #f0f8ff;}#sk-container-id-11 input.sk-toggleable__control:checked~div.sk-toggleable__content {max-height: 200px;max-width: 100%;overflow: auto;}#sk-container-id-11 input.sk-toggleable__control:checked~label.sk-toggleable__label-arrow:before {content: \"▾\";}#sk-container-id-11 div.sk-estimator input.sk-toggleable__control:checked~label.sk-toggleable__label {background-color: #d4ebff;}#sk-container-id-11 div.sk-label input.sk-toggleable__control:checked~label.sk-toggleable__label {background-color: #d4ebff;}#sk-container-id-11 input.sk-hidden--visually {border: 0;clip: rect(1px 1px 1px 1px);clip: rect(1px, 1px, 1px, 1px);height: 1px;margin: -1px;overflow: hidden;padding: 0;position: absolute;width: 1px;}#sk-container-id-11 div.sk-estimator {font-family: monospace;background-color: #f0f8ff;border: 1px dotted black;border-radius: 0.25em;box-sizing: border-box;margin-bottom: 0.5em;}#sk-container-id-11 div.sk-estimator:hover {background-color: #d4ebff;}#sk-container-id-11 div.sk-parallel-item::after {content: \"\";width: 100%;border-bottom: 1px solid gray;flex-grow: 1;}#sk-container-id-11 div.sk-label:hover label.sk-toggleable__label {background-color: #d4ebff;}#sk-container-id-11 div.sk-serial::before {content: \"\";position: absolute;border-left: 1px solid gray;box-sizing: border-box;top: 0;bottom: 0;left: 50%;z-index: 0;}#sk-container-id-11 div.sk-serial {display: flex;flex-direction: column;align-items: center;background-color: white;padding-right: 0.2em;padding-left: 0.2em;position: relative;}#sk-container-id-11 div.sk-item {position: relative;z-index: 1;}#sk-container-id-11 div.sk-parallel {display: flex;align-items: stretch;justify-content: center;background-color: white;position: relative;}#sk-container-id-11 div.sk-item::before, #sk-container-id-11 div.sk-parallel-item::before {content: \"\";position: absolute;border-left: 1px solid gray;box-sizing: border-box;top: 0;bottom: 0;left: 50%;z-index: -1;}#sk-container-id-11 div.sk-parallel-item {display: flex;flex-direction: column;z-index: 1;position: relative;background-color: white;}#sk-container-id-11 div.sk-parallel-item:first-child::after {align-self: flex-end;width: 50%;}#sk-container-id-11 div.sk-parallel-item:last-child::after {align-self: flex-start;width: 50%;}#sk-container-id-11 div.sk-parallel-item:only-child::after {width: 0;}#sk-container-id-11 div.sk-dashed-wrapped {border: 1px dashed gray;margin: 0 0.4em 0.5em 0.4em;box-sizing: border-box;padding-bottom: 0.4em;background-color: white;}#sk-container-id-11 div.sk-label label {font-family: monospace;font-weight: bold;display: inline-block;line-height: 1.2em;}#sk-container-id-11 div.sk-label-container {text-align: center;}#sk-container-id-11 div.sk-container {/* jupyter's `normalize.less` sets `[hidden] { display: none; }` but bootstrap.min.css set `[hidden] { display: none !important; }` so we also need the `!important` here to be able to override the default hidden behavior on the sphinx rendered scikit-learn.org. See: https://github.com/scikit-learn/scikit-learn/issues/21755 */display: inline-block !important;position: relative;}#sk-container-id-11 div.sk-text-repr-fallback {display: none;}</style><div id=\"sk-container-id-11\" class=\"sk-top-container\"><div class=\"sk-text-repr-fallback\"><pre>GridSearchCV(cv=5, estimator=ElasticNet(alpha=1, random_state=42),\n",
       "             param_grid={&#x27;alpha&#x27;: array([1.        , 1.01010101, 1.02020202, 1.03030303, 1.04040404,\n",
       "       1.05050505, 1.06060606, 1.07070707, 1.08080808, 1.09090909,\n",
       "       1.1010101 , 1.11111111, 1.12121212, 1.13131313, 1.14141414,\n",
       "       1.15151515, 1.16161616, 1.17171717, 1.18181818, 1.19191919,\n",
       "       1.2020202 , 1.21212121, 1.22222222, 1.23232323, 1.242...\n",
       "       1.70707071, 1.71717172, 1.72727273, 1.73737374, 1.74747475,\n",
       "       1.75757576, 1.76767677, 1.77777778, 1.78787879, 1.7979798 ,\n",
       "       1.80808081, 1.81818182, 1.82828283, 1.83838384, 1.84848485,\n",
       "       1.85858586, 1.86868687, 1.87878788, 1.88888889, 1.8989899 ,\n",
       "       1.90909091, 1.91919192, 1.92929293, 1.93939394, 1.94949495,\n",
       "       1.95959596, 1.96969697, 1.97979798, 1.98989899, 2.        ]),\n",
       "                         &#x27;l1_ratio&#x27;: [1]},\n",
       "             scoring=&#x27;neg_root_mean_squared_error&#x27;, verbose=2)</pre><b>In a Jupyter environment, please rerun this cell to show the HTML representation or trust the notebook. <br />On GitHub, the HTML representation is unable to render, please try loading this page with nbviewer.org.</b></div><div class=\"sk-container\" hidden><div class=\"sk-item sk-dashed-wrapped\"><div class=\"sk-label-container\"><div class=\"sk-label sk-toggleable\"><input class=\"sk-toggleable__control sk-hidden--visually\" id=\"sk-estimator-id-15\" type=\"checkbox\" ><label for=\"sk-estimator-id-15\" class=\"sk-toggleable__label sk-toggleable__label-arrow\">GridSearchCV</label><div class=\"sk-toggleable__content\"><pre>GridSearchCV(cv=5, estimator=ElasticNet(alpha=1, random_state=42),\n",
       "             param_grid={&#x27;alpha&#x27;: array([1.        , 1.01010101, 1.02020202, 1.03030303, 1.04040404,\n",
       "       1.05050505, 1.06060606, 1.07070707, 1.08080808, 1.09090909,\n",
       "       1.1010101 , 1.11111111, 1.12121212, 1.13131313, 1.14141414,\n",
       "       1.15151515, 1.16161616, 1.17171717, 1.18181818, 1.19191919,\n",
       "       1.2020202 , 1.21212121, 1.22222222, 1.23232323, 1.242...\n",
       "       1.70707071, 1.71717172, 1.72727273, 1.73737374, 1.74747475,\n",
       "       1.75757576, 1.76767677, 1.77777778, 1.78787879, 1.7979798 ,\n",
       "       1.80808081, 1.81818182, 1.82828283, 1.83838384, 1.84848485,\n",
       "       1.85858586, 1.86868687, 1.87878788, 1.88888889, 1.8989899 ,\n",
       "       1.90909091, 1.91919192, 1.92929293, 1.93939394, 1.94949495,\n",
       "       1.95959596, 1.96969697, 1.97979798, 1.98989899, 2.        ]),\n",
       "                         &#x27;l1_ratio&#x27;: [1]},\n",
       "             scoring=&#x27;neg_root_mean_squared_error&#x27;, verbose=2)</pre></div></div></div><div class=\"sk-parallel\"><div class=\"sk-parallel-item\"><div class=\"sk-item\"><div class=\"sk-label-container\"><div class=\"sk-label sk-toggleable\"><input class=\"sk-toggleable__control sk-hidden--visually\" id=\"sk-estimator-id-16\" type=\"checkbox\" ><label for=\"sk-estimator-id-16\" class=\"sk-toggleable__label sk-toggleable__label-arrow\">estimator: ElasticNet</label><div class=\"sk-toggleable__content\"><pre>ElasticNet(alpha=1, random_state=42)</pre></div></div></div><div class=\"sk-serial\"><div class=\"sk-item\"><div class=\"sk-estimator sk-toggleable\"><input class=\"sk-toggleable__control sk-hidden--visually\" id=\"sk-estimator-id-17\" type=\"checkbox\" ><label for=\"sk-estimator-id-17\" class=\"sk-toggleable__label sk-toggleable__label-arrow\">ElasticNet</label><div class=\"sk-toggleable__content\"><pre>ElasticNet(alpha=1, random_state=42)</pre></div></div></div></div></div></div></div></div></div></div>"
      ],
      "text/plain": [
       "GridSearchCV(cv=5, estimator=ElasticNet(alpha=1, random_state=42),\n",
       "             param_grid={'alpha': array([1.        , 1.01010101, 1.02020202, 1.03030303, 1.04040404,\n",
       "       1.05050505, 1.06060606, 1.07070707, 1.08080808, 1.09090909,\n",
       "       1.1010101 , 1.11111111, 1.12121212, 1.13131313, 1.14141414,\n",
       "       1.15151515, 1.16161616, 1.17171717, 1.18181818, 1.19191919,\n",
       "       1.2020202 , 1.21212121, 1.22222222, 1.23232323, 1.242...\n",
       "       1.70707071, 1.71717172, 1.72727273, 1.73737374, 1.74747475,\n",
       "       1.75757576, 1.76767677, 1.77777778, 1.78787879, 1.7979798 ,\n",
       "       1.80808081, 1.81818182, 1.82828283, 1.83838384, 1.84848485,\n",
       "       1.85858586, 1.86868687, 1.87878788, 1.88888889, 1.8989899 ,\n",
       "       1.90909091, 1.91919192, 1.92929293, 1.93939394, 1.94949495,\n",
       "       1.95959596, 1.96969697, 1.97979798, 1.98989899, 2.        ]),\n",
       "                         'l1_ratio': [1]},\n",
       "             scoring='neg_root_mean_squared_error', verbose=2)"
      ]
     },
     "execution_count": 83,
     "metadata": {},
     "output_type": "execute_result"
    }
   ],
   "source": [
    "grid_model.fit(X_train_scaled, y_train)"
   ]
  },
  {
   "cell_type": "code",
   "execution_count": 84,
   "metadata": {},
   "outputs": [
    {
     "data": {
      "text/plain": [
       "{'alpha': 1.393939393939394, 'l1_ratio': 1}"
      ]
     },
     "execution_count": 84,
     "metadata": {},
     "output_type": "execute_result"
    }
   ],
   "source": [
    "grid_model.best_params_"
   ]
  },
  {
   "cell_type": "code",
   "execution_count": 85,
   "metadata": {},
   "outputs": [
    {
     "data": {
      "text/plain": [
       "-2488.9735513740934"
      ]
     },
     "execution_count": 85,
     "metadata": {},
     "output_type": "execute_result"
    }
   ],
   "source": [
    "grid_model.best_score_"
   ]
  },
  {
   "cell_type": "markdown",
   "metadata": {},
   "source": [
    "##### Using Best Hyper Parameters From GridSearch "
   ]
  },
  {
   "cell_type": "code",
   "execution_count": 86,
   "metadata": {},
   "outputs": [],
   "source": [
    "y_pred = grid_model.predict(X_test_scaled)\n",
    "y_train_pred = grid_model.predict(X_train_scaled)"
   ]
  },
  {
   "cell_type": "code",
   "execution_count": 89,
   "metadata": {},
   "outputs": [
    {
     "data": {
      "text/html": [
       "<div>\n",
       "<style scoped>\n",
       "    .dataframe tbody tr th:only-of-type {\n",
       "        vertical-align: middle;\n",
       "    }\n",
       "\n",
       "    .dataframe tbody tr th {\n",
       "        vertical-align: top;\n",
       "    }\n",
       "\n",
       "    .dataframe thead th {\n",
       "        text-align: right;\n",
       "    }\n",
       "</style>\n",
       "<table border=\"1\" class=\"dataframe\">\n",
       "  <thead>\n",
       "    <tr style=\"text-align: right;\">\n",
       "      <th></th>\n",
       "      <th>GridSearch_train</th>\n",
       "      <th>GridSearch_test</th>\n",
       "    </tr>\n",
       "  </thead>\n",
       "  <tbody>\n",
       "    <tr>\n",
       "      <th>R2</th>\n",
       "      <td>0.889</td>\n",
       "      <td>0.894</td>\n",
       "    </tr>\n",
       "    <tr>\n",
       "      <th>mae</th>\n",
       "      <td>1720.386</td>\n",
       "      <td>1711.612</td>\n",
       "    </tr>\n",
       "    <tr>\n",
       "      <th>mse</th>\n",
       "      <td>6009028.708</td>\n",
       "      <td>5754280.113</td>\n",
       "    </tr>\n",
       "    <tr>\n",
       "      <th>rmse</th>\n",
       "      <td>2451.332</td>\n",
       "      <td>2398.808</td>\n",
       "    </tr>\n",
       "  </tbody>\n",
       "</table>\n",
       "</div>"
      ],
      "text/plain": [
       "      GridSearch_train  GridSearch_test\n",
       "R2               0.889            0.894\n",
       "mae           1720.386         1711.612\n",
       "mse        6009028.708      5754280.113\n",
       "rmse          2451.332         2398.808"
      ]
     },
     "execution_count": 89,
     "metadata": {},
     "output_type": "execute_result"
    }
   ],
   "source": [
    "elastic_gs_score = train_val(y_train, y_train_pred, y_test, y_pred, \"GridSearch\")\n",
    "elastic_gs_score"
   ]
  },
  {
   "cell_type": "code",
   "execution_count": 90,
   "metadata": {},
   "outputs": [
    {
     "data": {
      "text/html": [
       "<div>\n",
       "<style scoped>\n",
       "    .dataframe tbody tr th:only-of-type {\n",
       "        vertical-align: middle;\n",
       "    }\n",
       "\n",
       "    .dataframe tbody tr th {\n",
       "        vertical-align: top;\n",
       "    }\n",
       "\n",
       "    .dataframe thead th {\n",
       "        text-align: right;\n",
       "    }\n",
       "</style>\n",
       "<table border=\"1\" class=\"dataframe\">\n",
       "  <thead>\n",
       "    <tr style=\"text-align: right;\">\n",
       "      <th></th>\n",
       "      <th>linear_train</th>\n",
       "      <th>linear_test</th>\n",
       "      <th>ridge_train</th>\n",
       "      <th>ridge_test</th>\n",
       "      <th>ridge_cv_train</th>\n",
       "      <th>ridge_cv_test</th>\n",
       "      <th>lasso_train</th>\n",
       "      <th>lasso_test</th>\n",
       "      <th>lasso_cv_train</th>\n",
       "      <th>lasso_cv_test</th>\n",
       "      <th>GridSearch_train</th>\n",
       "      <th>GridSearch_test</th>\n",
       "    </tr>\n",
       "  </thead>\n",
       "  <tbody>\n",
       "    <tr>\n",
       "      <th>R2</th>\n",
       "      <td>0.890</td>\n",
       "      <td>0.893</td>\n",
       "      <td>0.890</td>\n",
       "      <td>0.893</td>\n",
       "      <td>0.890</td>\n",
       "      <td>0.893</td>\n",
       "      <td>0.890</td>\n",
       "      <td>0.894</td>\n",
       "      <td>0.889</td>\n",
       "      <td>0.894</td>\n",
       "      <td>0.889</td>\n",
       "      <td>0.894</td>\n",
       "    </tr>\n",
       "    <tr>\n",
       "      <th>mae</th>\n",
       "      <td>1717.578</td>\n",
       "      <td>1716.339</td>\n",
       "      <td>1717.531</td>\n",
       "      <td>1714.093</td>\n",
       "      <td>1717.502</td>\n",
       "      <td>1714.242</td>\n",
       "      <td>1717.502</td>\n",
       "      <td>1712.720</td>\n",
       "      <td>1720.428</td>\n",
       "      <td>1711.566</td>\n",
       "      <td>1720.386</td>\n",
       "      <td>1711.612</td>\n",
       "    </tr>\n",
       "    <tr>\n",
       "      <th>mse</th>\n",
       "      <td>5976635.801</td>\n",
       "      <td>5788441.912</td>\n",
       "      <td>5981292.027</td>\n",
       "      <td>5763154.860</td>\n",
       "      <td>5980348.419</td>\n",
       "      <td>5764474.114</td>\n",
       "      <td>5980348.419</td>\n",
       "      <td>5757068.832</td>\n",
       "      <td>6009663.992</td>\n",
       "      <td>5754179.489</td>\n",
       "      <td>6009028.708</td>\n",
       "      <td>5754280.113</td>\n",
       "    </tr>\n",
       "    <tr>\n",
       "      <th>rmse</th>\n",
       "      <td>2444.716</td>\n",
       "      <td>2405.918</td>\n",
       "      <td>2445.668</td>\n",
       "      <td>2400.657</td>\n",
       "      <td>2445.475</td>\n",
       "      <td>2400.932</td>\n",
       "      <td>2445.475</td>\n",
       "      <td>2399.389</td>\n",
       "      <td>2451.462</td>\n",
       "      <td>2398.787</td>\n",
       "      <td>2451.332</td>\n",
       "      <td>2398.808</td>\n",
       "    </tr>\n",
       "  </tbody>\n",
       "</table>\n",
       "</div>"
      ],
      "text/plain": [
       "      linear_train  linear_test  ridge_train  ridge_test  ridge_cv_train  \\\n",
       "R2           0.890        0.893        0.890       0.893           0.890   \n",
       "mae       1717.578     1716.339     1717.531    1714.093        1717.502   \n",
       "mse    5976635.801  5788441.912  5981292.027 5763154.860     5980348.419   \n",
       "rmse      2444.716     2405.918     2445.668    2400.657        2445.475   \n",
       "\n",
       "      ridge_cv_test  lasso_train  lasso_test  lasso_cv_train  lasso_cv_test  \\\n",
       "R2            0.893        0.890       0.894           0.889          0.894   \n",
       "mae        1714.242     1717.502    1712.720        1720.428       1711.566   \n",
       "mse     5764474.114  5980348.419 5757068.832     6009663.992    5754179.489   \n",
       "rmse       2400.932     2445.475    2399.389        2451.462       2398.787   \n",
       "\n",
       "      GridSearch_train  GridSearch_test  \n",
       "R2               0.889            0.894  \n",
       "mae           1720.386         1711.612  \n",
       "mse        6009028.708      5754280.113  \n",
       "rmse          2451.332         2398.808  "
      ]
     },
     "execution_count": 90,
     "metadata": {},
     "output_type": "execute_result"
    }
   ],
   "source": [
    "pd.concat([linear_score, ridge_score, ridge_cv_scores, lasso_score, lasso_cv_score, elastic_gs_score], axis=1)"
   ]
  },
  {
   "cell_type": "code",
   "execution_count": 91,
   "metadata": {},
   "outputs": [],
   "source": [
    "# best score = lasso_cv_test (0.889)\n",
    "# best model = lasso"
   ]
  },
  {
   "cell_type": "markdown",
   "metadata": {
    "id": "sYyuZQtWmqZO"
   },
   "source": [
    "## 7. Visually Compare Models Performance In a Graph"
   ]
  },
  {
   "cell_type": "markdown",
   "metadata": {},
   "source": [
    "##### Feature Importance with Ridge"
   ]
  },
  {
   "cell_type": "code",
   "execution_count": 92,
   "metadata": {
    "id": "iig18G7zmqZO",
    "scrolled": true
   },
   "outputs": [
    {
     "data": {
      "image/png": "[encoded data removed]",
      "text/plain": [
       "<Figure size 720x3000 with 1 Axes>"
      ]
     },
     "metadata": {},
     "output_type": "display_data"
    },
    {
     "data": {
      "text/plain": [
       "<AxesSubplot:title={'center':'Feature Importances of 152 Features using RidgeCV'}, xlabel='relative coefficient magnitude'>"
      ]
     },
     "execution_count": 92,
     "metadata": {},
     "output_type": "execute_result"
    }
   ],
   "source": [
    "from yellowbrick.model_selection import FeatureImportances\n",
    "from yellowbrick.features import RadViz\n",
    "\n",
    "viz = FeatureImportances(ridge_cv_model, labels=pd.DataFrame(X_train).columns)\n",
    "visualizer = RadViz(size=(720, 3000))\n",
    "viz.fit(X_train, y_train)\n",
    "viz.show()"
   ]
  },
  {
   "cell_type": "markdown",
   "metadata": {},
   "source": [
    "##### Feature Importance with Lasso"
   ]
  },
  {
   "cell_type": "code",
   "execution_count": 93,
   "metadata": {},
   "outputs": [
    {
     "data": {
      "image/png": "[encoded data removed]",
      "text/plain": [
       "<Figure size 720x3000 with 1 Axes>"
      ]
     },
     "metadata": {},
     "output_type": "display_data"
    },
    {
     "data": {
      "text/plain": [
       "<AxesSubplot:title={'center':'Feature Importances of 152 Features using LassoCV'}, xlabel='relative coefficient magnitude'>"
      ]
     },
     "execution_count": 93,
     "metadata": {},
     "output_type": "execute_result"
    }
   ],
   "source": [
    "from yellowbrick.model_selection import FeatureImportances\n",
    "from yellowbrick.features import RadViz\n",
    "\n",
    "viz = FeatureImportances(lasso_cv_model, labels=pd.DataFrame(X_train).columns)\n",
    "visualizer = RadViz(size=(720, 3000))\n",
    "viz.fit(X_train, y_train)\n",
    "viz.show()"
   ]
  }
 ],
 "metadata": {
  "colab": {
   "collapsed_sections": [],
   "name": "modeling_auto_scout_Student_V1.ipynb",
   "provenance": []
  },
  "kernelspec": {
   "display_name": "Python 3 (ipykernel)",
   "language": "python",
   "name": "python3"
  },
  "language_info": {
   "codemirror_mode": {
    "name": "ipython",
    "version": 3
   },
   "file_extension": ".py",
   "mimetype": "text/x-python",
   "name": "python",
   "nbconvert_exporter": "python",
   "pygments_lexer": "ipython3",
   "version": "3.9.12"
  }
 },
 "nbformat": 4,
 "nbformat_minor": 4
}
